{
 "cells": [
  {
   "cell_type": "markdown",
   "metadata": {},
   "source": [
    "## Code for gesture tracking analysis of Zic2 mice.\n",
    "This notebook uses .csv with labels extracted from deeplabcut for zic2 mice analysis.\n",
    "\n",
    "The code usees the session_location parameter to search for the session that the user wants to \n",
    "analyse. those sessions are indicated in session.txt.\n",
    "\n",
    "Overall the code takes the raw matrix of position of each subject and clasiffies 3 types of behaviours:\n",
    "- Approach\n",
    "- Contact\n",
    "- Exploration\n",
    "\n",
    "It computes a series of variables in the raw_matrix such as:\n",
    "- behaviour: __str__ behaviour type.\n",
    "- head_position: 'head_x','head_y': As the midpoint between both ears\n",
    "- vectors: \n",
    "        - x/y_axis_vector: nose head vector\n",
    "        - x/y crikcet_vector: crikcet head vector\n",
    "Angles from head to cricket: Angles are computed in the range [-180,180] degrees. When the cricket is facing directly the mouse, the angle is 0.\n",
    "\n",
    "        - angle_head_cricket: angle in radians\n",
    "        - deg_head_cricket: angle in degrees\n",
    "\n",
    "Other variables:\n",
    "- Distances in px and cm\n",
    "    - distance_px/cm: Distance made by the animal in each time bin. Using the center body label as reference\n",
    "    - distance_head_cricket: Distance from head midpoint to cricket\n",
    "    - diff_head_cricket: Distance change between head and cricket in each time bin.\n",
    "- temporal variables:\n",
    "    - time: Time of each time bin un secons.\n",
    "    - diff_time: time diffence across eah time bin \n",
    "    - speed_cm_s: speed of the mouse on each time bin, taking into account the body postion label\n",
    "    - to_cricket_cm_s: Speed related to diff_head_cricket\n",
    "    - gradient: positive or negative gradient [+1,-1] indicating cricket head approach[-1], cricket head distance increase [-1]\n",
    "    \n",
    "- beahviour_counter : add_behaviour_counter(): To asign an increasing interger value each time there is a behviour change.  \n",
    "\n",
    "The code loops through each session and computes:\n",
    "\n",
    "- behaviour_matrix_df: Agreggated behaviour matrix filtered by the behaviour_thr. \n",
    "                        behaviour_thr determines how long mut a behaviour last to be considered one of the three behaviours.\n",
    "- raw_matrix_df: Raw matrix dataframe with computed variables\n",
    "- subject_list: a list of objects, where each object is an independent subject.\n",
    "\n",
    "\n",
    "Window of analysis: Data is filetered by the ini_time and end_time determined in capture_df.xlsx."
   ]
  },
  {
   "cell_type": "markdown",
   "metadata": {},
   "source": [
    "## Behaviour data preprocessing"
   ]
  },
  {
   "cell_type": "code",
   "execution_count": 2,
   "metadata": {
    "ExecuteTime": {
     "end_time": "2024-01-25T14:39:23.926094Z",
     "start_time": "2024-01-25T14:39:23.922261500Z"
    }
   },
   "outputs": [],
   "source": [
    "# sys.path.append('../../')\n",
    "import pandas as pd\n",
    "from pathlib import Path\n",
    "import numpy as np\n",
    "from os import listdir\n",
    "from os.path import isfile, join,isdir\n",
    "import commons as cm\n",
    "import matplotlib.pyplot as plt"
   ]
  },
  {
   "cell_type": "markdown",
   "metadata": {},
   "source": [
    "### Parameters"
   ]
  },
  {
   "cell_type": "code",
   "execution_count": 3,
   "metadata": {
    "ExecuteTime": {
     "end_time": "2024-01-25T14:40:04.685397900Z",
     "start_time": "2024-01-25T14:40:04.682264300Z"
    }
   },
   "outputs": [],
   "source": [
    "# Location of deep lab cut processed data\n",
    "session_location = Path(r\"dlc_preprocessed_data\\videos\") \n",
    "\n",
    "data_path=Path(r\"analysed/\") #folder whre csv will be saved\n",
    "model_name='DLC_resnet50_zic2Nov29shuffle1_850000' #deep lab cut model used for analysis\n",
    "\n",
    "arena=(50,50) # arena size in cm\n",
    "pixels_cm=4.11\n",
    "# approach='to_cricket_cm_s<7 & gradient<0 &\\\n",
    "#           distance_head_cricket_cm>4 & \\\n",
    "#           speed_cm_s>10 & \\\n",
    "#           deg_head_cricket>-45 & deg_head_cricket<45'\n",
    "\n",
    "to_hz=16 # downsample all videos to 16 hz\n",
    "approach='to_cricket_cm_s<-7 & gradient<0 &\\\n",
    "          distance_head_cricket_cm>4.5 & \\\n",
    "          speed_cm_s>10'\n",
    "contact='distance_head_cricket_cm<=4.5'\n",
    "behaviour_thr=0.1#minimum time to be considered an exploration or an approach\n",
    "likelihood_thr=0.26\n",
    "behaviour_color={'exploration':'green','approach':'blue','contact':'red'}"
   ]
  },
  {
   "cell_type": "markdown",
   "metadata": {},
   "source": [
    "Get the list of directories we want to analyse and copy paste the information in sessions.tx"
   ]
  },
  {
   "cell_type": "code",
   "execution_count": 4,
   "metadata": {},
   "outputs": [
    {
     "name": "stdout",
     "output_type": "stream",
     "text": [
      "f_26_day_2_trial_1_20230607_101443\n",
      "f_26_day_2_trial_2_20230607_104447\n",
      "f_26_day_2_trial_3_20230607_110101\n",
      "f_28_day_2_trial_1_20230607_103612\n",
      "f_28_day_2_trial_2_20230607_105431\n",
      "f_28_day_2_trial_3_20230607_111434\n",
      "f_479_day_2_trial_1_20230804_121649\n",
      "f_479_day_2_trial_2_20230804_123322\n",
      "f_479_day_2_trial_3_20230804_125105\n",
      "f_623_day_2_trial_1_20230804_120916\n",
      "f_623_day_2_trial_2_20230804_122540\n",
      "f_623_day_2_trial_3_20230804_124239\n",
      "m_483_day_2_trial_1_20230802_155743\n",
      "m_483_day_2_trial_2_20230802_162029\n",
      "m_483_day_2_trial_3_20230802_163726\n",
      "m_61_day_2_trial_1_20230613_123611\n",
      "m_61_day_2_trial_2_20230613_130118\n",
      "m_61_day_2_trial_3_20230613_132512\n",
      "m_629_day_2_trial_1_20230802_155252\n",
      "m_629_day_2_trial_2_20230802_161542\n",
      "m_629_day_2_trial_3_20230802_163229\n",
      "m_62_day_2_trial_1_20230613_124154\n",
      "m_62_day_2_trial_2_20230613_130818\n",
      "m_62_day_2_trial_3_20230613_133037\n",
      "m_630_day_2_trial_1_20230802_151715\n",
      "m_630_day_2_trial_2_20230802_152945\n",
      "m_630_day_2_trial_3_20230802_154015\n",
      "m_63_day_2_trial_1_20230613_125045\n",
      "m_63_day_2_trial_2_20230613_131316\n",
      "m_63_day_2_trial_3_20230613_133715\n",
      "m_64_day_2_trial_1_20230613_125509\n",
      "m_64_day_2_trial_2_20230613_131943\n",
      "m_64_day_2_trial_3_20230613_134357\n",
      "m_90_day_2_trial_1_20230615_131842\n",
      "m_90_day_2_trial_2_20230615_134001\n",
      "m_90_day_2_trial_3_20230615_135811\n",
      "m_91_day_2_trial_1_20230615_132353\n",
      "m_91_day_2_trial_2_20230615_134306\n",
      "m_91_day_2_trial_3_20230615_140210\n",
      "m_92_day_2_trial_1_20230615_133139\n",
      "m_92_day_2_trial_2_20230615_134640\n",
      "m_92_day_2_trial_3_20230615_140518\n",
      "m_93_day_2_trial_1_20230615_132712\n",
      "m_93_day_2_trial_2_20230615_135115\n",
      "m_93_day_2_trial_3_20230615_140842\n",
      "m_93_day_3_trial_4_20230616_164742\n",
      "m_94_day_2_trial_1_20230615_133506\n",
      "m_94_day_2_trial_2_20230615_135510\n",
      "m_94_day_2_trial_3_20230615_141123\n",
      "m_98_day_2_trial_1_20230802_152612\n",
      "m_98_day_2_trial_2_20230802_153543\n",
      "m_98_day_2_trial_3_20230802_154745\n"
     ]
    }
   ],
   "source": [
    "sessions=[]\n",
    "\n",
    "onlyfiles =[file.replace('.avi','') for file \n",
    "                        in [f for f in listdir(session_location) if isfile(join(session_location, f))]\n",
    "                        if '.avi' in file]\n",
    "            \n",
    "for dir in onlyfiles:\n",
    " print (dir,flush=True)"
   ]
  },
  {
   "cell_type": "markdown",
   "metadata": {},
   "source": [
    "### Extract the path of the desired experiments\n"
   ]
  },
  {
   "cell_type": "code",
   "execution_count": 5,
   "metadata": {
    "ExecuteTime": {
     "end_time": "2024-01-25T14:40:07.239362500Z",
     "start_time": "2024-01-25T14:40:07.225785400Z"
    }
   },
   "outputs": [
    {
     "data": {
      "text/plain": [
       "[WindowsPath('Z:/lab/escritorio/projects/gesture_tracking/zic2_publication_code/zic2/dlc_preprocessed_data/videos/f_26_day_2_trial_1_20230607_101443DLC_resnet50_zic2Nov29shuffle1_850000_filtered'),\n",
       " WindowsPath('Z:/lab/escritorio/projects/gesture_tracking/zic2_publication_code/zic2/dlc_preprocessed_data/videos/f_26_day_2_trial_2_20230607_104447DLC_resnet50_zic2Nov29shuffle1_850000_filtered'),\n",
       " WindowsPath('Z:/lab/escritorio/projects/gesture_tracking/zic2_publication_code/zic2/dlc_preprocessed_data/videos/f_26_day_2_trial_3_20230607_110101DLC_resnet50_zic2Nov29shuffle1_850000_filtered'),\n",
       " WindowsPath('Z:/lab/escritorio/projects/gesture_tracking/zic2_publication_code/zic2/dlc_preprocessed_data/videos/f_28_day_2_trial_1_20230607_103612DLC_resnet50_zic2Nov29shuffle1_850000_filtered'),\n",
       " WindowsPath('Z:/lab/escritorio/projects/gesture_tracking/zic2_publication_code/zic2/dlc_preprocessed_data/videos/f_28_day_2_trial_2_20230607_105431DLC_resnet50_zic2Nov29shuffle1_850000_filtered'),\n",
       " WindowsPath('Z:/lab/escritorio/projects/gesture_tracking/zic2_publication_code/zic2/dlc_preprocessed_data/videos/f_28_day_2_trial_3_20230607_111434DLC_resnet50_zic2Nov29shuffle1_850000_filtered'),\n",
       " WindowsPath('Z:/lab/escritorio/projects/gesture_tracking/zic2_publication_code/zic2/dlc_preprocessed_data/videos/f_479_day_2_trial_1_20230804_121649DLC_resnet50_zic2Nov29shuffle1_850000_filtered'),\n",
       " WindowsPath('Z:/lab/escritorio/projects/gesture_tracking/zic2_publication_code/zic2/dlc_preprocessed_data/videos/f_479_day_2_trial_2_20230804_123322DLC_resnet50_zic2Nov29shuffle1_850000_filtered'),\n",
       " WindowsPath('Z:/lab/escritorio/projects/gesture_tracking/zic2_publication_code/zic2/dlc_preprocessed_data/videos/f_479_day_2_trial_3_20230804_125105DLC_resnet50_zic2Nov29shuffle1_850000_filtered'),\n",
       " WindowsPath('Z:/lab/escritorio/projects/gesture_tracking/zic2_publication_code/zic2/dlc_preprocessed_data/videos/f_623_day_2_trial_1_20230804_120916DLC_resnet50_zic2Nov29shuffle1_850000_filtered'),\n",
       " WindowsPath('Z:/lab/escritorio/projects/gesture_tracking/zic2_publication_code/zic2/dlc_preprocessed_data/videos/f_623_day_2_trial_2_20230804_122540DLC_resnet50_zic2Nov29shuffle1_850000_filtered'),\n",
       " WindowsPath('Z:/lab/escritorio/projects/gesture_tracking/zic2_publication_code/zic2/dlc_preprocessed_data/videos/f_623_day_2_trial_3_20230804_124239DLC_resnet50_zic2Nov29shuffle1_850000_filtered'),\n",
       " WindowsPath('Z:/lab/escritorio/projects/gesture_tracking/zic2_publication_code/zic2/dlc_preprocessed_data/videos/m_483_day_2_trial_1_20230802_155743DLC_resnet50_zic2Nov29shuffle1_850000_filtered'),\n",
       " WindowsPath('Z:/lab/escritorio/projects/gesture_tracking/zic2_publication_code/zic2/dlc_preprocessed_data/videos/m_483_day_2_trial_2_20230802_162029DLC_resnet50_zic2Nov29shuffle1_850000_filtered'),\n",
       " WindowsPath('Z:/lab/escritorio/projects/gesture_tracking/zic2_publication_code/zic2/dlc_preprocessed_data/videos/m_483_day_2_trial_3_20230802_163726DLC_resnet50_zic2Nov29shuffle1_850000_filtered'),\n",
       " WindowsPath('Z:/lab/escritorio/projects/gesture_tracking/zic2_publication_code/zic2/dlc_preprocessed_data/videos/m_61_day_2_trial_1_20230613_123611DLC_resnet50_zic2Nov29shuffle1_850000_filtered'),\n",
       " WindowsPath('Z:/lab/escritorio/projects/gesture_tracking/zic2_publication_code/zic2/dlc_preprocessed_data/videos/m_61_day_2_trial_2_20230613_130118DLC_resnet50_zic2Nov29shuffle1_850000_filtered'),\n",
       " WindowsPath('Z:/lab/escritorio/projects/gesture_tracking/zic2_publication_code/zic2/dlc_preprocessed_data/videos/m_61_day_2_trial_3_20230613_132512DLC_resnet50_zic2Nov29shuffle1_850000_filtered'),\n",
       " WindowsPath('Z:/lab/escritorio/projects/gesture_tracking/zic2_publication_code/zic2/dlc_preprocessed_data/videos/m_629_day_2_trial_1_20230802_155252DLC_resnet50_zic2Nov29shuffle1_850000_filtered'),\n",
       " WindowsPath('Z:/lab/escritorio/projects/gesture_tracking/zic2_publication_code/zic2/dlc_preprocessed_data/videos/m_629_day_2_trial_2_20230802_161542DLC_resnet50_zic2Nov29shuffle1_850000_filtered'),\n",
       " WindowsPath('Z:/lab/escritorio/projects/gesture_tracking/zic2_publication_code/zic2/dlc_preprocessed_data/videos/m_629_day_2_trial_3_20230802_163229DLC_resnet50_zic2Nov29shuffle1_850000_filtered'),\n",
       " WindowsPath('Z:/lab/escritorio/projects/gesture_tracking/zic2_publication_code/zic2/dlc_preprocessed_data/videos/m_62_day_2_trial_1_20230613_124154DLC_resnet50_zic2Nov29shuffle1_850000_filtered'),\n",
       " WindowsPath('Z:/lab/escritorio/projects/gesture_tracking/zic2_publication_code/zic2/dlc_preprocessed_data/videos/m_62_day_2_trial_2_20230613_130818DLC_resnet50_zic2Nov29shuffle1_850000_filtered'),\n",
       " WindowsPath('Z:/lab/escritorio/projects/gesture_tracking/zic2_publication_code/zic2/dlc_preprocessed_data/videos/m_62_day_2_trial_3_20230613_133037DLC_resnet50_zic2Nov29shuffle1_850000_filtered'),\n",
       " WindowsPath('Z:/lab/escritorio/projects/gesture_tracking/zic2_publication_code/zic2/dlc_preprocessed_data/videos/m_630_day_2_trial_1_20230802_151715DLC_resnet50_zic2Nov29shuffle1_850000_filtered'),\n",
       " WindowsPath('Z:/lab/escritorio/projects/gesture_tracking/zic2_publication_code/zic2/dlc_preprocessed_data/videos/m_630_day_2_trial_2_20230802_152945DLC_resnet50_zic2Nov29shuffle1_850000_filtered'),\n",
       " WindowsPath('Z:/lab/escritorio/projects/gesture_tracking/zic2_publication_code/zic2/dlc_preprocessed_data/videos/m_630_day_2_trial_3_20230802_154015DLC_resnet50_zic2Nov29shuffle1_850000_filtered'),\n",
       " WindowsPath('Z:/lab/escritorio/projects/gesture_tracking/zic2_publication_code/zic2/dlc_preprocessed_data/videos/m_63_day_2_trial_1_20230613_125045DLC_resnet50_zic2Nov29shuffle1_850000_filtered'),\n",
       " WindowsPath('Z:/lab/escritorio/projects/gesture_tracking/zic2_publication_code/zic2/dlc_preprocessed_data/videos/m_63_day_2_trial_2_20230613_131316DLC_resnet50_zic2Nov29shuffle1_850000_filtered'),\n",
       " WindowsPath('Z:/lab/escritorio/projects/gesture_tracking/zic2_publication_code/zic2/dlc_preprocessed_data/videos/m_63_day_2_trial_3_20230613_133715DLC_resnet50_zic2Nov29shuffle1_850000_filtered'),\n",
       " WindowsPath('Z:/lab/escritorio/projects/gesture_tracking/zic2_publication_code/zic2/dlc_preprocessed_data/videos/m_64_day_2_trial_1_20230613_125509DLC_resnet50_zic2Nov29shuffle1_850000_filtered'),\n",
       " WindowsPath('Z:/lab/escritorio/projects/gesture_tracking/zic2_publication_code/zic2/dlc_preprocessed_data/videos/m_64_day_2_trial_2_20230613_131943DLC_resnet50_zic2Nov29shuffle1_850000_filtered'),\n",
       " WindowsPath('Z:/lab/escritorio/projects/gesture_tracking/zic2_publication_code/zic2/dlc_preprocessed_data/videos/m_64_day_2_trial_3_20230613_134357DLC_resnet50_zic2Nov29shuffle1_850000_filtered'),\n",
       " WindowsPath('Z:/lab/escritorio/projects/gesture_tracking/zic2_publication_code/zic2/dlc_preprocessed_data/videos/m_90_day_2_trial_1_20230615_131842DLC_resnet50_zic2Nov29shuffle1_850000_filtered'),\n",
       " WindowsPath('Z:/lab/escritorio/projects/gesture_tracking/zic2_publication_code/zic2/dlc_preprocessed_data/videos/m_90_day_2_trial_2_20230615_134001DLC_resnet50_zic2Nov29shuffle1_850000_filtered'),\n",
       " WindowsPath('Z:/lab/escritorio/projects/gesture_tracking/zic2_publication_code/zic2/dlc_preprocessed_data/videos/m_90_day_2_trial_3_20230615_135811DLC_resnet50_zic2Nov29shuffle1_850000_filtered'),\n",
       " WindowsPath('Z:/lab/escritorio/projects/gesture_tracking/zic2_publication_code/zic2/dlc_preprocessed_data/videos/m_91_day_2_trial_1_20230615_132353DLC_resnet50_zic2Nov29shuffle1_850000_filtered'),\n",
       " WindowsPath('Z:/lab/escritorio/projects/gesture_tracking/zic2_publication_code/zic2/dlc_preprocessed_data/videos/m_91_day_2_trial_2_20230615_134306DLC_resnet50_zic2Nov29shuffle1_850000_filtered'),\n",
       " WindowsPath('Z:/lab/escritorio/projects/gesture_tracking/zic2_publication_code/zic2/dlc_preprocessed_data/videos/m_91_day_2_trial_3_20230615_140210DLC_resnet50_zic2Nov29shuffle1_850000_filtered'),\n",
       " WindowsPath('Z:/lab/escritorio/projects/gesture_tracking/zic2_publication_code/zic2/dlc_preprocessed_data/videos/m_92_day_2_trial_1_20230615_133139DLC_resnet50_zic2Nov29shuffle1_850000_filtered'),\n",
       " WindowsPath('Z:/lab/escritorio/projects/gesture_tracking/zic2_publication_code/zic2/dlc_preprocessed_data/videos/m_92_day_2_trial_2_20230615_134640DLC_resnet50_zic2Nov29shuffle1_850000_filtered'),\n",
       " WindowsPath('Z:/lab/escritorio/projects/gesture_tracking/zic2_publication_code/zic2/dlc_preprocessed_data/videos/m_92_day_2_trial_3_20230615_140518DLC_resnet50_zic2Nov29shuffle1_850000_filtered'),\n",
       " WindowsPath('Z:/lab/escritorio/projects/gesture_tracking/zic2_publication_code/zic2/dlc_preprocessed_data/videos/m_93_day_2_trial_1_20230615_132712DLC_resnet50_zic2Nov29shuffle1_850000_filtered'),\n",
       " WindowsPath('Z:/lab/escritorio/projects/gesture_tracking/zic2_publication_code/zic2/dlc_preprocessed_data/videos/m_93_day_2_trial_2_20230615_135115DLC_resnet50_zic2Nov29shuffle1_850000_filtered'),\n",
       " WindowsPath('Z:/lab/escritorio/projects/gesture_tracking/zic2_publication_code/zic2/dlc_preprocessed_data/videos/m_93_day_2_trial_3_20230615_140842DLC_resnet50_zic2Nov29shuffle1_850000_filtered'),\n",
       " WindowsPath('Z:/lab/escritorio/projects/gesture_tracking/zic2_publication_code/zic2/dlc_preprocessed_data/videos/m_94_day_2_trial_1_20230615_133506DLC_resnet50_zic2Nov29shuffle1_850000_filtered'),\n",
       " WindowsPath('Z:/lab/escritorio/projects/gesture_tracking/zic2_publication_code/zic2/dlc_preprocessed_data/videos/m_94_day_2_trial_2_20230615_135510DLC_resnet50_zic2Nov29shuffle1_850000_filtered'),\n",
       " WindowsPath('Z:/lab/escritorio/projects/gesture_tracking/zic2_publication_code/zic2/dlc_preprocessed_data/videos/m_94_day_2_trial_3_20230615_141123DLC_resnet50_zic2Nov29shuffle1_850000_filtered'),\n",
       " WindowsPath('Z:/lab/escritorio/projects/gesture_tracking/zic2_publication_code/zic2/dlc_preprocessed_data/videos/m_98_day_2_trial_1_20230802_152612DLC_resnet50_zic2Nov29shuffle1_850000_filtered'),\n",
       " WindowsPath('Z:/lab/escritorio/projects/gesture_tracking/zic2_publication_code/zic2/dlc_preprocessed_data/videos/m_98_day_2_trial_2_20230802_153543DLC_resnet50_zic2Nov29shuffle1_850000_filtered'),\n",
       " WindowsPath('Z:/lab/escritorio/projects/gesture_tracking/zic2_publication_code/zic2/dlc_preprocessed_data/videos/m_98_day_2_trial_3_20230802_154745DLC_resnet50_zic2Nov29shuffle1_850000_filtered')]"
      ]
     },
     "execution_count": 5,
     "metadata": {},
     "output_type": "execute_result"
    }
   ],
   "source": [
    "### Do the analysis\n",
    "with open('session.txt','r') as f:\n",
    "    for session in f:\n",
    "            sessions.append(session.replace('\\n',''))\n",
    "f.close()\n",
    "\n",
    "session_loc_list=[session_location.joinpath(session+model_name+'_filtered') for session in sessions ]\n",
    "session_loc_list\n"
   ]
  },
  {
   "cell_type": "markdown",
   "metadata": {},
   "source": [
    "### Load window of analysis dataframe\n",
    "This dataframe contains the timestamps to cut the regions of interest for each session"
   ]
  },
  {
   "cell_type": "code",
   "execution_count": 6,
   "metadata": {},
   "outputs": [
    {
     "data": {
      "text/html": [
       "<div>\n",
       "<style scoped>\n",
       "    .dataframe tbody tr th:only-of-type {\n",
       "        vertical-align: middle;\n",
       "    }\n",
       "\n",
       "    .dataframe tbody tr th {\n",
       "        vertical-align: top;\n",
       "    }\n",
       "\n",
       "    .dataframe thead th {\n",
       "        text-align: right;\n",
       "    }\n",
       "</style>\n",
       "<table border=\"1\" class=\"dataframe\">\n",
       "  <thead>\n",
       "    <tr style=\"text-align: right;\">\n",
       "      <th></th>\n",
       "      <th>session</th>\n",
       "      <th>sex</th>\n",
       "      <th>mouse_num</th>\n",
       "      <th>day</th>\n",
       "      <th>trial</th>\n",
       "      <th>date</th>\n",
       "      <th>capture_ini</th>\n",
       "      <th>capture_end</th>\n",
       "      <th>capture_final</th>\n",
       "      <th>frame_rate</th>\n",
       "      <th>behaviour_thr</th>\n",
       "    </tr>\n",
       "  </thead>\n",
       "  <tbody>\n",
       "    <tr>\n",
       "      <th>0</th>\n",
       "      <td>f_26_day_1_trial_1_20230606_160648</td>\n",
       "      <td>f</td>\n",
       "      <td>26</td>\n",
       "      <td>1</td>\n",
       "      <td>1</td>\n",
       "      <td>2023-06-06 16:06:48</td>\n",
       "      <td>190</td>\n",
       "      <td>13633</td>\n",
       "      <td>13779</td>\n",
       "      <td>40</td>\n",
       "      <td>0.1</td>\n",
       "    </tr>\n",
       "    <tr>\n",
       "      <th>1</th>\n",
       "      <td>f_26_day_1_trial_2_20230606_164028</td>\n",
       "      <td>f</td>\n",
       "      <td>26</td>\n",
       "      <td>1</td>\n",
       "      <td>2</td>\n",
       "      <td>2023-06-06 16:40:28</td>\n",
       "      <td>16</td>\n",
       "      <td>1960</td>\n",
       "      <td>2027</td>\n",
       "      <td>16</td>\n",
       "      <td>0.1</td>\n",
       "    </tr>\n",
       "    <tr>\n",
       "      <th>2</th>\n",
       "      <td>f_26_day_1_trial_3_20230606_170647</td>\n",
       "      <td>f</td>\n",
       "      <td>26</td>\n",
       "      <td>1</td>\n",
       "      <td>3</td>\n",
       "      <td>2023-06-06 17:06:47</td>\n",
       "      <td>40</td>\n",
       "      <td>2898</td>\n",
       "      <td>3098</td>\n",
       "      <td>40</td>\n",
       "      <td>0.1</td>\n",
       "    </tr>\n",
       "    <tr>\n",
       "      <th>3</th>\n",
       "      <td>f_26_day_2_trial_1_20230607_101443</td>\n",
       "      <td>f</td>\n",
       "      <td>26</td>\n",
       "      <td>2</td>\n",
       "      <td>1</td>\n",
       "      <td>2023-06-07 10:14:43</td>\n",
       "      <td>144</td>\n",
       "      <td>3056</td>\n",
       "      <td>3056</td>\n",
       "      <td>16</td>\n",
       "      <td>0.1</td>\n",
       "    </tr>\n",
       "    <tr>\n",
       "      <th>4</th>\n",
       "      <td>f_26_day_2_trial_2_20230607_104447</td>\n",
       "      <td>f</td>\n",
       "      <td>26</td>\n",
       "      <td>2</td>\n",
       "      <td>2</td>\n",
       "      <td>2023-06-07 10:44:47</td>\n",
       "      <td>90</td>\n",
       "      <td>1383</td>\n",
       "      <td>1383</td>\n",
       "      <td>16</td>\n",
       "      <td>0.1</td>\n",
       "    </tr>\n",
       "  </tbody>\n",
       "</table>\n",
       "</div>"
      ],
      "text/plain": [
       "                              session sex mouse_num  day  trial  \\\n",
       "0  f_26_day_1_trial_1_20230606_160648   f        26    1      1   \n",
       "1  f_26_day_1_trial_2_20230606_164028   f        26    1      2   \n",
       "2  f_26_day_1_trial_3_20230606_170647   f        26    1      3   \n",
       "3  f_26_day_2_trial_1_20230607_101443   f        26    2      1   \n",
       "4  f_26_day_2_trial_2_20230607_104447   f        26    2      2   \n",
       "\n",
       "                 date  capture_ini  capture_end  capture_final  frame_rate  \\\n",
       "0 2023-06-06 16:06:48          190        13633          13779          40   \n",
       "1 2023-06-06 16:40:28           16         1960           2027          16   \n",
       "2 2023-06-06 17:06:47           40         2898           3098          40   \n",
       "3 2023-06-07 10:14:43          144         3056           3056          16   \n",
       "4 2023-06-07 10:44:47           90         1383           1383          16   \n",
       "\n",
       "   behaviour_thr  \n",
       "0            0.1  \n",
       "1            0.1  \n",
       "2            0.1  \n",
       "3            0.1  \n",
       "4            0.1  "
      ]
     },
     "metadata": {},
     "output_type": "display_data"
    },
    {
     "data": {
      "text/plain": [
       "'length: 193'"
      ]
     },
     "metadata": {},
     "output_type": "display_data"
    }
   ],
   "source": [
    "capture_df=pd.read_excel('capture_df.xlsx')\n",
    "capture_df=capture_df.astype({'capture_ini':'Int64',\n",
    "                   'capture_end':'Int64',\n",
    "                   'capture_final':'Int64'},errors='ignore')\n",
    "capture_df['behaviour_thr']=behaviour_thr\n",
    "display(capture_df.head(),'length: '+ str(len(capture_df)))\n"
   ]
  },
  {
   "cell_type": "markdown",
   "metadata": {},
   "source": [
    "### Load phenotype dataframe\n",
    "Dataframe with the phenotype of each number each mouse\n"
   ]
  },
  {
   "cell_type": "code",
   "execution_count": 7,
   "metadata": {},
   "outputs": [
    {
     "data": {
      "text/html": [
       "<div>\n",
       "<style scoped>\n",
       "    .dataframe tbody tr th:only-of-type {\n",
       "        vertical-align: middle;\n",
       "    }\n",
       "\n",
       "    .dataframe tbody tr th {\n",
       "        vertical-align: top;\n",
       "    }\n",
       "\n",
       "    .dataframe thead th {\n",
       "        text-align: right;\n",
       "    }\n",
       "</style>\n",
       "<table border=\"1\" class=\"dataframe\">\n",
       "  <thead>\n",
       "    <tr style=\"text-align: right;\">\n",
       "      <th></th>\n",
       "      <th>mouse_num</th>\n",
       "      <th>phenotype</th>\n",
       "      <th>sex</th>\n",
       "    </tr>\n",
       "  </thead>\n",
       "  <tbody>\n",
       "    <tr>\n",
       "      <th>0</th>\n",
       "      <td>26</td>\n",
       "      <td>wt</td>\n",
       "      <td>f</td>\n",
       "    </tr>\n",
       "    <tr>\n",
       "      <th>1</th>\n",
       "      <td>27</td>\n",
       "      <td>tg</td>\n",
       "      <td>f</td>\n",
       "    </tr>\n",
       "    <tr>\n",
       "      <th>2</th>\n",
       "      <td>28</td>\n",
       "      <td>wt</td>\n",
       "      <td>f</td>\n",
       "    </tr>\n",
       "    <tr>\n",
       "      <th>3</th>\n",
       "      <td>479</td>\n",
       "      <td>tg</td>\n",
       "      <td>f</td>\n",
       "    </tr>\n",
       "    <tr>\n",
       "      <th>4</th>\n",
       "      <td>623</td>\n",
       "      <td>wt</td>\n",
       "      <td>f</td>\n",
       "    </tr>\n",
       "  </tbody>\n",
       "</table>\n",
       "</div>"
      ],
      "text/plain": [
       "  mouse_num phenotype sex\n",
       "0        26        wt   f\n",
       "1        27        tg   f\n",
       "2        28        wt   f\n",
       "3       479        tg   f\n",
       "4       623        wt   f"
      ]
     },
     "execution_count": 7,
     "metadata": {},
     "output_type": "execute_result"
    }
   ],
   "source": [
    "phenotype_df=pd.read_excel('phenotype_df.xlsx')\n",
    "phenotype_df.head()"
   ]
  },
  {
   "cell_type": "markdown",
   "metadata": {},
   "source": [
    "### Lests merge de datafarames"
   ]
  },
  {
   "cell_type": "code",
   "execution_count": 8,
   "metadata": {},
   "outputs": [
    {
     "data": {
      "text/html": [
       "<div>\n",
       "<style scoped>\n",
       "    .dataframe tbody tr th:only-of-type {\n",
       "        vertical-align: middle;\n",
       "    }\n",
       "\n",
       "    .dataframe tbody tr th {\n",
       "        vertical-align: top;\n",
       "    }\n",
       "\n",
       "    .dataframe thead th {\n",
       "        text-align: right;\n",
       "    }\n",
       "</style>\n",
       "<table border=\"1\" class=\"dataframe\">\n",
       "  <thead>\n",
       "    <tr style=\"text-align: right;\">\n",
       "      <th></th>\n",
       "      <th>session</th>\n",
       "      <th>sex</th>\n",
       "      <th>mouse_num</th>\n",
       "      <th>day</th>\n",
       "      <th>trial</th>\n",
       "      <th>date</th>\n",
       "      <th>capture_ini</th>\n",
       "      <th>capture_end</th>\n",
       "      <th>capture_final</th>\n",
       "      <th>frame_rate</th>\n",
       "      <th>behaviour_thr</th>\n",
       "      <th>phenotype</th>\n",
       "    </tr>\n",
       "  </thead>\n",
       "  <tbody>\n",
       "    <tr>\n",
       "      <th>0</th>\n",
       "      <td>f_26_day_1_trial_1_20230606_160648</td>\n",
       "      <td>f</td>\n",
       "      <td>26</td>\n",
       "      <td>1</td>\n",
       "      <td>1</td>\n",
       "      <td>2023-06-06 16:06:48</td>\n",
       "      <td>190</td>\n",
       "      <td>13633</td>\n",
       "      <td>13779</td>\n",
       "      <td>40</td>\n",
       "      <td>0.1</td>\n",
       "      <td>wt</td>\n",
       "    </tr>\n",
       "    <tr>\n",
       "      <th>1</th>\n",
       "      <td>f_26_day_1_trial_2_20230606_164028</td>\n",
       "      <td>f</td>\n",
       "      <td>26</td>\n",
       "      <td>1</td>\n",
       "      <td>2</td>\n",
       "      <td>2023-06-06 16:40:28</td>\n",
       "      <td>16</td>\n",
       "      <td>1960</td>\n",
       "      <td>2027</td>\n",
       "      <td>16</td>\n",
       "      <td>0.1</td>\n",
       "      <td>wt</td>\n",
       "    </tr>\n",
       "    <tr>\n",
       "      <th>2</th>\n",
       "      <td>f_26_day_1_trial_3_20230606_170647</td>\n",
       "      <td>f</td>\n",
       "      <td>26</td>\n",
       "      <td>1</td>\n",
       "      <td>3</td>\n",
       "      <td>2023-06-06 17:06:47</td>\n",
       "      <td>40</td>\n",
       "      <td>2898</td>\n",
       "      <td>3098</td>\n",
       "      <td>40</td>\n",
       "      <td>0.1</td>\n",
       "      <td>wt</td>\n",
       "    </tr>\n",
       "    <tr>\n",
       "      <th>3</th>\n",
       "      <td>f_26_day_2_trial_1_20230607_101443</td>\n",
       "      <td>f</td>\n",
       "      <td>26</td>\n",
       "      <td>2</td>\n",
       "      <td>1</td>\n",
       "      <td>2023-06-07 10:14:43</td>\n",
       "      <td>144</td>\n",
       "      <td>3056</td>\n",
       "      <td>3056</td>\n",
       "      <td>16</td>\n",
       "      <td>0.1</td>\n",
       "      <td>wt</td>\n",
       "    </tr>\n",
       "    <tr>\n",
       "      <th>4</th>\n",
       "      <td>f_26_day_2_trial_2_20230607_104447</td>\n",
       "      <td>f</td>\n",
       "      <td>26</td>\n",
       "      <td>2</td>\n",
       "      <td>2</td>\n",
       "      <td>2023-06-07 10:44:47</td>\n",
       "      <td>90</td>\n",
       "      <td>1383</td>\n",
       "      <td>1383</td>\n",
       "      <td>16</td>\n",
       "      <td>0.1</td>\n",
       "      <td>wt</td>\n",
       "    </tr>\n",
       "  </tbody>\n",
       "</table>\n",
       "</div>"
      ],
      "text/plain": [
       "                              session sex mouse_num  day  trial  \\\n",
       "0  f_26_day_1_trial_1_20230606_160648   f        26    1      1   \n",
       "1  f_26_day_1_trial_2_20230606_164028   f        26    1      2   \n",
       "2  f_26_day_1_trial_3_20230606_170647   f        26    1      3   \n",
       "3  f_26_day_2_trial_1_20230607_101443   f        26    2      1   \n",
       "4  f_26_day_2_trial_2_20230607_104447   f        26    2      2   \n",
       "\n",
       "                 date  capture_ini  capture_end  capture_final  frame_rate  \\\n",
       "0 2023-06-06 16:06:48          190        13633          13779          40   \n",
       "1 2023-06-06 16:40:28           16         1960           2027          16   \n",
       "2 2023-06-06 17:06:47           40         2898           3098          40   \n",
       "3 2023-06-07 10:14:43          144         3056           3056          16   \n",
       "4 2023-06-07 10:44:47           90         1383           1383          16   \n",
       "\n",
       "   behaviour_thr phenotype  \n",
       "0            0.1        wt  \n",
       "1            0.1        wt  \n",
       "2            0.1        wt  \n",
       "3            0.1        wt  \n",
       "4            0.1        wt  "
      ]
     },
     "metadata": {},
     "output_type": "display_data"
    }
   ],
   "source": [
    "capture_df=capture_df.merge(phenotype_df.loc[:,['mouse_num','phenotype']],on='mouse_num',how='inner')\n",
    "display(capture_df.head())"
   ]
  },
  {
   "cell_type": "code",
   "execution_count": 9,
   "metadata": {},
   "outputs": [
    {
     "data": {
      "text/html": [
       "<div>\n",
       "<style scoped>\n",
       "    .dataframe tbody tr th:only-of-type {\n",
       "        vertical-align: middle;\n",
       "    }\n",
       "\n",
       "    .dataframe tbody tr th {\n",
       "        vertical-align: top;\n",
       "    }\n",
       "\n",
       "    .dataframe thead th {\n",
       "        text-align: right;\n",
       "    }\n",
       "</style>\n",
       "<table border=\"1\" class=\"dataframe\">\n",
       "  <thead>\n",
       "    <tr style=\"text-align: right;\">\n",
       "      <th></th>\n",
       "      <th></th>\n",
       "      <th>count</th>\n",
       "    </tr>\n",
       "    <tr>\n",
       "      <th>phenotype</th>\n",
       "      <th>mouse_num</th>\n",
       "      <th></th>\n",
       "    </tr>\n",
       "  </thead>\n",
       "  <tbody>\n",
       "    <tr>\n",
       "      <th rowspan=\"11\" valign=\"top\">tg</th>\n",
       "      <th>27</th>\n",
       "      <td>3</td>\n",
       "    </tr>\n",
       "    <tr>\n",
       "      <th>479</th>\n",
       "      <td>6</td>\n",
       "    </tr>\n",
       "    <tr>\n",
       "      <th>487</th>\n",
       "      <td>4</td>\n",
       "    </tr>\n",
       "    <tr>\n",
       "      <th>62</th>\n",
       "      <td>3</td>\n",
       "    </tr>\n",
       "    <tr>\n",
       "      <th>63</th>\n",
       "      <td>1</td>\n",
       "    </tr>\n",
       "    <tr>\n",
       "      <th>801</th>\n",
       "      <td>5</td>\n",
       "    </tr>\n",
       "    <tr>\n",
       "      <th>88</th>\n",
       "      <td>2</td>\n",
       "    </tr>\n",
       "    <tr>\n",
       "      <th>91</th>\n",
       "      <td>3</td>\n",
       "    </tr>\n",
       "    <tr>\n",
       "      <th>93</th>\n",
       "      <td>4</td>\n",
       "    </tr>\n",
       "    <tr>\n",
       "      <th>94</th>\n",
       "      <td>3</td>\n",
       "    </tr>\n",
       "    <tr>\n",
       "      <th>98</th>\n",
       "      <td>5</td>\n",
       "    </tr>\n",
       "    <tr>\n",
       "      <th rowspan=\"12\" valign=\"top\">wt</th>\n",
       "      <th>26</th>\n",
       "      <td>3</td>\n",
       "    </tr>\n",
       "    <tr>\n",
       "      <th>28</th>\n",
       "      <td>5</td>\n",
       "    </tr>\n",
       "    <tr>\n",
       "      <th>483</th>\n",
       "      <td>5</td>\n",
       "    </tr>\n",
       "    <tr>\n",
       "      <th>61</th>\n",
       "      <td>3</td>\n",
       "    </tr>\n",
       "    <tr>\n",
       "      <th>623</th>\n",
       "      <td>3</td>\n",
       "    </tr>\n",
       "    <tr>\n",
       "      <th>629</th>\n",
       "      <td>6</td>\n",
       "    </tr>\n",
       "    <tr>\n",
       "      <th>630</th>\n",
       "      <td>5</td>\n",
       "    </tr>\n",
       "    <tr>\n",
       "      <th>64</th>\n",
       "      <td>4</td>\n",
       "    </tr>\n",
       "    <tr>\n",
       "      <th>87</th>\n",
       "      <td>1</td>\n",
       "    </tr>\n",
       "    <tr>\n",
       "      <th>90</th>\n",
       "      <td>1</td>\n",
       "    </tr>\n",
       "    <tr>\n",
       "      <th>92</th>\n",
       "      <td>6</td>\n",
       "    </tr>\n",
       "    <tr>\n",
       "      <th>c</th>\n",
       "      <td>8</td>\n",
       "    </tr>\n",
       "  </tbody>\n",
       "</table>\n",
       "</div>"
      ],
      "text/plain": [
       "                     count\n",
       "phenotype mouse_num       \n",
       "tg        27             3\n",
       "          479            6\n",
       "          487            4\n",
       "          62             3\n",
       "          63             1\n",
       "          801            5\n",
       "          88             2\n",
       "          91             3\n",
       "          93             4\n",
       "          94             3\n",
       "          98             5\n",
       "wt        26             3\n",
       "          28             5\n",
       "          483            5\n",
       "          61             3\n",
       "          623            3\n",
       "          629            6\n",
       "          630            5\n",
       "          64             4\n",
       "          87             1\n",
       "          90             1\n",
       "          92             6\n",
       "          c              8"
      ]
     },
     "execution_count": 9,
     "metadata": {},
     "output_type": "execute_result"
    }
   ],
   "source": [
    "(capture_df.query('frame_rate>20 ')\n",
    " .groupby(['phenotype','mouse_num'])\n",
    " .agg(count=('trial',len)))"
   ]
  },
  {
   "cell_type": "markdown",
   "metadata": {},
   "source": [
    "### Start analysis"
   ]
  },
  {
   "cell_type": "code",
   "execution_count": 10,
   "metadata": {
    "ExecuteTime": {
     "end_time": "2024-01-25T14:40:22.646865400Z",
     "start_time": "2024-01-25T14:40:08.377502Z"
    }
   },
   "outputs": [
    {
     "name": "stdout",
     "output_type": "stream",
     "text": [
      "session:f_26_day_2_trial_1_20230607_101443\n"
     ]
    },
    {
     "data": {
      "text/plain": [
       "'Initial window frame: 144'"
      ]
     },
     "metadata": {},
     "output_type": "display_data"
    },
    {
     "data": {
      "text/plain": [
       "'Final window frame: 3056'"
      ]
     },
     "metadata": {},
     "output_type": "display_data"
    },
    {
     "name": "stdout",
     "output_type": "stream",
     "text": [
      "maintaing frame rate\n",
      "Categorize behaviours in approaches, contact and exploration\n",
      "append behaviours to main dataframe\n"
     ]
    },
    {
     "name": "stderr",
     "output_type": "stream",
     "text": [
      "z:\\lab\\escritorio\\projects\\gesture_tracking\\zic2_publication_code\\zic2\\zic2\\commons.py:226: SettingWithCopyWarning: \n",
      "A value is trying to be set on a copy of a slice from a DataFrame.\n",
      "Try using .loc[row_indexer,col_indexer] = value instead\n",
      "\n",
      "See the caveats in the documentation: https://pandas.pydata.org/pandas-docs/stable/user_guide/indexing.html#returning-a-view-versus-a-copy\n",
      "  approach_df['behaviour']='approach'\n",
      "z:\\lab\\escritorio\\projects\\gesture_tracking\\zic2_publication_code\\zic2\\zic2\\commons.py:227: SettingWithCopyWarning: \n",
      "A value is trying to be set on a copy of a slice from a DataFrame.\n",
      "Try using .loc[row_indexer,col_indexer] = value instead\n",
      "\n",
      "See the caveats in the documentation: https://pandas.pydata.org/pandas-docs/stable/user_guide/indexing.html#returning-a-view-versus-a-copy\n",
      "  contact_df['behaviour']='contact'\n",
      "z:\\lab\\escritorio\\projects\\gesture_tracking\\zic2_publication_code\\zic2\\zic2\\commons.py:228: SettingWithCopyWarning: \n",
      "A value is trying to be set on a copy of a slice from a DataFrame.\n",
      "Try using .loc[row_indexer,col_indexer] = value instead\n",
      "\n",
      "See the caveats in the documentation: https://pandas.pydata.org/pandas-docs/stable/user_guide/indexing.html#returning-a-view-versus-a-copy\n",
      "  exploration_df['behaviour']='exploration'\n",
      "z:\\lab\\escritorio\\projects\\gesture_tracking\\zic2_publication_code\\zic2\\zic2\\commons.py:246: FutureWarning: The frame.append method is deprecated and will be removed from pandas in a future version. Use pandas.concat instead.\n",
      "  self.data= self.behaviour['approach'].append(self.behaviour['exploration'],ignore_index=False).append(self.behaviour['contact'],ignore_index=False)\n",
      "z:\\lab\\escritorio\\projects\\gesture_tracking\\zic2_publication_code\\zic2\\zic2\\commons.py:246: FutureWarning: The frame.append method is deprecated and will be removed from pandas in a future version. Use pandas.concat instead.\n",
      "  self.data= self.behaviour['approach'].append(self.behaviour['exploration'],ignore_index=False).append(self.behaviour['contact'],ignore_index=False)\n"
     ]
    },
    {
     "name": "stdout",
     "output_type": "stream",
     "text": [
      "Video saved successfully!\n",
      "session:f_26_day_2_trial_2_20230607_104447\n"
     ]
    },
    {
     "data": {
      "text/plain": [
       "'Initial window frame: 90'"
      ]
     },
     "metadata": {},
     "output_type": "display_data"
    },
    {
     "data": {
      "text/plain": [
       "'Final window frame: 1383'"
      ]
     },
     "metadata": {},
     "output_type": "display_data"
    },
    {
     "name": "stdout",
     "output_type": "stream",
     "text": [
      "maintaing frame rate\n",
      "Categorize behaviours in approaches, contact and exploration\n",
      "append behaviours to main dataframe\n"
     ]
    },
    {
     "name": "stderr",
     "output_type": "stream",
     "text": [
      "z:\\lab\\escritorio\\projects\\gesture_tracking\\zic2_publication_code\\zic2\\zic2\\commons.py:226: SettingWithCopyWarning: \n",
      "A value is trying to be set on a copy of a slice from a DataFrame.\n",
      "Try using .loc[row_indexer,col_indexer] = value instead\n",
      "\n",
      "See the caveats in the documentation: https://pandas.pydata.org/pandas-docs/stable/user_guide/indexing.html#returning-a-view-versus-a-copy\n",
      "  approach_df['behaviour']='approach'\n",
      "z:\\lab\\escritorio\\projects\\gesture_tracking\\zic2_publication_code\\zic2\\zic2\\commons.py:227: SettingWithCopyWarning: \n",
      "A value is trying to be set on a copy of a slice from a DataFrame.\n",
      "Try using .loc[row_indexer,col_indexer] = value instead\n",
      "\n",
      "See the caveats in the documentation: https://pandas.pydata.org/pandas-docs/stable/user_guide/indexing.html#returning-a-view-versus-a-copy\n",
      "  contact_df['behaviour']='contact'\n",
      "z:\\lab\\escritorio\\projects\\gesture_tracking\\zic2_publication_code\\zic2\\zic2\\commons.py:228: SettingWithCopyWarning: \n",
      "A value is trying to be set on a copy of a slice from a DataFrame.\n",
      "Try using .loc[row_indexer,col_indexer] = value instead\n",
      "\n",
      "See the caveats in the documentation: https://pandas.pydata.org/pandas-docs/stable/user_guide/indexing.html#returning-a-view-versus-a-copy\n",
      "  exploration_df['behaviour']='exploration'\n",
      "z:\\lab\\escritorio\\projects\\gesture_tracking\\zic2_publication_code\\zic2\\zic2\\commons.py:246: FutureWarning: The frame.append method is deprecated and will be removed from pandas in a future version. Use pandas.concat instead.\n",
      "  self.data= self.behaviour['approach'].append(self.behaviour['exploration'],ignore_index=False).append(self.behaviour['contact'],ignore_index=False)\n",
      "z:\\lab\\escritorio\\projects\\gesture_tracking\\zic2_publication_code\\zic2\\zic2\\commons.py:246: FutureWarning: The frame.append method is deprecated and will be removed from pandas in a future version. Use pandas.concat instead.\n",
      "  self.data= self.behaviour['approach'].append(self.behaviour['exploration'],ignore_index=False).append(self.behaviour['contact'],ignore_index=False)\n"
     ]
    },
    {
     "name": "stdout",
     "output_type": "stream",
     "text": [
      "Video saved successfully!\n",
      "session:f_26_day_2_trial_3_20230607_110101\n"
     ]
    },
    {
     "data": {
      "text/plain": [
       "'Initial window frame: 144'"
      ]
     },
     "metadata": {},
     "output_type": "display_data"
    },
    {
     "data": {
      "text/plain": [
       "'Final window frame: 900'"
      ]
     },
     "metadata": {},
     "output_type": "display_data"
    },
    {
     "name": "stdout",
     "output_type": "stream",
     "text": [
      "maintaing frame rate\n",
      "Categorize behaviours in approaches, contact and exploration\n",
      "append behaviours to main dataframe\n"
     ]
    },
    {
     "name": "stderr",
     "output_type": "stream",
     "text": [
      "z:\\lab\\escritorio\\projects\\gesture_tracking\\zic2_publication_code\\zic2\\zic2\\commons.py:226: SettingWithCopyWarning: \n",
      "A value is trying to be set on a copy of a slice from a DataFrame.\n",
      "Try using .loc[row_indexer,col_indexer] = value instead\n",
      "\n",
      "See the caveats in the documentation: https://pandas.pydata.org/pandas-docs/stable/user_guide/indexing.html#returning-a-view-versus-a-copy\n",
      "  approach_df['behaviour']='approach'\n",
      "z:\\lab\\escritorio\\projects\\gesture_tracking\\zic2_publication_code\\zic2\\zic2\\commons.py:227: SettingWithCopyWarning: \n",
      "A value is trying to be set on a copy of a slice from a DataFrame.\n",
      "Try using .loc[row_indexer,col_indexer] = value instead\n",
      "\n",
      "See the caveats in the documentation: https://pandas.pydata.org/pandas-docs/stable/user_guide/indexing.html#returning-a-view-versus-a-copy\n",
      "  contact_df['behaviour']='contact'\n",
      "z:\\lab\\escritorio\\projects\\gesture_tracking\\zic2_publication_code\\zic2\\zic2\\commons.py:228: SettingWithCopyWarning: \n",
      "A value is trying to be set on a copy of a slice from a DataFrame.\n",
      "Try using .loc[row_indexer,col_indexer] = value instead\n",
      "\n",
      "See the caveats in the documentation: https://pandas.pydata.org/pandas-docs/stable/user_guide/indexing.html#returning-a-view-versus-a-copy\n",
      "  exploration_df['behaviour']='exploration'\n",
      "z:\\lab\\escritorio\\projects\\gesture_tracking\\zic2_publication_code\\zic2\\zic2\\commons.py:246: FutureWarning: The frame.append method is deprecated and will be removed from pandas in a future version. Use pandas.concat instead.\n",
      "  self.data= self.behaviour['approach'].append(self.behaviour['exploration'],ignore_index=False).append(self.behaviour['contact'],ignore_index=False)\n",
      "z:\\lab\\escritorio\\projects\\gesture_tracking\\zic2_publication_code\\zic2\\zic2\\commons.py:246: FutureWarning: The frame.append method is deprecated and will be removed from pandas in a future version. Use pandas.concat instead.\n",
      "  self.data= self.behaviour['approach'].append(self.behaviour['exploration'],ignore_index=False).append(self.behaviour['contact'],ignore_index=False)\n"
     ]
    },
    {
     "name": "stdout",
     "output_type": "stream",
     "text": [
      "Video saved successfully!\n",
      "session:f_28_day_2_trial_1_20230607_103612\n"
     ]
    },
    {
     "data": {
      "text/plain": [
       "'Initial window frame: 75'"
      ]
     },
     "metadata": {},
     "output_type": "display_data"
    },
    {
     "data": {
      "text/plain": [
       "'Final window frame: 4409'"
      ]
     },
     "metadata": {},
     "output_type": "display_data"
    },
    {
     "name": "stdout",
     "output_type": "stream",
     "text": [
      "maintaing frame rate\n",
      "Categorize behaviours in approaches, contact and exploration\n",
      "append behaviours to main dataframe\n"
     ]
    },
    {
     "name": "stderr",
     "output_type": "stream",
     "text": [
      "z:\\lab\\escritorio\\projects\\gesture_tracking\\zic2_publication_code\\zic2\\zic2\\commons.py:226: SettingWithCopyWarning: \n",
      "A value is trying to be set on a copy of a slice from a DataFrame.\n",
      "Try using .loc[row_indexer,col_indexer] = value instead\n",
      "\n",
      "See the caveats in the documentation: https://pandas.pydata.org/pandas-docs/stable/user_guide/indexing.html#returning-a-view-versus-a-copy\n",
      "  approach_df['behaviour']='approach'\n",
      "z:\\lab\\escritorio\\projects\\gesture_tracking\\zic2_publication_code\\zic2\\zic2\\commons.py:227: SettingWithCopyWarning: \n",
      "A value is trying to be set on a copy of a slice from a DataFrame.\n",
      "Try using .loc[row_indexer,col_indexer] = value instead\n",
      "\n",
      "See the caveats in the documentation: https://pandas.pydata.org/pandas-docs/stable/user_guide/indexing.html#returning-a-view-versus-a-copy\n",
      "  contact_df['behaviour']='contact'\n",
      "z:\\lab\\escritorio\\projects\\gesture_tracking\\zic2_publication_code\\zic2\\zic2\\commons.py:228: SettingWithCopyWarning: \n",
      "A value is trying to be set on a copy of a slice from a DataFrame.\n",
      "Try using .loc[row_indexer,col_indexer] = value instead\n",
      "\n",
      "See the caveats in the documentation: https://pandas.pydata.org/pandas-docs/stable/user_guide/indexing.html#returning-a-view-versus-a-copy\n",
      "  exploration_df['behaviour']='exploration'\n",
      "z:\\lab\\escritorio\\projects\\gesture_tracking\\zic2_publication_code\\zic2\\zic2\\commons.py:246: FutureWarning: The frame.append method is deprecated and will be removed from pandas in a future version. Use pandas.concat instead.\n",
      "  self.data= self.behaviour['approach'].append(self.behaviour['exploration'],ignore_index=False).append(self.behaviour['contact'],ignore_index=False)\n",
      "z:\\lab\\escritorio\\projects\\gesture_tracking\\zic2_publication_code\\zic2\\zic2\\commons.py:246: FutureWarning: The frame.append method is deprecated and will be removed from pandas in a future version. Use pandas.concat instead.\n",
      "  self.data= self.behaviour['approach'].append(self.behaviour['exploration'],ignore_index=False).append(self.behaviour['contact'],ignore_index=False)\n"
     ]
    },
    {
     "name": "stdout",
     "output_type": "stream",
     "text": [
      "Video saved successfully!\n",
      "session:f_28_day_2_trial_2_20230607_105431\n"
     ]
    },
    {
     "data": {
      "text/plain": [
       "'Initial window frame: 308'"
      ]
     },
     "metadata": {},
     "output_type": "display_data"
    },
    {
     "data": {
      "text/plain": [
       "'Final window frame: 3691'"
      ]
     },
     "metadata": {},
     "output_type": "display_data"
    },
    {
     "name": "stdout",
     "output_type": "stream",
     "text": [
      "final_hz:16.0\n",
      "Categorize behaviours in approaches, contact and exploration\n",
      "append behaviours to main dataframe\n"
     ]
    },
    {
     "name": "stderr",
     "output_type": "stream",
     "text": [
      "z:\\lab\\escritorio\\projects\\gesture_tracking\\zic2_publication_code\\zic2\\zic2\\commons.py:226: SettingWithCopyWarning: \n",
      "A value is trying to be set on a copy of a slice from a DataFrame.\n",
      "Try using .loc[row_indexer,col_indexer] = value instead\n",
      "\n",
      "See the caveats in the documentation: https://pandas.pydata.org/pandas-docs/stable/user_guide/indexing.html#returning-a-view-versus-a-copy\n",
      "  approach_df['behaviour']='approach'\n",
      "z:\\lab\\escritorio\\projects\\gesture_tracking\\zic2_publication_code\\zic2\\zic2\\commons.py:227: SettingWithCopyWarning: \n",
      "A value is trying to be set on a copy of a slice from a DataFrame.\n",
      "Try using .loc[row_indexer,col_indexer] = value instead\n",
      "\n",
      "See the caveats in the documentation: https://pandas.pydata.org/pandas-docs/stable/user_guide/indexing.html#returning-a-view-versus-a-copy\n",
      "  contact_df['behaviour']='contact'\n",
      "z:\\lab\\escritorio\\projects\\gesture_tracking\\zic2_publication_code\\zic2\\zic2\\commons.py:228: SettingWithCopyWarning: \n",
      "A value is trying to be set on a copy of a slice from a DataFrame.\n",
      "Try using .loc[row_indexer,col_indexer] = value instead\n",
      "\n",
      "See the caveats in the documentation: https://pandas.pydata.org/pandas-docs/stable/user_guide/indexing.html#returning-a-view-versus-a-copy\n",
      "  exploration_df['behaviour']='exploration'\n",
      "z:\\lab\\escritorio\\projects\\gesture_tracking\\zic2_publication_code\\zic2\\zic2\\commons.py:246: FutureWarning: The frame.append method is deprecated and will be removed from pandas in a future version. Use pandas.concat instead.\n",
      "  self.data= self.behaviour['approach'].append(self.behaviour['exploration'],ignore_index=False).append(self.behaviour['contact'],ignore_index=False)\n",
      "z:\\lab\\escritorio\\projects\\gesture_tracking\\zic2_publication_code\\zic2\\zic2\\commons.py:246: FutureWarning: The frame.append method is deprecated and will be removed from pandas in a future version. Use pandas.concat instead.\n",
      "  self.data= self.behaviour['approach'].append(self.behaviour['exploration'],ignore_index=False).append(self.behaviour['contact'],ignore_index=False)\n"
     ]
    },
    {
     "name": "stdout",
     "output_type": "stream",
     "text": [
      "Video saved successfully!\n",
      "session:f_28_day_2_trial_3_20230607_111434\n"
     ]
    },
    {
     "data": {
      "text/plain": [
       "'Initial window frame: 402'"
      ]
     },
     "metadata": {},
     "output_type": "display_data"
    },
    {
     "data": {
      "text/plain": [
       "'Final window frame: 4102'"
      ]
     },
     "metadata": {},
     "output_type": "display_data"
    },
    {
     "name": "stdout",
     "output_type": "stream",
     "text": [
      "final_hz:16.0\n",
      "Categorize behaviours in approaches, contact and exploration\n",
      "append behaviours to main dataframe\n"
     ]
    },
    {
     "name": "stderr",
     "output_type": "stream",
     "text": [
      "z:\\lab\\escritorio\\projects\\gesture_tracking\\zic2_publication_code\\zic2\\zic2\\commons.py:226: SettingWithCopyWarning: \n",
      "A value is trying to be set on a copy of a slice from a DataFrame.\n",
      "Try using .loc[row_indexer,col_indexer] = value instead\n",
      "\n",
      "See the caveats in the documentation: https://pandas.pydata.org/pandas-docs/stable/user_guide/indexing.html#returning-a-view-versus-a-copy\n",
      "  approach_df['behaviour']='approach'\n",
      "z:\\lab\\escritorio\\projects\\gesture_tracking\\zic2_publication_code\\zic2\\zic2\\commons.py:227: SettingWithCopyWarning: \n",
      "A value is trying to be set on a copy of a slice from a DataFrame.\n",
      "Try using .loc[row_indexer,col_indexer] = value instead\n",
      "\n",
      "See the caveats in the documentation: https://pandas.pydata.org/pandas-docs/stable/user_guide/indexing.html#returning-a-view-versus-a-copy\n",
      "  contact_df['behaviour']='contact'\n",
      "z:\\lab\\escritorio\\projects\\gesture_tracking\\zic2_publication_code\\zic2\\zic2\\commons.py:228: SettingWithCopyWarning: \n",
      "A value is trying to be set on a copy of a slice from a DataFrame.\n",
      "Try using .loc[row_indexer,col_indexer] = value instead\n",
      "\n",
      "See the caveats in the documentation: https://pandas.pydata.org/pandas-docs/stable/user_guide/indexing.html#returning-a-view-versus-a-copy\n",
      "  exploration_df['behaviour']='exploration'\n",
      "z:\\lab\\escritorio\\projects\\gesture_tracking\\zic2_publication_code\\zic2\\zic2\\commons.py:246: FutureWarning: The frame.append method is deprecated and will be removed from pandas in a future version. Use pandas.concat instead.\n",
      "  self.data= self.behaviour['approach'].append(self.behaviour['exploration'],ignore_index=False).append(self.behaviour['contact'],ignore_index=False)\n",
      "z:\\lab\\escritorio\\projects\\gesture_tracking\\zic2_publication_code\\zic2\\zic2\\commons.py:246: FutureWarning: The frame.append method is deprecated and will be removed from pandas in a future version. Use pandas.concat instead.\n",
      "  self.data= self.behaviour['approach'].append(self.behaviour['exploration'],ignore_index=False).append(self.behaviour['contact'],ignore_index=False)\n"
     ]
    },
    {
     "name": "stdout",
     "output_type": "stream",
     "text": [
      "Video saved successfully!\n",
      "session:f_479_day_2_trial_1_20230804_121649\n"
     ]
    },
    {
     "data": {
      "text/plain": [
       "'Initial window frame: 136'"
      ]
     },
     "metadata": {},
     "output_type": "display_data"
    },
    {
     "data": {
      "text/plain": [
       "'Final window frame: 1134'"
      ]
     },
     "metadata": {},
     "output_type": "display_data"
    },
    {
     "name": "stdout",
     "output_type": "stream",
     "text": [
      "final_hz:16.0\n",
      "Categorize behaviours in approaches, contact and exploration\n",
      "append behaviours to main dataframe\n"
     ]
    },
    {
     "name": "stderr",
     "output_type": "stream",
     "text": [
      "z:\\lab\\escritorio\\projects\\gesture_tracking\\zic2_publication_code\\zic2\\zic2\\commons.py:226: SettingWithCopyWarning: \n",
      "A value is trying to be set on a copy of a slice from a DataFrame.\n",
      "Try using .loc[row_indexer,col_indexer] = value instead\n",
      "\n",
      "See the caveats in the documentation: https://pandas.pydata.org/pandas-docs/stable/user_guide/indexing.html#returning-a-view-versus-a-copy\n",
      "  approach_df['behaviour']='approach'\n",
      "z:\\lab\\escritorio\\projects\\gesture_tracking\\zic2_publication_code\\zic2\\zic2\\commons.py:227: SettingWithCopyWarning: \n",
      "A value is trying to be set on a copy of a slice from a DataFrame.\n",
      "Try using .loc[row_indexer,col_indexer] = value instead\n",
      "\n",
      "See the caveats in the documentation: https://pandas.pydata.org/pandas-docs/stable/user_guide/indexing.html#returning-a-view-versus-a-copy\n",
      "  contact_df['behaviour']='contact'\n",
      "z:\\lab\\escritorio\\projects\\gesture_tracking\\zic2_publication_code\\zic2\\zic2\\commons.py:228: SettingWithCopyWarning: \n",
      "A value is trying to be set on a copy of a slice from a DataFrame.\n",
      "Try using .loc[row_indexer,col_indexer] = value instead\n",
      "\n",
      "See the caveats in the documentation: https://pandas.pydata.org/pandas-docs/stable/user_guide/indexing.html#returning-a-view-versus-a-copy\n",
      "  exploration_df['behaviour']='exploration'\n",
      "z:\\lab\\escritorio\\projects\\gesture_tracking\\zic2_publication_code\\zic2\\zic2\\commons.py:246: FutureWarning: The frame.append method is deprecated and will be removed from pandas in a future version. Use pandas.concat instead.\n",
      "  self.data= self.behaviour['approach'].append(self.behaviour['exploration'],ignore_index=False).append(self.behaviour['contact'],ignore_index=False)\n",
      "z:\\lab\\escritorio\\projects\\gesture_tracking\\zic2_publication_code\\zic2\\zic2\\commons.py:246: FutureWarning: The frame.append method is deprecated and will be removed from pandas in a future version. Use pandas.concat instead.\n",
      "  self.data= self.behaviour['approach'].append(self.behaviour['exploration'],ignore_index=False).append(self.behaviour['contact'],ignore_index=False)\n"
     ]
    },
    {
     "name": "stdout",
     "output_type": "stream",
     "text": [
      "Video saved successfully!\n",
      "session:f_479_day_2_trial_2_20230804_123322\n"
     ]
    },
    {
     "data": {
      "text/plain": [
       "'Initial window frame: 126'"
      ]
     },
     "metadata": {},
     "output_type": "display_data"
    },
    {
     "data": {
      "text/plain": [
       "'Final window frame: 1962'"
      ]
     },
     "metadata": {},
     "output_type": "display_data"
    },
    {
     "name": "stdout",
     "output_type": "stream",
     "text": [
      "final_hz:16.0\n",
      "Categorize behaviours in approaches, contact and exploration\n",
      "append behaviours to main dataframe\n"
     ]
    },
    {
     "name": "stderr",
     "output_type": "stream",
     "text": [
      "z:\\lab\\escritorio\\projects\\gesture_tracking\\zic2_publication_code\\zic2\\zic2\\commons.py:226: SettingWithCopyWarning: \n",
      "A value is trying to be set on a copy of a slice from a DataFrame.\n",
      "Try using .loc[row_indexer,col_indexer] = value instead\n",
      "\n",
      "See the caveats in the documentation: https://pandas.pydata.org/pandas-docs/stable/user_guide/indexing.html#returning-a-view-versus-a-copy\n",
      "  approach_df['behaviour']='approach'\n",
      "z:\\lab\\escritorio\\projects\\gesture_tracking\\zic2_publication_code\\zic2\\zic2\\commons.py:227: SettingWithCopyWarning: \n",
      "A value is trying to be set on a copy of a slice from a DataFrame.\n",
      "Try using .loc[row_indexer,col_indexer] = value instead\n",
      "\n",
      "See the caveats in the documentation: https://pandas.pydata.org/pandas-docs/stable/user_guide/indexing.html#returning-a-view-versus-a-copy\n",
      "  contact_df['behaviour']='contact'\n",
      "z:\\lab\\escritorio\\projects\\gesture_tracking\\zic2_publication_code\\zic2\\zic2\\commons.py:228: SettingWithCopyWarning: \n",
      "A value is trying to be set on a copy of a slice from a DataFrame.\n",
      "Try using .loc[row_indexer,col_indexer] = value instead\n",
      "\n",
      "See the caveats in the documentation: https://pandas.pydata.org/pandas-docs/stable/user_guide/indexing.html#returning-a-view-versus-a-copy\n",
      "  exploration_df['behaviour']='exploration'\n",
      "z:\\lab\\escritorio\\projects\\gesture_tracking\\zic2_publication_code\\zic2\\zic2\\commons.py:246: FutureWarning: The frame.append method is deprecated and will be removed from pandas in a future version. Use pandas.concat instead.\n",
      "  self.data= self.behaviour['approach'].append(self.behaviour['exploration'],ignore_index=False).append(self.behaviour['contact'],ignore_index=False)\n",
      "z:\\lab\\escritorio\\projects\\gesture_tracking\\zic2_publication_code\\zic2\\zic2\\commons.py:246: FutureWarning: The frame.append method is deprecated and will be removed from pandas in a future version. Use pandas.concat instead.\n",
      "  self.data= self.behaviour['approach'].append(self.behaviour['exploration'],ignore_index=False).append(self.behaviour['contact'],ignore_index=False)\n"
     ]
    },
    {
     "name": "stdout",
     "output_type": "stream",
     "text": [
      "Video saved successfully!\n",
      "session:f_479_day_2_trial_3_20230804_125105\n"
     ]
    },
    {
     "data": {
      "text/plain": [
       "'Initial window frame: 110'"
      ]
     },
     "metadata": {},
     "output_type": "display_data"
    },
    {
     "data": {
      "text/plain": [
       "'Final window frame: 819'"
      ]
     },
     "metadata": {},
     "output_type": "display_data"
    },
    {
     "name": "stdout",
     "output_type": "stream",
     "text": [
      "final_hz:16.0\n",
      "Categorize behaviours in approaches, contact and exploration\n",
      "append behaviours to main dataframe\n"
     ]
    },
    {
     "name": "stderr",
     "output_type": "stream",
     "text": [
      "z:\\lab\\escritorio\\projects\\gesture_tracking\\zic2_publication_code\\zic2\\zic2\\commons.py:226: SettingWithCopyWarning: \n",
      "A value is trying to be set on a copy of a slice from a DataFrame.\n",
      "Try using .loc[row_indexer,col_indexer] = value instead\n",
      "\n",
      "See the caveats in the documentation: https://pandas.pydata.org/pandas-docs/stable/user_guide/indexing.html#returning-a-view-versus-a-copy\n",
      "  approach_df['behaviour']='approach'\n",
      "z:\\lab\\escritorio\\projects\\gesture_tracking\\zic2_publication_code\\zic2\\zic2\\commons.py:227: SettingWithCopyWarning: \n",
      "A value is trying to be set on a copy of a slice from a DataFrame.\n",
      "Try using .loc[row_indexer,col_indexer] = value instead\n",
      "\n",
      "See the caveats in the documentation: https://pandas.pydata.org/pandas-docs/stable/user_guide/indexing.html#returning-a-view-versus-a-copy\n",
      "  contact_df['behaviour']='contact'\n",
      "z:\\lab\\escritorio\\projects\\gesture_tracking\\zic2_publication_code\\zic2\\zic2\\commons.py:228: SettingWithCopyWarning: \n",
      "A value is trying to be set on a copy of a slice from a DataFrame.\n",
      "Try using .loc[row_indexer,col_indexer] = value instead\n",
      "\n",
      "See the caveats in the documentation: https://pandas.pydata.org/pandas-docs/stable/user_guide/indexing.html#returning-a-view-versus-a-copy\n",
      "  exploration_df['behaviour']='exploration'\n",
      "z:\\lab\\escritorio\\projects\\gesture_tracking\\zic2_publication_code\\zic2\\zic2\\commons.py:246: FutureWarning: The frame.append method is deprecated and will be removed from pandas in a future version. Use pandas.concat instead.\n",
      "  self.data= self.behaviour['approach'].append(self.behaviour['exploration'],ignore_index=False).append(self.behaviour['contact'],ignore_index=False)\n",
      "z:\\lab\\escritorio\\projects\\gesture_tracking\\zic2_publication_code\\zic2\\zic2\\commons.py:246: FutureWarning: The frame.append method is deprecated and will be removed from pandas in a future version. Use pandas.concat instead.\n",
      "  self.data= self.behaviour['approach'].append(self.behaviour['exploration'],ignore_index=False).append(self.behaviour['contact'],ignore_index=False)\n"
     ]
    },
    {
     "name": "stdout",
     "output_type": "stream",
     "text": [
      "Video saved successfully!\n",
      "session:f_623_day_2_trial_1_20230804_120916\n"
     ]
    },
    {
     "data": {
      "text/plain": [
       "'Initial window frame: 53'"
      ]
     },
     "metadata": {},
     "output_type": "display_data"
    },
    {
     "data": {
      "text/plain": [
       "'Final window frame: 1480'"
      ]
     },
     "metadata": {},
     "output_type": "display_data"
    },
    {
     "name": "stdout",
     "output_type": "stream",
     "text": [
      "maintaing frame rate\n",
      "Categorize behaviours in approaches, contact and exploration\n",
      "append behaviours to main dataframe\n"
     ]
    },
    {
     "name": "stderr",
     "output_type": "stream",
     "text": [
      "z:\\lab\\escritorio\\projects\\gesture_tracking\\zic2_publication_code\\zic2\\zic2\\commons.py:226: SettingWithCopyWarning: \n",
      "A value is trying to be set on a copy of a slice from a DataFrame.\n",
      "Try using .loc[row_indexer,col_indexer] = value instead\n",
      "\n",
      "See the caveats in the documentation: https://pandas.pydata.org/pandas-docs/stable/user_guide/indexing.html#returning-a-view-versus-a-copy\n",
      "  approach_df['behaviour']='approach'\n",
      "z:\\lab\\escritorio\\projects\\gesture_tracking\\zic2_publication_code\\zic2\\zic2\\commons.py:227: SettingWithCopyWarning: \n",
      "A value is trying to be set on a copy of a slice from a DataFrame.\n",
      "Try using .loc[row_indexer,col_indexer] = value instead\n",
      "\n",
      "See the caveats in the documentation: https://pandas.pydata.org/pandas-docs/stable/user_guide/indexing.html#returning-a-view-versus-a-copy\n",
      "  contact_df['behaviour']='contact'\n",
      "z:\\lab\\escritorio\\projects\\gesture_tracking\\zic2_publication_code\\zic2\\zic2\\commons.py:228: SettingWithCopyWarning: \n",
      "A value is trying to be set on a copy of a slice from a DataFrame.\n",
      "Try using .loc[row_indexer,col_indexer] = value instead\n",
      "\n",
      "See the caveats in the documentation: https://pandas.pydata.org/pandas-docs/stable/user_guide/indexing.html#returning-a-view-versus-a-copy\n",
      "  exploration_df['behaviour']='exploration'\n",
      "z:\\lab\\escritorio\\projects\\gesture_tracking\\zic2_publication_code\\zic2\\zic2\\commons.py:246: FutureWarning: The frame.append method is deprecated and will be removed from pandas in a future version. Use pandas.concat instead.\n",
      "  self.data= self.behaviour['approach'].append(self.behaviour['exploration'],ignore_index=False).append(self.behaviour['contact'],ignore_index=False)\n",
      "z:\\lab\\escritorio\\projects\\gesture_tracking\\zic2_publication_code\\zic2\\zic2\\commons.py:246: FutureWarning: The frame.append method is deprecated and will be removed from pandas in a future version. Use pandas.concat instead.\n",
      "  self.data= self.behaviour['approach'].append(self.behaviour['exploration'],ignore_index=False).append(self.behaviour['contact'],ignore_index=False)\n"
     ]
    },
    {
     "name": "stdout",
     "output_type": "stream",
     "text": [
      "Video saved successfully!\n",
      "session:f_623_day_2_trial_2_20230804_122540\n"
     ]
    },
    {
     "data": {
      "text/plain": [
       "'Initial window frame: 55'"
      ]
     },
     "metadata": {},
     "output_type": "display_data"
    },
    {
     "data": {
      "text/plain": [
       "'Final window frame: 369'"
      ]
     },
     "metadata": {},
     "output_type": "display_data"
    },
    {
     "name": "stdout",
     "output_type": "stream",
     "text": [
      "maintaing frame rate\n",
      "Categorize behaviours in approaches, contact and exploration\n",
      "append behaviours to main dataframe\n"
     ]
    },
    {
     "name": "stderr",
     "output_type": "stream",
     "text": [
      "z:\\lab\\escritorio\\projects\\gesture_tracking\\zic2_publication_code\\zic2\\zic2\\commons.py:226: SettingWithCopyWarning: \n",
      "A value is trying to be set on a copy of a slice from a DataFrame.\n",
      "Try using .loc[row_indexer,col_indexer] = value instead\n",
      "\n",
      "See the caveats in the documentation: https://pandas.pydata.org/pandas-docs/stable/user_guide/indexing.html#returning-a-view-versus-a-copy\n",
      "  approach_df['behaviour']='approach'\n",
      "z:\\lab\\escritorio\\projects\\gesture_tracking\\zic2_publication_code\\zic2\\zic2\\commons.py:227: SettingWithCopyWarning: \n",
      "A value is trying to be set on a copy of a slice from a DataFrame.\n",
      "Try using .loc[row_indexer,col_indexer] = value instead\n",
      "\n",
      "See the caveats in the documentation: https://pandas.pydata.org/pandas-docs/stable/user_guide/indexing.html#returning-a-view-versus-a-copy\n",
      "  contact_df['behaviour']='contact'\n",
      "z:\\lab\\escritorio\\projects\\gesture_tracking\\zic2_publication_code\\zic2\\zic2\\commons.py:228: SettingWithCopyWarning: \n",
      "A value is trying to be set on a copy of a slice from a DataFrame.\n",
      "Try using .loc[row_indexer,col_indexer] = value instead\n",
      "\n",
      "See the caveats in the documentation: https://pandas.pydata.org/pandas-docs/stable/user_guide/indexing.html#returning-a-view-versus-a-copy\n",
      "  exploration_df['behaviour']='exploration'\n",
      "z:\\lab\\escritorio\\projects\\gesture_tracking\\zic2_publication_code\\zic2\\zic2\\commons.py:246: FutureWarning: The frame.append method is deprecated and will be removed from pandas in a future version. Use pandas.concat instead.\n",
      "  self.data= self.behaviour['approach'].append(self.behaviour['exploration'],ignore_index=False).append(self.behaviour['contact'],ignore_index=False)\n",
      "z:\\lab\\escritorio\\projects\\gesture_tracking\\zic2_publication_code\\zic2\\zic2\\commons.py:246: FutureWarning: The frame.append method is deprecated and will be removed from pandas in a future version. Use pandas.concat instead.\n",
      "  self.data= self.behaviour['approach'].append(self.behaviour['exploration'],ignore_index=False).append(self.behaviour['contact'],ignore_index=False)\n"
     ]
    },
    {
     "name": "stdout",
     "output_type": "stream",
     "text": [
      "Video saved successfully!\n",
      "session:f_623_day_2_trial_3_20230804_124239\n"
     ]
    },
    {
     "data": {
      "text/plain": [
       "'Initial window frame: 63'"
      ]
     },
     "metadata": {},
     "output_type": "display_data"
    },
    {
     "data": {
      "text/plain": [
       "'Final window frame: 325'"
      ]
     },
     "metadata": {},
     "output_type": "display_data"
    },
    {
     "name": "stdout",
     "output_type": "stream",
     "text": [
      "maintaing frame rate\n",
      "Categorize behaviours in approaches, contact and exploration\n",
      "append behaviours to main dataframe\n"
     ]
    },
    {
     "name": "stderr",
     "output_type": "stream",
     "text": [
      "z:\\lab\\escritorio\\projects\\gesture_tracking\\zic2_publication_code\\zic2\\zic2\\commons.py:226: SettingWithCopyWarning: \n",
      "A value is trying to be set on a copy of a slice from a DataFrame.\n",
      "Try using .loc[row_indexer,col_indexer] = value instead\n",
      "\n",
      "See the caveats in the documentation: https://pandas.pydata.org/pandas-docs/stable/user_guide/indexing.html#returning-a-view-versus-a-copy\n",
      "  approach_df['behaviour']='approach'\n",
      "z:\\lab\\escritorio\\projects\\gesture_tracking\\zic2_publication_code\\zic2\\zic2\\commons.py:227: SettingWithCopyWarning: \n",
      "A value is trying to be set on a copy of a slice from a DataFrame.\n",
      "Try using .loc[row_indexer,col_indexer] = value instead\n",
      "\n",
      "See the caveats in the documentation: https://pandas.pydata.org/pandas-docs/stable/user_guide/indexing.html#returning-a-view-versus-a-copy\n",
      "  contact_df['behaviour']='contact'\n",
      "z:\\lab\\escritorio\\projects\\gesture_tracking\\zic2_publication_code\\zic2\\zic2\\commons.py:228: SettingWithCopyWarning: \n",
      "A value is trying to be set on a copy of a slice from a DataFrame.\n",
      "Try using .loc[row_indexer,col_indexer] = value instead\n",
      "\n",
      "See the caveats in the documentation: https://pandas.pydata.org/pandas-docs/stable/user_guide/indexing.html#returning-a-view-versus-a-copy\n",
      "  exploration_df['behaviour']='exploration'\n",
      "z:\\lab\\escritorio\\projects\\gesture_tracking\\zic2_publication_code\\zic2\\zic2\\commons.py:246: FutureWarning: The frame.append method is deprecated and will be removed from pandas in a future version. Use pandas.concat instead.\n",
      "  self.data= self.behaviour['approach'].append(self.behaviour['exploration'],ignore_index=False).append(self.behaviour['contact'],ignore_index=False)\n",
      "z:\\lab\\escritorio\\projects\\gesture_tracking\\zic2_publication_code\\zic2\\zic2\\commons.py:246: FutureWarning: The frame.append method is deprecated and will be removed from pandas in a future version. Use pandas.concat instead.\n",
      "  self.data= self.behaviour['approach'].append(self.behaviour['exploration'],ignore_index=False).append(self.behaviour['contact'],ignore_index=False)\n"
     ]
    },
    {
     "name": "stdout",
     "output_type": "stream",
     "text": [
      "Video saved successfully!\n",
      "session:m_483_day_2_trial_1_20230802_155743\n"
     ]
    },
    {
     "data": {
      "text/plain": [
       "'Initial window frame: 69'"
      ]
     },
     "metadata": {},
     "output_type": "display_data"
    },
    {
     "data": {
      "text/plain": [
       "'Final window frame: 1399'"
      ]
     },
     "metadata": {},
     "output_type": "display_data"
    },
    {
     "name": "stdout",
     "output_type": "stream",
     "text": [
      "maintaing frame rate\n",
      "Categorize behaviours in approaches, contact and exploration\n",
      "append behaviours to main dataframe\n"
     ]
    },
    {
     "name": "stderr",
     "output_type": "stream",
     "text": [
      "z:\\lab\\escritorio\\projects\\gesture_tracking\\zic2_publication_code\\zic2\\zic2\\commons.py:226: SettingWithCopyWarning: \n",
      "A value is trying to be set on a copy of a slice from a DataFrame.\n",
      "Try using .loc[row_indexer,col_indexer] = value instead\n",
      "\n",
      "See the caveats in the documentation: https://pandas.pydata.org/pandas-docs/stable/user_guide/indexing.html#returning-a-view-versus-a-copy\n",
      "  approach_df['behaviour']='approach'\n",
      "z:\\lab\\escritorio\\projects\\gesture_tracking\\zic2_publication_code\\zic2\\zic2\\commons.py:227: SettingWithCopyWarning: \n",
      "A value is trying to be set on a copy of a slice from a DataFrame.\n",
      "Try using .loc[row_indexer,col_indexer] = value instead\n",
      "\n",
      "See the caveats in the documentation: https://pandas.pydata.org/pandas-docs/stable/user_guide/indexing.html#returning-a-view-versus-a-copy\n",
      "  contact_df['behaviour']='contact'\n",
      "z:\\lab\\escritorio\\projects\\gesture_tracking\\zic2_publication_code\\zic2\\zic2\\commons.py:228: SettingWithCopyWarning: \n",
      "A value is trying to be set on a copy of a slice from a DataFrame.\n",
      "Try using .loc[row_indexer,col_indexer] = value instead\n",
      "\n",
      "See the caveats in the documentation: https://pandas.pydata.org/pandas-docs/stable/user_guide/indexing.html#returning-a-view-versus-a-copy\n",
      "  exploration_df['behaviour']='exploration'\n",
      "z:\\lab\\escritorio\\projects\\gesture_tracking\\zic2_publication_code\\zic2\\zic2\\commons.py:246: FutureWarning: The frame.append method is deprecated and will be removed from pandas in a future version. Use pandas.concat instead.\n",
      "  self.data= self.behaviour['approach'].append(self.behaviour['exploration'],ignore_index=False).append(self.behaviour['contact'],ignore_index=False)\n",
      "z:\\lab\\escritorio\\projects\\gesture_tracking\\zic2_publication_code\\zic2\\zic2\\commons.py:246: FutureWarning: The frame.append method is deprecated and will be removed from pandas in a future version. Use pandas.concat instead.\n",
      "  self.data= self.behaviour['approach'].append(self.behaviour['exploration'],ignore_index=False).append(self.behaviour['contact'],ignore_index=False)\n"
     ]
    },
    {
     "name": "stdout",
     "output_type": "stream",
     "text": [
      "Video saved successfully!\n",
      "session:m_483_day_2_trial_2_20230802_162029\n"
     ]
    },
    {
     "data": {
      "text/plain": [
       "'Initial window frame: 168'"
      ]
     },
     "metadata": {},
     "output_type": "display_data"
    },
    {
     "data": {
      "text/plain": [
       "'Final window frame: 2070'"
      ]
     },
     "metadata": {},
     "output_type": "display_data"
    },
    {
     "name": "stdout",
     "output_type": "stream",
     "text": [
      "final_hz:16.0\n",
      "Categorize behaviours in approaches, contact and exploration\n",
      "append behaviours to main dataframe\n"
     ]
    },
    {
     "name": "stderr",
     "output_type": "stream",
     "text": [
      "z:\\lab\\escritorio\\projects\\gesture_tracking\\zic2_publication_code\\zic2\\zic2\\commons.py:226: SettingWithCopyWarning: \n",
      "A value is trying to be set on a copy of a slice from a DataFrame.\n",
      "Try using .loc[row_indexer,col_indexer] = value instead\n",
      "\n",
      "See the caveats in the documentation: https://pandas.pydata.org/pandas-docs/stable/user_guide/indexing.html#returning-a-view-versus-a-copy\n",
      "  approach_df['behaviour']='approach'\n",
      "z:\\lab\\escritorio\\projects\\gesture_tracking\\zic2_publication_code\\zic2\\zic2\\commons.py:227: SettingWithCopyWarning: \n",
      "A value is trying to be set on a copy of a slice from a DataFrame.\n",
      "Try using .loc[row_indexer,col_indexer] = value instead\n",
      "\n",
      "See the caveats in the documentation: https://pandas.pydata.org/pandas-docs/stable/user_guide/indexing.html#returning-a-view-versus-a-copy\n",
      "  contact_df['behaviour']='contact'\n",
      "z:\\lab\\escritorio\\projects\\gesture_tracking\\zic2_publication_code\\zic2\\zic2\\commons.py:228: SettingWithCopyWarning: \n",
      "A value is trying to be set on a copy of a slice from a DataFrame.\n",
      "Try using .loc[row_indexer,col_indexer] = value instead\n",
      "\n",
      "See the caveats in the documentation: https://pandas.pydata.org/pandas-docs/stable/user_guide/indexing.html#returning-a-view-versus-a-copy\n",
      "  exploration_df['behaviour']='exploration'\n",
      "z:\\lab\\escritorio\\projects\\gesture_tracking\\zic2_publication_code\\zic2\\zic2\\commons.py:246: FutureWarning: The frame.append method is deprecated and will be removed from pandas in a future version. Use pandas.concat instead.\n",
      "  self.data= self.behaviour['approach'].append(self.behaviour['exploration'],ignore_index=False).append(self.behaviour['contact'],ignore_index=False)\n",
      "z:\\lab\\escritorio\\projects\\gesture_tracking\\zic2_publication_code\\zic2\\zic2\\commons.py:246: FutureWarning: The frame.append method is deprecated and will be removed from pandas in a future version. Use pandas.concat instead.\n",
      "  self.data= self.behaviour['approach'].append(self.behaviour['exploration'],ignore_index=False).append(self.behaviour['contact'],ignore_index=False)\n"
     ]
    },
    {
     "name": "stdout",
     "output_type": "stream",
     "text": [
      "Video saved successfully!\n",
      "session:m_483_day_2_trial_3_20230802_163726\n"
     ]
    },
    {
     "data": {
      "text/plain": [
       "'Initial window frame: 63'"
      ]
     },
     "metadata": {},
     "output_type": "display_data"
    },
    {
     "data": {
      "text/plain": [
       "'Final window frame: 1500'"
      ]
     },
     "metadata": {},
     "output_type": "display_data"
    },
    {
     "name": "stdout",
     "output_type": "stream",
     "text": [
      "maintaing frame rate\n",
      "Categorize behaviours in approaches, contact and exploration\n",
      "append behaviours to main dataframe\n"
     ]
    },
    {
     "name": "stderr",
     "output_type": "stream",
     "text": [
      "z:\\lab\\escritorio\\projects\\gesture_tracking\\zic2_publication_code\\zic2\\zic2\\commons.py:226: SettingWithCopyWarning: \n",
      "A value is trying to be set on a copy of a slice from a DataFrame.\n",
      "Try using .loc[row_indexer,col_indexer] = value instead\n",
      "\n",
      "See the caveats in the documentation: https://pandas.pydata.org/pandas-docs/stable/user_guide/indexing.html#returning-a-view-versus-a-copy\n",
      "  approach_df['behaviour']='approach'\n",
      "z:\\lab\\escritorio\\projects\\gesture_tracking\\zic2_publication_code\\zic2\\zic2\\commons.py:227: SettingWithCopyWarning: \n",
      "A value is trying to be set on a copy of a slice from a DataFrame.\n",
      "Try using .loc[row_indexer,col_indexer] = value instead\n",
      "\n",
      "See the caveats in the documentation: https://pandas.pydata.org/pandas-docs/stable/user_guide/indexing.html#returning-a-view-versus-a-copy\n",
      "  contact_df['behaviour']='contact'\n",
      "z:\\lab\\escritorio\\projects\\gesture_tracking\\zic2_publication_code\\zic2\\zic2\\commons.py:228: SettingWithCopyWarning: \n",
      "A value is trying to be set on a copy of a slice from a DataFrame.\n",
      "Try using .loc[row_indexer,col_indexer] = value instead\n",
      "\n",
      "See the caveats in the documentation: https://pandas.pydata.org/pandas-docs/stable/user_guide/indexing.html#returning-a-view-versus-a-copy\n",
      "  exploration_df['behaviour']='exploration'\n",
      "z:\\lab\\escritorio\\projects\\gesture_tracking\\zic2_publication_code\\zic2\\zic2\\commons.py:246: FutureWarning: The frame.append method is deprecated and will be removed from pandas in a future version. Use pandas.concat instead.\n",
      "  self.data= self.behaviour['approach'].append(self.behaviour['exploration'],ignore_index=False).append(self.behaviour['contact'],ignore_index=False)\n",
      "z:\\lab\\escritorio\\projects\\gesture_tracking\\zic2_publication_code\\zic2\\zic2\\commons.py:246: FutureWarning: The frame.append method is deprecated and will be removed from pandas in a future version. Use pandas.concat instead.\n",
      "  self.data= self.behaviour['approach'].append(self.behaviour['exploration'],ignore_index=False).append(self.behaviour['contact'],ignore_index=False)\n"
     ]
    },
    {
     "name": "stdout",
     "output_type": "stream",
     "text": [
      "Video saved successfully!\n",
      "session:m_61_day_2_trial_1_20230613_123611\n"
     ]
    },
    {
     "data": {
      "text/plain": [
       "'Initial window frame: 75'"
      ]
     },
     "metadata": {},
     "output_type": "display_data"
    },
    {
     "data": {
      "text/plain": [
       "'Final window frame: 1743'"
      ]
     },
     "metadata": {},
     "output_type": "display_data"
    },
    {
     "name": "stdout",
     "output_type": "stream",
     "text": [
      "maintaing frame rate\n",
      "Categorize behaviours in approaches, contact and exploration\n",
      "append behaviours to main dataframe\n"
     ]
    },
    {
     "name": "stderr",
     "output_type": "stream",
     "text": [
      "z:\\lab\\escritorio\\projects\\gesture_tracking\\zic2_publication_code\\zic2\\zic2\\commons.py:226: SettingWithCopyWarning: \n",
      "A value is trying to be set on a copy of a slice from a DataFrame.\n",
      "Try using .loc[row_indexer,col_indexer] = value instead\n",
      "\n",
      "See the caveats in the documentation: https://pandas.pydata.org/pandas-docs/stable/user_guide/indexing.html#returning-a-view-versus-a-copy\n",
      "  approach_df['behaviour']='approach'\n",
      "z:\\lab\\escritorio\\projects\\gesture_tracking\\zic2_publication_code\\zic2\\zic2\\commons.py:227: SettingWithCopyWarning: \n",
      "A value is trying to be set on a copy of a slice from a DataFrame.\n",
      "Try using .loc[row_indexer,col_indexer] = value instead\n",
      "\n",
      "See the caveats in the documentation: https://pandas.pydata.org/pandas-docs/stable/user_guide/indexing.html#returning-a-view-versus-a-copy\n",
      "  contact_df['behaviour']='contact'\n",
      "z:\\lab\\escritorio\\projects\\gesture_tracking\\zic2_publication_code\\zic2\\zic2\\commons.py:228: SettingWithCopyWarning: \n",
      "A value is trying to be set on a copy of a slice from a DataFrame.\n",
      "Try using .loc[row_indexer,col_indexer] = value instead\n",
      "\n",
      "See the caveats in the documentation: https://pandas.pydata.org/pandas-docs/stable/user_guide/indexing.html#returning-a-view-versus-a-copy\n",
      "  exploration_df['behaviour']='exploration'\n",
      "z:\\lab\\escritorio\\projects\\gesture_tracking\\zic2_publication_code\\zic2\\zic2\\commons.py:246: FutureWarning: The frame.append method is deprecated and will be removed from pandas in a future version. Use pandas.concat instead.\n",
      "  self.data= self.behaviour['approach'].append(self.behaviour['exploration'],ignore_index=False).append(self.behaviour['contact'],ignore_index=False)\n",
      "z:\\lab\\escritorio\\projects\\gesture_tracking\\zic2_publication_code\\zic2\\zic2\\commons.py:246: FutureWarning: The frame.append method is deprecated and will be removed from pandas in a future version. Use pandas.concat instead.\n",
      "  self.data= self.behaviour['approach'].append(self.behaviour['exploration'],ignore_index=False).append(self.behaviour['contact'],ignore_index=False)\n"
     ]
    },
    {
     "name": "stdout",
     "output_type": "stream",
     "text": [
      "Video saved successfully!\n",
      "session:m_61_day_2_trial_2_20230613_130118\n"
     ]
    },
    {
     "data": {
      "text/plain": [
       "'Initial window frame: 174'"
      ]
     },
     "metadata": {},
     "output_type": "display_data"
    },
    {
     "data": {
      "text/plain": [
       "'Final window frame: 1190'"
      ]
     },
     "metadata": {},
     "output_type": "display_data"
    },
    {
     "name": "stdout",
     "output_type": "stream",
     "text": [
      "final_hz:16.0\n",
      "Categorize behaviours in approaches, contact and exploration\n",
      "append behaviours to main dataframe\n"
     ]
    },
    {
     "name": "stderr",
     "output_type": "stream",
     "text": [
      "z:\\lab\\escritorio\\projects\\gesture_tracking\\zic2_publication_code\\zic2\\zic2\\commons.py:226: SettingWithCopyWarning: \n",
      "A value is trying to be set on a copy of a slice from a DataFrame.\n",
      "Try using .loc[row_indexer,col_indexer] = value instead\n",
      "\n",
      "See the caveats in the documentation: https://pandas.pydata.org/pandas-docs/stable/user_guide/indexing.html#returning-a-view-versus-a-copy\n",
      "  approach_df['behaviour']='approach'\n",
      "z:\\lab\\escritorio\\projects\\gesture_tracking\\zic2_publication_code\\zic2\\zic2\\commons.py:227: SettingWithCopyWarning: \n",
      "A value is trying to be set on a copy of a slice from a DataFrame.\n",
      "Try using .loc[row_indexer,col_indexer] = value instead\n",
      "\n",
      "See the caveats in the documentation: https://pandas.pydata.org/pandas-docs/stable/user_guide/indexing.html#returning-a-view-versus-a-copy\n",
      "  contact_df['behaviour']='contact'\n",
      "z:\\lab\\escritorio\\projects\\gesture_tracking\\zic2_publication_code\\zic2\\zic2\\commons.py:228: SettingWithCopyWarning: \n",
      "A value is trying to be set on a copy of a slice from a DataFrame.\n",
      "Try using .loc[row_indexer,col_indexer] = value instead\n",
      "\n",
      "See the caveats in the documentation: https://pandas.pydata.org/pandas-docs/stable/user_guide/indexing.html#returning-a-view-versus-a-copy\n",
      "  exploration_df['behaviour']='exploration'\n",
      "z:\\lab\\escritorio\\projects\\gesture_tracking\\zic2_publication_code\\zic2\\zic2\\commons.py:246: FutureWarning: The frame.append method is deprecated and will be removed from pandas in a future version. Use pandas.concat instead.\n",
      "  self.data= self.behaviour['approach'].append(self.behaviour['exploration'],ignore_index=False).append(self.behaviour['contact'],ignore_index=False)\n",
      "z:\\lab\\escritorio\\projects\\gesture_tracking\\zic2_publication_code\\zic2\\zic2\\commons.py:246: FutureWarning: The frame.append method is deprecated and will be removed from pandas in a future version. Use pandas.concat instead.\n",
      "  self.data= self.behaviour['approach'].append(self.behaviour['exploration'],ignore_index=False).append(self.behaviour['contact'],ignore_index=False)\n"
     ]
    },
    {
     "name": "stdout",
     "output_type": "stream",
     "text": [
      "Video saved successfully!\n",
      "session:m_61_day_2_trial_3_20230613_132512\n"
     ]
    },
    {
     "data": {
      "text/plain": [
       "'Initial window frame: 255'"
      ]
     },
     "metadata": {},
     "output_type": "display_data"
    },
    {
     "data": {
      "text/plain": [
       "'Final window frame: 1013'"
      ]
     },
     "metadata": {},
     "output_type": "display_data"
    },
    {
     "name": "stdout",
     "output_type": "stream",
     "text": [
      "final_hz:16.0\n",
      "Categorize behaviours in approaches, contact and exploration\n",
      "append behaviours to main dataframe\n"
     ]
    },
    {
     "name": "stderr",
     "output_type": "stream",
     "text": [
      "z:\\lab\\escritorio\\projects\\gesture_tracking\\zic2_publication_code\\zic2\\zic2\\commons.py:226: SettingWithCopyWarning: \n",
      "A value is trying to be set on a copy of a slice from a DataFrame.\n",
      "Try using .loc[row_indexer,col_indexer] = value instead\n",
      "\n",
      "See the caveats in the documentation: https://pandas.pydata.org/pandas-docs/stable/user_guide/indexing.html#returning-a-view-versus-a-copy\n",
      "  approach_df['behaviour']='approach'\n",
      "z:\\lab\\escritorio\\projects\\gesture_tracking\\zic2_publication_code\\zic2\\zic2\\commons.py:227: SettingWithCopyWarning: \n",
      "A value is trying to be set on a copy of a slice from a DataFrame.\n",
      "Try using .loc[row_indexer,col_indexer] = value instead\n",
      "\n",
      "See the caveats in the documentation: https://pandas.pydata.org/pandas-docs/stable/user_guide/indexing.html#returning-a-view-versus-a-copy\n",
      "  contact_df['behaviour']='contact'\n",
      "z:\\lab\\escritorio\\projects\\gesture_tracking\\zic2_publication_code\\zic2\\zic2\\commons.py:228: SettingWithCopyWarning: \n",
      "A value is trying to be set on a copy of a slice from a DataFrame.\n",
      "Try using .loc[row_indexer,col_indexer] = value instead\n",
      "\n",
      "See the caveats in the documentation: https://pandas.pydata.org/pandas-docs/stable/user_guide/indexing.html#returning-a-view-versus-a-copy\n",
      "  exploration_df['behaviour']='exploration'\n",
      "z:\\lab\\escritorio\\projects\\gesture_tracking\\zic2_publication_code\\zic2\\zic2\\commons.py:246: FutureWarning: The frame.append method is deprecated and will be removed from pandas in a future version. Use pandas.concat instead.\n",
      "  self.data= self.behaviour['approach'].append(self.behaviour['exploration'],ignore_index=False).append(self.behaviour['contact'],ignore_index=False)\n",
      "z:\\lab\\escritorio\\projects\\gesture_tracking\\zic2_publication_code\\zic2\\zic2\\commons.py:246: FutureWarning: The frame.append method is deprecated and will be removed from pandas in a future version. Use pandas.concat instead.\n",
      "  self.data= self.behaviour['approach'].append(self.behaviour['exploration'],ignore_index=False).append(self.behaviour['contact'],ignore_index=False)\n"
     ]
    },
    {
     "name": "stdout",
     "output_type": "stream",
     "text": [
      "Video saved successfully!\n",
      "session:m_629_day_2_trial_1_20230802_155252\n"
     ]
    },
    {
     "data": {
      "text/plain": [
       "'Initial window frame: 184'"
      ]
     },
     "metadata": {},
     "output_type": "display_data"
    },
    {
     "data": {
      "text/plain": [
       "'Final window frame: 1854'"
      ]
     },
     "metadata": {},
     "output_type": "display_data"
    },
    {
     "name": "stdout",
     "output_type": "stream",
     "text": [
      "final_hz:16.0\n",
      "Categorize behaviours in approaches, contact and exploration\n",
      "append behaviours to main dataframe\n"
     ]
    },
    {
     "name": "stderr",
     "output_type": "stream",
     "text": [
      "z:\\lab\\escritorio\\projects\\gesture_tracking\\zic2_publication_code\\zic2\\zic2\\commons.py:226: SettingWithCopyWarning: \n",
      "A value is trying to be set on a copy of a slice from a DataFrame.\n",
      "Try using .loc[row_indexer,col_indexer] = value instead\n",
      "\n",
      "See the caveats in the documentation: https://pandas.pydata.org/pandas-docs/stable/user_guide/indexing.html#returning-a-view-versus-a-copy\n",
      "  approach_df['behaviour']='approach'\n",
      "z:\\lab\\escritorio\\projects\\gesture_tracking\\zic2_publication_code\\zic2\\zic2\\commons.py:227: SettingWithCopyWarning: \n",
      "A value is trying to be set on a copy of a slice from a DataFrame.\n",
      "Try using .loc[row_indexer,col_indexer] = value instead\n",
      "\n",
      "See the caveats in the documentation: https://pandas.pydata.org/pandas-docs/stable/user_guide/indexing.html#returning-a-view-versus-a-copy\n",
      "  contact_df['behaviour']='contact'\n",
      "z:\\lab\\escritorio\\projects\\gesture_tracking\\zic2_publication_code\\zic2\\zic2\\commons.py:228: SettingWithCopyWarning: \n",
      "A value is trying to be set on a copy of a slice from a DataFrame.\n",
      "Try using .loc[row_indexer,col_indexer] = value instead\n",
      "\n",
      "See the caveats in the documentation: https://pandas.pydata.org/pandas-docs/stable/user_guide/indexing.html#returning-a-view-versus-a-copy\n",
      "  exploration_df['behaviour']='exploration'\n",
      "z:\\lab\\escritorio\\projects\\gesture_tracking\\zic2_publication_code\\zic2\\zic2\\commons.py:246: FutureWarning: The frame.append method is deprecated and will be removed from pandas in a future version. Use pandas.concat instead.\n",
      "  self.data= self.behaviour['approach'].append(self.behaviour['exploration'],ignore_index=False).append(self.behaviour['contact'],ignore_index=False)\n",
      "z:\\lab\\escritorio\\projects\\gesture_tracking\\zic2_publication_code\\zic2\\zic2\\commons.py:246: FutureWarning: The frame.append method is deprecated and will be removed from pandas in a future version. Use pandas.concat instead.\n",
      "  self.data= self.behaviour['approach'].append(self.behaviour['exploration'],ignore_index=False).append(self.behaviour['contact'],ignore_index=False)\n"
     ]
    },
    {
     "name": "stdout",
     "output_type": "stream",
     "text": [
      "Video saved successfully!\n",
      "session:m_629_day_2_trial_2_20230802_161542\n"
     ]
    },
    {
     "data": {
      "text/plain": [
       "'Initial window frame: 71'"
      ]
     },
     "metadata": {},
     "output_type": "display_data"
    },
    {
     "data": {
      "text/plain": [
       "'Final window frame: 294'"
      ]
     },
     "metadata": {},
     "output_type": "display_data"
    },
    {
     "name": "stdout",
     "output_type": "stream",
     "text": [
      "maintaing frame rate\n",
      "Categorize behaviours in approaches, contact and exploration\n",
      "append behaviours to main dataframe\n"
     ]
    },
    {
     "name": "stderr",
     "output_type": "stream",
     "text": [
      "z:\\lab\\escritorio\\projects\\gesture_tracking\\zic2_publication_code\\zic2\\zic2\\commons.py:226: SettingWithCopyWarning: \n",
      "A value is trying to be set on a copy of a slice from a DataFrame.\n",
      "Try using .loc[row_indexer,col_indexer] = value instead\n",
      "\n",
      "See the caveats in the documentation: https://pandas.pydata.org/pandas-docs/stable/user_guide/indexing.html#returning-a-view-versus-a-copy\n",
      "  approach_df['behaviour']='approach'\n",
      "z:\\lab\\escritorio\\projects\\gesture_tracking\\zic2_publication_code\\zic2\\zic2\\commons.py:227: SettingWithCopyWarning: \n",
      "A value is trying to be set on a copy of a slice from a DataFrame.\n",
      "Try using .loc[row_indexer,col_indexer] = value instead\n",
      "\n",
      "See the caveats in the documentation: https://pandas.pydata.org/pandas-docs/stable/user_guide/indexing.html#returning-a-view-versus-a-copy\n",
      "  contact_df['behaviour']='contact'\n",
      "z:\\lab\\escritorio\\projects\\gesture_tracking\\zic2_publication_code\\zic2\\zic2\\commons.py:228: SettingWithCopyWarning: \n",
      "A value is trying to be set on a copy of a slice from a DataFrame.\n",
      "Try using .loc[row_indexer,col_indexer] = value instead\n",
      "\n",
      "See the caveats in the documentation: https://pandas.pydata.org/pandas-docs/stable/user_guide/indexing.html#returning-a-view-versus-a-copy\n",
      "  exploration_df['behaviour']='exploration'\n",
      "z:\\lab\\escritorio\\projects\\gesture_tracking\\zic2_publication_code\\zic2\\zic2\\commons.py:246: FutureWarning: The frame.append method is deprecated and will be removed from pandas in a future version. Use pandas.concat instead.\n",
      "  self.data= self.behaviour['approach'].append(self.behaviour['exploration'],ignore_index=False).append(self.behaviour['contact'],ignore_index=False)\n",
      "z:\\lab\\escritorio\\projects\\gesture_tracking\\zic2_publication_code\\zic2\\zic2\\commons.py:246: FutureWarning: The frame.append method is deprecated and will be removed from pandas in a future version. Use pandas.concat instead.\n",
      "  self.data= self.behaviour['approach'].append(self.behaviour['exploration'],ignore_index=False).append(self.behaviour['contact'],ignore_index=False)\n"
     ]
    },
    {
     "name": "stdout",
     "output_type": "stream",
     "text": [
      "Video saved successfully!\n",
      "session:m_629_day_2_trial_3_20230802_163229\n"
     ]
    },
    {
     "data": {
      "text/plain": [
       "'Initial window frame: 171'"
      ]
     },
     "metadata": {},
     "output_type": "display_data"
    },
    {
     "data": {
      "text/plain": [
       "'Final window frame: 1414'"
      ]
     },
     "metadata": {},
     "output_type": "display_data"
    },
    {
     "name": "stdout",
     "output_type": "stream",
     "text": [
      "final_hz:16.0\n",
      "Categorize behaviours in approaches, contact and exploration\n",
      "append behaviours to main dataframe\n"
     ]
    },
    {
     "name": "stderr",
     "output_type": "stream",
     "text": [
      "z:\\lab\\escritorio\\projects\\gesture_tracking\\zic2_publication_code\\zic2\\zic2\\commons.py:226: SettingWithCopyWarning: \n",
      "A value is trying to be set on a copy of a slice from a DataFrame.\n",
      "Try using .loc[row_indexer,col_indexer] = value instead\n",
      "\n",
      "See the caveats in the documentation: https://pandas.pydata.org/pandas-docs/stable/user_guide/indexing.html#returning-a-view-versus-a-copy\n",
      "  approach_df['behaviour']='approach'\n",
      "z:\\lab\\escritorio\\projects\\gesture_tracking\\zic2_publication_code\\zic2\\zic2\\commons.py:227: SettingWithCopyWarning: \n",
      "A value is trying to be set on a copy of a slice from a DataFrame.\n",
      "Try using .loc[row_indexer,col_indexer] = value instead\n",
      "\n",
      "See the caveats in the documentation: https://pandas.pydata.org/pandas-docs/stable/user_guide/indexing.html#returning-a-view-versus-a-copy\n",
      "  contact_df['behaviour']='contact'\n",
      "z:\\lab\\escritorio\\projects\\gesture_tracking\\zic2_publication_code\\zic2\\zic2\\commons.py:228: SettingWithCopyWarning: \n",
      "A value is trying to be set on a copy of a slice from a DataFrame.\n",
      "Try using .loc[row_indexer,col_indexer] = value instead\n",
      "\n",
      "See the caveats in the documentation: https://pandas.pydata.org/pandas-docs/stable/user_guide/indexing.html#returning-a-view-versus-a-copy\n",
      "  exploration_df['behaviour']='exploration'\n",
      "z:\\lab\\escritorio\\projects\\gesture_tracking\\zic2_publication_code\\zic2\\zic2\\commons.py:246: FutureWarning: The frame.append method is deprecated and will be removed from pandas in a future version. Use pandas.concat instead.\n",
      "  self.data= self.behaviour['approach'].append(self.behaviour['exploration'],ignore_index=False).append(self.behaviour['contact'],ignore_index=False)\n",
      "z:\\lab\\escritorio\\projects\\gesture_tracking\\zic2_publication_code\\zic2\\zic2\\commons.py:246: FutureWarning: The frame.append method is deprecated and will be removed from pandas in a future version. Use pandas.concat instead.\n",
      "  self.data= self.behaviour['approach'].append(self.behaviour['exploration'],ignore_index=False).append(self.behaviour['contact'],ignore_index=False)\n"
     ]
    },
    {
     "name": "stdout",
     "output_type": "stream",
     "text": [
      "Video saved successfully!\n",
      "session:m_62_day_2_trial_1_20230613_124154\n"
     ]
    },
    {
     "data": {
      "text/plain": [
       "'Initial window frame: 80'"
      ]
     },
     "metadata": {},
     "output_type": "display_data"
    },
    {
     "data": {
      "text/plain": [
       "'Final window frame: 364'"
      ]
     },
     "metadata": {},
     "output_type": "display_data"
    },
    {
     "name": "stdout",
     "output_type": "stream",
     "text": [
      "maintaing frame rate\n",
      "Categorize behaviours in approaches, contact and exploration\n",
      "append behaviours to main dataframe\n"
     ]
    },
    {
     "name": "stderr",
     "output_type": "stream",
     "text": [
      "z:\\lab\\escritorio\\projects\\gesture_tracking\\zic2_publication_code\\zic2\\zic2\\commons.py:226: SettingWithCopyWarning: \n",
      "A value is trying to be set on a copy of a slice from a DataFrame.\n",
      "Try using .loc[row_indexer,col_indexer] = value instead\n",
      "\n",
      "See the caveats in the documentation: https://pandas.pydata.org/pandas-docs/stable/user_guide/indexing.html#returning-a-view-versus-a-copy\n",
      "  approach_df['behaviour']='approach'\n",
      "z:\\lab\\escritorio\\projects\\gesture_tracking\\zic2_publication_code\\zic2\\zic2\\commons.py:227: SettingWithCopyWarning: \n",
      "A value is trying to be set on a copy of a slice from a DataFrame.\n",
      "Try using .loc[row_indexer,col_indexer] = value instead\n",
      "\n",
      "See the caveats in the documentation: https://pandas.pydata.org/pandas-docs/stable/user_guide/indexing.html#returning-a-view-versus-a-copy\n",
      "  contact_df['behaviour']='contact'\n",
      "z:\\lab\\escritorio\\projects\\gesture_tracking\\zic2_publication_code\\zic2\\zic2\\commons.py:228: SettingWithCopyWarning: \n",
      "A value is trying to be set on a copy of a slice from a DataFrame.\n",
      "Try using .loc[row_indexer,col_indexer] = value instead\n",
      "\n",
      "See the caveats in the documentation: https://pandas.pydata.org/pandas-docs/stable/user_guide/indexing.html#returning-a-view-versus-a-copy\n",
      "  exploration_df['behaviour']='exploration'\n",
      "z:\\lab\\escritorio\\projects\\gesture_tracking\\zic2_publication_code\\zic2\\zic2\\commons.py:246: FutureWarning: The frame.append method is deprecated and will be removed from pandas in a future version. Use pandas.concat instead.\n",
      "  self.data= self.behaviour['approach'].append(self.behaviour['exploration'],ignore_index=False).append(self.behaviour['contact'],ignore_index=False)\n",
      "z:\\lab\\escritorio\\projects\\gesture_tracking\\zic2_publication_code\\zic2\\zic2\\commons.py:246: FutureWarning: The frame.append method is deprecated and will be removed from pandas in a future version. Use pandas.concat instead.\n",
      "  self.data= self.behaviour['approach'].append(self.behaviour['exploration'],ignore_index=False).append(self.behaviour['contact'],ignore_index=False)\n"
     ]
    },
    {
     "name": "stdout",
     "output_type": "stream",
     "text": [
      "Video saved successfully!\n",
      "session:m_62_day_2_trial_2_20230613_130818\n"
     ]
    },
    {
     "data": {
      "text/plain": [
       "'Initial window frame: 64'"
      ]
     },
     "metadata": {},
     "output_type": "display_data"
    },
    {
     "data": {
      "text/plain": [
       "'Final window frame: 281'"
      ]
     },
     "metadata": {},
     "output_type": "display_data"
    },
    {
     "name": "stdout",
     "output_type": "stream",
     "text": [
      "maintaing frame rate\n",
      "Categorize behaviours in approaches, contact and exploration\n",
      "append behaviours to main dataframe\n"
     ]
    },
    {
     "name": "stderr",
     "output_type": "stream",
     "text": [
      "z:\\lab\\escritorio\\projects\\gesture_tracking\\zic2_publication_code\\zic2\\zic2\\commons.py:226: SettingWithCopyWarning: \n",
      "A value is trying to be set on a copy of a slice from a DataFrame.\n",
      "Try using .loc[row_indexer,col_indexer] = value instead\n",
      "\n",
      "See the caveats in the documentation: https://pandas.pydata.org/pandas-docs/stable/user_guide/indexing.html#returning-a-view-versus-a-copy\n",
      "  approach_df['behaviour']='approach'\n",
      "z:\\lab\\escritorio\\projects\\gesture_tracking\\zic2_publication_code\\zic2\\zic2\\commons.py:227: SettingWithCopyWarning: \n",
      "A value is trying to be set on a copy of a slice from a DataFrame.\n",
      "Try using .loc[row_indexer,col_indexer] = value instead\n",
      "\n",
      "See the caveats in the documentation: https://pandas.pydata.org/pandas-docs/stable/user_guide/indexing.html#returning-a-view-versus-a-copy\n",
      "  contact_df['behaviour']='contact'\n",
      "z:\\lab\\escritorio\\projects\\gesture_tracking\\zic2_publication_code\\zic2\\zic2\\commons.py:228: SettingWithCopyWarning: \n",
      "A value is trying to be set on a copy of a slice from a DataFrame.\n",
      "Try using .loc[row_indexer,col_indexer] = value instead\n",
      "\n",
      "See the caveats in the documentation: https://pandas.pydata.org/pandas-docs/stable/user_guide/indexing.html#returning-a-view-versus-a-copy\n",
      "  exploration_df['behaviour']='exploration'\n",
      "z:\\lab\\escritorio\\projects\\gesture_tracking\\zic2_publication_code\\zic2\\zic2\\commons.py:246: FutureWarning: The frame.append method is deprecated and will be removed from pandas in a future version. Use pandas.concat instead.\n",
      "  self.data= self.behaviour['approach'].append(self.behaviour['exploration'],ignore_index=False).append(self.behaviour['contact'],ignore_index=False)\n",
      "z:\\lab\\escritorio\\projects\\gesture_tracking\\zic2_publication_code\\zic2\\zic2\\commons.py:246: FutureWarning: The frame.append method is deprecated and will be removed from pandas in a future version. Use pandas.concat instead.\n",
      "  self.data= self.behaviour['approach'].append(self.behaviour['exploration'],ignore_index=False).append(self.behaviour['contact'],ignore_index=False)\n"
     ]
    },
    {
     "name": "stdout",
     "output_type": "stream",
     "text": [
      "Video saved successfully!\n",
      "session:m_62_day_2_trial_3_20230613_133037\n"
     ]
    },
    {
     "data": {
      "text/plain": [
       "'Initial window frame: 164'"
      ]
     },
     "metadata": {},
     "output_type": "display_data"
    },
    {
     "data": {
      "text/plain": [
       "'Final window frame: 856'"
      ]
     },
     "metadata": {},
     "output_type": "display_data"
    },
    {
     "name": "stdout",
     "output_type": "stream",
     "text": [
      "final_hz:16.0\n",
      "Categorize behaviours in approaches, contact and exploration\n",
      "append behaviours to main dataframe\n"
     ]
    },
    {
     "name": "stderr",
     "output_type": "stream",
     "text": [
      "z:\\lab\\escritorio\\projects\\gesture_tracking\\zic2_publication_code\\zic2\\zic2\\commons.py:226: SettingWithCopyWarning: \n",
      "A value is trying to be set on a copy of a slice from a DataFrame.\n",
      "Try using .loc[row_indexer,col_indexer] = value instead\n",
      "\n",
      "See the caveats in the documentation: https://pandas.pydata.org/pandas-docs/stable/user_guide/indexing.html#returning-a-view-versus-a-copy\n",
      "  approach_df['behaviour']='approach'\n",
      "z:\\lab\\escritorio\\projects\\gesture_tracking\\zic2_publication_code\\zic2\\zic2\\commons.py:227: SettingWithCopyWarning: \n",
      "A value is trying to be set on a copy of a slice from a DataFrame.\n",
      "Try using .loc[row_indexer,col_indexer] = value instead\n",
      "\n",
      "See the caveats in the documentation: https://pandas.pydata.org/pandas-docs/stable/user_guide/indexing.html#returning-a-view-versus-a-copy\n",
      "  contact_df['behaviour']='contact'\n",
      "z:\\lab\\escritorio\\projects\\gesture_tracking\\zic2_publication_code\\zic2\\zic2\\commons.py:228: SettingWithCopyWarning: \n",
      "A value is trying to be set on a copy of a slice from a DataFrame.\n",
      "Try using .loc[row_indexer,col_indexer] = value instead\n",
      "\n",
      "See the caveats in the documentation: https://pandas.pydata.org/pandas-docs/stable/user_guide/indexing.html#returning-a-view-versus-a-copy\n",
      "  exploration_df['behaviour']='exploration'\n",
      "z:\\lab\\escritorio\\projects\\gesture_tracking\\zic2_publication_code\\zic2\\zic2\\commons.py:246: FutureWarning: The frame.append method is deprecated and will be removed from pandas in a future version. Use pandas.concat instead.\n",
      "  self.data= self.behaviour['approach'].append(self.behaviour['exploration'],ignore_index=False).append(self.behaviour['contact'],ignore_index=False)\n",
      "z:\\lab\\escritorio\\projects\\gesture_tracking\\zic2_publication_code\\zic2\\zic2\\commons.py:246: FutureWarning: The frame.append method is deprecated and will be removed from pandas in a future version. Use pandas.concat instead.\n",
      "  self.data= self.behaviour['approach'].append(self.behaviour['exploration'],ignore_index=False).append(self.behaviour['contact'],ignore_index=False)\n"
     ]
    },
    {
     "name": "stdout",
     "output_type": "stream",
     "text": [
      "Video saved successfully!\n",
      "session:m_630_day_2_trial_1_20230802_151715\n"
     ]
    },
    {
     "data": {
      "text/plain": [
       "'Initial window frame: 64'"
      ]
     },
     "metadata": {},
     "output_type": "display_data"
    },
    {
     "data": {
      "text/plain": [
       "'Final window frame: 1046'"
      ]
     },
     "metadata": {},
     "output_type": "display_data"
    },
    {
     "name": "stdout",
     "output_type": "stream",
     "text": [
      "maintaing frame rate\n",
      "Categorize behaviours in approaches, contact and exploration\n",
      "append behaviours to main dataframe\n"
     ]
    },
    {
     "name": "stderr",
     "output_type": "stream",
     "text": [
      "z:\\lab\\escritorio\\projects\\gesture_tracking\\zic2_publication_code\\zic2\\zic2\\commons.py:226: SettingWithCopyWarning: \n",
      "A value is trying to be set on a copy of a slice from a DataFrame.\n",
      "Try using .loc[row_indexer,col_indexer] = value instead\n",
      "\n",
      "See the caveats in the documentation: https://pandas.pydata.org/pandas-docs/stable/user_guide/indexing.html#returning-a-view-versus-a-copy\n",
      "  approach_df['behaviour']='approach'\n",
      "z:\\lab\\escritorio\\projects\\gesture_tracking\\zic2_publication_code\\zic2\\zic2\\commons.py:227: SettingWithCopyWarning: \n",
      "A value is trying to be set on a copy of a slice from a DataFrame.\n",
      "Try using .loc[row_indexer,col_indexer] = value instead\n",
      "\n",
      "See the caveats in the documentation: https://pandas.pydata.org/pandas-docs/stable/user_guide/indexing.html#returning-a-view-versus-a-copy\n",
      "  contact_df['behaviour']='contact'\n",
      "z:\\lab\\escritorio\\projects\\gesture_tracking\\zic2_publication_code\\zic2\\zic2\\commons.py:228: SettingWithCopyWarning: \n",
      "A value is trying to be set on a copy of a slice from a DataFrame.\n",
      "Try using .loc[row_indexer,col_indexer] = value instead\n",
      "\n",
      "See the caveats in the documentation: https://pandas.pydata.org/pandas-docs/stable/user_guide/indexing.html#returning-a-view-versus-a-copy\n",
      "  exploration_df['behaviour']='exploration'\n",
      "z:\\lab\\escritorio\\projects\\gesture_tracking\\zic2_publication_code\\zic2\\zic2\\commons.py:246: FutureWarning: The frame.append method is deprecated and will be removed from pandas in a future version. Use pandas.concat instead.\n",
      "  self.data= self.behaviour['approach'].append(self.behaviour['exploration'],ignore_index=False).append(self.behaviour['contact'],ignore_index=False)\n",
      "z:\\lab\\escritorio\\projects\\gesture_tracking\\zic2_publication_code\\zic2\\zic2\\commons.py:246: FutureWarning: The frame.append method is deprecated and will be removed from pandas in a future version. Use pandas.concat instead.\n",
      "  self.data= self.behaviour['approach'].append(self.behaviour['exploration'],ignore_index=False).append(self.behaviour['contact'],ignore_index=False)\n"
     ]
    },
    {
     "name": "stdout",
     "output_type": "stream",
     "text": [
      "Video saved successfully!\n",
      "session:m_630_day_2_trial_2_20230802_152945\n"
     ]
    },
    {
     "data": {
      "text/plain": [
       "'Initial window frame: 67'"
      ]
     },
     "metadata": {},
     "output_type": "display_data"
    },
    {
     "data": {
      "text/plain": [
       "'Final window frame: 611'"
      ]
     },
     "metadata": {},
     "output_type": "display_data"
    },
    {
     "name": "stdout",
     "output_type": "stream",
     "text": [
      "maintaing frame rate\n",
      "Categorize behaviours in approaches, contact and exploration\n",
      "append behaviours to main dataframe\n"
     ]
    },
    {
     "name": "stderr",
     "output_type": "stream",
     "text": [
      "z:\\lab\\escritorio\\projects\\gesture_tracking\\zic2_publication_code\\zic2\\zic2\\commons.py:226: SettingWithCopyWarning: \n",
      "A value is trying to be set on a copy of a slice from a DataFrame.\n",
      "Try using .loc[row_indexer,col_indexer] = value instead\n",
      "\n",
      "See the caveats in the documentation: https://pandas.pydata.org/pandas-docs/stable/user_guide/indexing.html#returning-a-view-versus-a-copy\n",
      "  approach_df['behaviour']='approach'\n",
      "z:\\lab\\escritorio\\projects\\gesture_tracking\\zic2_publication_code\\zic2\\zic2\\commons.py:227: SettingWithCopyWarning: \n",
      "A value is trying to be set on a copy of a slice from a DataFrame.\n",
      "Try using .loc[row_indexer,col_indexer] = value instead\n",
      "\n",
      "See the caveats in the documentation: https://pandas.pydata.org/pandas-docs/stable/user_guide/indexing.html#returning-a-view-versus-a-copy\n",
      "  contact_df['behaviour']='contact'\n",
      "z:\\lab\\escritorio\\projects\\gesture_tracking\\zic2_publication_code\\zic2\\zic2\\commons.py:228: SettingWithCopyWarning: \n",
      "A value is trying to be set on a copy of a slice from a DataFrame.\n",
      "Try using .loc[row_indexer,col_indexer] = value instead\n",
      "\n",
      "See the caveats in the documentation: https://pandas.pydata.org/pandas-docs/stable/user_guide/indexing.html#returning-a-view-versus-a-copy\n",
      "  exploration_df['behaviour']='exploration'\n",
      "z:\\lab\\escritorio\\projects\\gesture_tracking\\zic2_publication_code\\zic2\\zic2\\commons.py:246: FutureWarning: The frame.append method is deprecated and will be removed from pandas in a future version. Use pandas.concat instead.\n",
      "  self.data= self.behaviour['approach'].append(self.behaviour['exploration'],ignore_index=False).append(self.behaviour['contact'],ignore_index=False)\n",
      "z:\\lab\\escritorio\\projects\\gesture_tracking\\zic2_publication_code\\zic2\\zic2\\commons.py:246: FutureWarning: The frame.append method is deprecated and will be removed from pandas in a future version. Use pandas.concat instead.\n",
      "  self.data= self.behaviour['approach'].append(self.behaviour['exploration'],ignore_index=False).append(self.behaviour['contact'],ignore_index=False)\n"
     ]
    },
    {
     "name": "stdout",
     "output_type": "stream",
     "text": [
      "Video saved successfully!\n",
      "session:m_630_day_2_trial_3_20230802_154015\n"
     ]
    },
    {
     "data": {
      "text/plain": [
       "'Initial window frame: 145'"
      ]
     },
     "metadata": {},
     "output_type": "display_data"
    },
    {
     "data": {
      "text/plain": [
       "'Final window frame: 2023'"
      ]
     },
     "metadata": {},
     "output_type": "display_data"
    },
    {
     "name": "stdout",
     "output_type": "stream",
     "text": [
      "final_hz:16.0\n",
      "Categorize behaviours in approaches, contact and exploration\n",
      "append behaviours to main dataframe\n"
     ]
    },
    {
     "name": "stderr",
     "output_type": "stream",
     "text": [
      "z:\\lab\\escritorio\\projects\\gesture_tracking\\zic2_publication_code\\zic2\\zic2\\commons.py:226: SettingWithCopyWarning: \n",
      "A value is trying to be set on a copy of a slice from a DataFrame.\n",
      "Try using .loc[row_indexer,col_indexer] = value instead\n",
      "\n",
      "See the caveats in the documentation: https://pandas.pydata.org/pandas-docs/stable/user_guide/indexing.html#returning-a-view-versus-a-copy\n",
      "  approach_df['behaviour']='approach'\n",
      "z:\\lab\\escritorio\\projects\\gesture_tracking\\zic2_publication_code\\zic2\\zic2\\commons.py:227: SettingWithCopyWarning: \n",
      "A value is trying to be set on a copy of a slice from a DataFrame.\n",
      "Try using .loc[row_indexer,col_indexer] = value instead\n",
      "\n",
      "See the caveats in the documentation: https://pandas.pydata.org/pandas-docs/stable/user_guide/indexing.html#returning-a-view-versus-a-copy\n",
      "  contact_df['behaviour']='contact'\n",
      "z:\\lab\\escritorio\\projects\\gesture_tracking\\zic2_publication_code\\zic2\\zic2\\commons.py:228: SettingWithCopyWarning: \n",
      "A value is trying to be set on a copy of a slice from a DataFrame.\n",
      "Try using .loc[row_indexer,col_indexer] = value instead\n",
      "\n",
      "See the caveats in the documentation: https://pandas.pydata.org/pandas-docs/stable/user_guide/indexing.html#returning-a-view-versus-a-copy\n",
      "  exploration_df['behaviour']='exploration'\n",
      "z:\\lab\\escritorio\\projects\\gesture_tracking\\zic2_publication_code\\zic2\\zic2\\commons.py:246: FutureWarning: The frame.append method is deprecated and will be removed from pandas in a future version. Use pandas.concat instead.\n",
      "  self.data= self.behaviour['approach'].append(self.behaviour['exploration'],ignore_index=False).append(self.behaviour['contact'],ignore_index=False)\n",
      "z:\\lab\\escritorio\\projects\\gesture_tracking\\zic2_publication_code\\zic2\\zic2\\commons.py:246: FutureWarning: The frame.append method is deprecated and will be removed from pandas in a future version. Use pandas.concat instead.\n",
      "  self.data= self.behaviour['approach'].append(self.behaviour['exploration'],ignore_index=False).append(self.behaviour['contact'],ignore_index=False)\n"
     ]
    },
    {
     "name": "stdout",
     "output_type": "stream",
     "text": [
      "Video saved successfully!\n",
      "session:m_63_day_2_trial_1_20230613_125045\n"
     ]
    },
    {
     "data": {
      "text/plain": [
       "'Initial window frame: 162'"
      ]
     },
     "metadata": {},
     "output_type": "display_data"
    },
    {
     "data": {
      "text/plain": [
       "'Final window frame: 444'"
      ]
     },
     "metadata": {},
     "output_type": "display_data"
    },
    {
     "name": "stdout",
     "output_type": "stream",
     "text": [
      "final_hz:16.0\n",
      "Categorize behaviours in approaches, contact and exploration\n",
      "append behaviours to main dataframe\n",
      "Video saved successfully!\n"
     ]
    },
    {
     "name": "stderr",
     "output_type": "stream",
     "text": [
      "z:\\lab\\escritorio\\projects\\gesture_tracking\\zic2_publication_code\\zic2\\zic2\\commons.py:226: SettingWithCopyWarning: \n",
      "A value is trying to be set on a copy of a slice from a DataFrame.\n",
      "Try using .loc[row_indexer,col_indexer] = value instead\n",
      "\n",
      "See the caveats in the documentation: https://pandas.pydata.org/pandas-docs/stable/user_guide/indexing.html#returning-a-view-versus-a-copy\n",
      "  approach_df['behaviour']='approach'\n",
      "z:\\lab\\escritorio\\projects\\gesture_tracking\\zic2_publication_code\\zic2\\zic2\\commons.py:227: SettingWithCopyWarning: \n",
      "A value is trying to be set on a copy of a slice from a DataFrame.\n",
      "Try using .loc[row_indexer,col_indexer] = value instead\n",
      "\n",
      "See the caveats in the documentation: https://pandas.pydata.org/pandas-docs/stable/user_guide/indexing.html#returning-a-view-versus-a-copy\n",
      "  contact_df['behaviour']='contact'\n",
      "z:\\lab\\escritorio\\projects\\gesture_tracking\\zic2_publication_code\\zic2\\zic2\\commons.py:228: SettingWithCopyWarning: \n",
      "A value is trying to be set on a copy of a slice from a DataFrame.\n",
      "Try using .loc[row_indexer,col_indexer] = value instead\n",
      "\n",
      "See the caveats in the documentation: https://pandas.pydata.org/pandas-docs/stable/user_guide/indexing.html#returning-a-view-versus-a-copy\n",
      "  exploration_df['behaviour']='exploration'\n",
      "z:\\lab\\escritorio\\projects\\gesture_tracking\\zic2_publication_code\\zic2\\zic2\\commons.py:246: FutureWarning: The frame.append method is deprecated and will be removed from pandas in a future version. Use pandas.concat instead.\n",
      "  self.data= self.behaviour['approach'].append(self.behaviour['exploration'],ignore_index=False).append(self.behaviour['contact'],ignore_index=False)\n",
      "z:\\lab\\escritorio\\projects\\gesture_tracking\\zic2_publication_code\\zic2\\zic2\\commons.py:246: FutureWarning: The frame.append method is deprecated and will be removed from pandas in a future version. Use pandas.concat instead.\n",
      "  self.data= self.behaviour['approach'].append(self.behaviour['exploration'],ignore_index=False).append(self.behaviour['contact'],ignore_index=False)\n"
     ]
    },
    {
     "name": "stdout",
     "output_type": "stream",
     "text": [
      "session:m_63_day_2_trial_2_20230613_131316\n"
     ]
    },
    {
     "data": {
      "text/plain": [
       "'Initial window frame: 82'"
      ]
     },
     "metadata": {},
     "output_type": "display_data"
    },
    {
     "data": {
      "text/plain": [
       "'Final window frame: 250'"
      ]
     },
     "metadata": {},
     "output_type": "display_data"
    },
    {
     "name": "stdout",
     "output_type": "stream",
     "text": [
      "maintaing frame rate\n",
      "Categorize behaviours in approaches, contact and exploration\n",
      "append behaviours to main dataframe\n"
     ]
    },
    {
     "name": "stderr",
     "output_type": "stream",
     "text": [
      "z:\\lab\\escritorio\\projects\\gesture_tracking\\zic2_publication_code\\zic2\\zic2\\commons.py:226: SettingWithCopyWarning: \n",
      "A value is trying to be set on a copy of a slice from a DataFrame.\n",
      "Try using .loc[row_indexer,col_indexer] = value instead\n",
      "\n",
      "See the caveats in the documentation: https://pandas.pydata.org/pandas-docs/stable/user_guide/indexing.html#returning-a-view-versus-a-copy\n",
      "  approach_df['behaviour']='approach'\n",
      "z:\\lab\\escritorio\\projects\\gesture_tracking\\zic2_publication_code\\zic2\\zic2\\commons.py:227: SettingWithCopyWarning: \n",
      "A value is trying to be set on a copy of a slice from a DataFrame.\n",
      "Try using .loc[row_indexer,col_indexer] = value instead\n",
      "\n",
      "See the caveats in the documentation: https://pandas.pydata.org/pandas-docs/stable/user_guide/indexing.html#returning-a-view-versus-a-copy\n",
      "  contact_df['behaviour']='contact'\n",
      "z:\\lab\\escritorio\\projects\\gesture_tracking\\zic2_publication_code\\zic2\\zic2\\commons.py:228: SettingWithCopyWarning: \n",
      "A value is trying to be set on a copy of a slice from a DataFrame.\n",
      "Try using .loc[row_indexer,col_indexer] = value instead\n",
      "\n",
      "See the caveats in the documentation: https://pandas.pydata.org/pandas-docs/stable/user_guide/indexing.html#returning-a-view-versus-a-copy\n",
      "  exploration_df['behaviour']='exploration'\n",
      "z:\\lab\\escritorio\\projects\\gesture_tracking\\zic2_publication_code\\zic2\\zic2\\commons.py:246: FutureWarning: The frame.append method is deprecated and will be removed from pandas in a future version. Use pandas.concat instead.\n",
      "  self.data= self.behaviour['approach'].append(self.behaviour['exploration'],ignore_index=False).append(self.behaviour['contact'],ignore_index=False)\n",
      "z:\\lab\\escritorio\\projects\\gesture_tracking\\zic2_publication_code\\zic2\\zic2\\commons.py:246: FutureWarning: The frame.append method is deprecated and will be removed from pandas in a future version. Use pandas.concat instead.\n",
      "  self.data= self.behaviour['approach'].append(self.behaviour['exploration'],ignore_index=False).append(self.behaviour['contact'],ignore_index=False)\n"
     ]
    },
    {
     "name": "stdout",
     "output_type": "stream",
     "text": [
      "Video saved successfully!\n",
      "session:m_63_day_2_trial_3_20230613_133715\n"
     ]
    },
    {
     "data": {
      "text/plain": [
       "'Initial window frame: 34'"
      ]
     },
     "metadata": {},
     "output_type": "display_data"
    },
    {
     "data": {
      "text/plain": [
       "'Final window frame: 351'"
      ]
     },
     "metadata": {},
     "output_type": "display_data"
    },
    {
     "name": "stdout",
     "output_type": "stream",
     "text": [
      "maintaing frame rate\n",
      "Categorize behaviours in approaches, contact and exploration\n",
      "append behaviours to main dataframe\n"
     ]
    },
    {
     "name": "stderr",
     "output_type": "stream",
     "text": [
      "z:\\lab\\escritorio\\projects\\gesture_tracking\\zic2_publication_code\\zic2\\zic2\\commons.py:226: SettingWithCopyWarning: \n",
      "A value is trying to be set on a copy of a slice from a DataFrame.\n",
      "Try using .loc[row_indexer,col_indexer] = value instead\n",
      "\n",
      "See the caveats in the documentation: https://pandas.pydata.org/pandas-docs/stable/user_guide/indexing.html#returning-a-view-versus-a-copy\n",
      "  approach_df['behaviour']='approach'\n",
      "z:\\lab\\escritorio\\projects\\gesture_tracking\\zic2_publication_code\\zic2\\zic2\\commons.py:227: SettingWithCopyWarning: \n",
      "A value is trying to be set on a copy of a slice from a DataFrame.\n",
      "Try using .loc[row_indexer,col_indexer] = value instead\n",
      "\n",
      "See the caveats in the documentation: https://pandas.pydata.org/pandas-docs/stable/user_guide/indexing.html#returning-a-view-versus-a-copy\n",
      "  contact_df['behaviour']='contact'\n",
      "z:\\lab\\escritorio\\projects\\gesture_tracking\\zic2_publication_code\\zic2\\zic2\\commons.py:228: SettingWithCopyWarning: \n",
      "A value is trying to be set on a copy of a slice from a DataFrame.\n",
      "Try using .loc[row_indexer,col_indexer] = value instead\n",
      "\n",
      "See the caveats in the documentation: https://pandas.pydata.org/pandas-docs/stable/user_guide/indexing.html#returning-a-view-versus-a-copy\n",
      "  exploration_df['behaviour']='exploration'\n",
      "z:\\lab\\escritorio\\projects\\gesture_tracking\\zic2_publication_code\\zic2\\zic2\\commons.py:246: FutureWarning: The frame.append method is deprecated and will be removed from pandas in a future version. Use pandas.concat instead.\n",
      "  self.data= self.behaviour['approach'].append(self.behaviour['exploration'],ignore_index=False).append(self.behaviour['contact'],ignore_index=False)\n",
      "z:\\lab\\escritorio\\projects\\gesture_tracking\\zic2_publication_code\\zic2\\zic2\\commons.py:246: FutureWarning: The frame.append method is deprecated and will be removed from pandas in a future version. Use pandas.concat instead.\n",
      "  self.data= self.behaviour['approach'].append(self.behaviour['exploration'],ignore_index=False).append(self.behaviour['contact'],ignore_index=False)\n"
     ]
    },
    {
     "name": "stdout",
     "output_type": "stream",
     "text": [
      "Video saved successfully!\n",
      "session:m_64_day_2_trial_1_20230613_125509\n"
     ]
    },
    {
     "data": {
      "text/plain": [
       "'Initial window frame: 66'"
      ]
     },
     "metadata": {},
     "output_type": "display_data"
    },
    {
     "data": {
      "text/plain": [
       "'Final window frame: 421'"
      ]
     },
     "metadata": {},
     "output_type": "display_data"
    },
    {
     "name": "stdout",
     "output_type": "stream",
     "text": [
      "maintaing frame rate\n",
      "Categorize behaviours in approaches, contact and exploration\n",
      "append behaviours to main dataframe\n"
     ]
    },
    {
     "name": "stderr",
     "output_type": "stream",
     "text": [
      "z:\\lab\\escritorio\\projects\\gesture_tracking\\zic2_publication_code\\zic2\\zic2\\commons.py:226: SettingWithCopyWarning: \n",
      "A value is trying to be set on a copy of a slice from a DataFrame.\n",
      "Try using .loc[row_indexer,col_indexer] = value instead\n",
      "\n",
      "See the caveats in the documentation: https://pandas.pydata.org/pandas-docs/stable/user_guide/indexing.html#returning-a-view-versus-a-copy\n",
      "  approach_df['behaviour']='approach'\n",
      "z:\\lab\\escritorio\\projects\\gesture_tracking\\zic2_publication_code\\zic2\\zic2\\commons.py:227: SettingWithCopyWarning: \n",
      "A value is trying to be set on a copy of a slice from a DataFrame.\n",
      "Try using .loc[row_indexer,col_indexer] = value instead\n",
      "\n",
      "See the caveats in the documentation: https://pandas.pydata.org/pandas-docs/stable/user_guide/indexing.html#returning-a-view-versus-a-copy\n",
      "  contact_df['behaviour']='contact'\n",
      "z:\\lab\\escritorio\\projects\\gesture_tracking\\zic2_publication_code\\zic2\\zic2\\commons.py:228: SettingWithCopyWarning: \n",
      "A value is trying to be set on a copy of a slice from a DataFrame.\n",
      "Try using .loc[row_indexer,col_indexer] = value instead\n",
      "\n",
      "See the caveats in the documentation: https://pandas.pydata.org/pandas-docs/stable/user_guide/indexing.html#returning-a-view-versus-a-copy\n",
      "  exploration_df['behaviour']='exploration'\n",
      "z:\\lab\\escritorio\\projects\\gesture_tracking\\zic2_publication_code\\zic2\\zic2\\commons.py:246: FutureWarning: The frame.append method is deprecated and will be removed from pandas in a future version. Use pandas.concat instead.\n",
      "  self.data= self.behaviour['approach'].append(self.behaviour['exploration'],ignore_index=False).append(self.behaviour['contact'],ignore_index=False)\n",
      "z:\\lab\\escritorio\\projects\\gesture_tracking\\zic2_publication_code\\zic2\\zic2\\commons.py:246: FutureWarning: The frame.append method is deprecated and will be removed from pandas in a future version. Use pandas.concat instead.\n",
      "  self.data= self.behaviour['approach'].append(self.behaviour['exploration'],ignore_index=False).append(self.behaviour['contact'],ignore_index=False)\n"
     ]
    },
    {
     "name": "stdout",
     "output_type": "stream",
     "text": [
      "Video saved successfully!\n",
      "session:m_64_day_2_trial_2_20230613_131943\n"
     ]
    },
    {
     "data": {
      "text/plain": [
       "'Initial window frame: 197'"
      ]
     },
     "metadata": {},
     "output_type": "display_data"
    },
    {
     "data": {
      "text/plain": [
       "'Final window frame: 581'"
      ]
     },
     "metadata": {},
     "output_type": "display_data"
    },
    {
     "name": "stdout",
     "output_type": "stream",
     "text": [
      "final_hz:16.0\n",
      "Categorize behaviours in approaches, contact and exploration\n",
      "append behaviours to main dataframe\n"
     ]
    },
    {
     "name": "stderr",
     "output_type": "stream",
     "text": [
      "z:\\lab\\escritorio\\projects\\gesture_tracking\\zic2_publication_code\\zic2\\zic2\\commons.py:226: SettingWithCopyWarning: \n",
      "A value is trying to be set on a copy of a slice from a DataFrame.\n",
      "Try using .loc[row_indexer,col_indexer] = value instead\n",
      "\n",
      "See the caveats in the documentation: https://pandas.pydata.org/pandas-docs/stable/user_guide/indexing.html#returning-a-view-versus-a-copy\n",
      "  approach_df['behaviour']='approach'\n",
      "z:\\lab\\escritorio\\projects\\gesture_tracking\\zic2_publication_code\\zic2\\zic2\\commons.py:227: SettingWithCopyWarning: \n",
      "A value is trying to be set on a copy of a slice from a DataFrame.\n",
      "Try using .loc[row_indexer,col_indexer] = value instead\n",
      "\n",
      "See the caveats in the documentation: https://pandas.pydata.org/pandas-docs/stable/user_guide/indexing.html#returning-a-view-versus-a-copy\n",
      "  contact_df['behaviour']='contact'\n",
      "z:\\lab\\escritorio\\projects\\gesture_tracking\\zic2_publication_code\\zic2\\zic2\\commons.py:228: SettingWithCopyWarning: \n",
      "A value is trying to be set on a copy of a slice from a DataFrame.\n",
      "Try using .loc[row_indexer,col_indexer] = value instead\n",
      "\n",
      "See the caveats in the documentation: https://pandas.pydata.org/pandas-docs/stable/user_guide/indexing.html#returning-a-view-versus-a-copy\n",
      "  exploration_df['behaviour']='exploration'\n",
      "z:\\lab\\escritorio\\projects\\gesture_tracking\\zic2_publication_code\\zic2\\zic2\\commons.py:246: FutureWarning: The frame.append method is deprecated and will be removed from pandas in a future version. Use pandas.concat instead.\n",
      "  self.data= self.behaviour['approach'].append(self.behaviour['exploration'],ignore_index=False).append(self.behaviour['contact'],ignore_index=False)\n",
      "z:\\lab\\escritorio\\projects\\gesture_tracking\\zic2_publication_code\\zic2\\zic2\\commons.py:246: FutureWarning: The frame.append method is deprecated and will be removed from pandas in a future version. Use pandas.concat instead.\n",
      "  self.data= self.behaviour['approach'].append(self.behaviour['exploration'],ignore_index=False).append(self.behaviour['contact'],ignore_index=False)\n"
     ]
    },
    {
     "name": "stdout",
     "output_type": "stream",
     "text": [
      "Video saved successfully!\n",
      "session:m_64_day_2_trial_3_20230613_134357\n"
     ]
    },
    {
     "data": {
      "text/plain": [
       "'Initial window frame: 193'"
      ]
     },
     "metadata": {},
     "output_type": "display_data"
    },
    {
     "data": {
      "text/plain": [
       "'Final window frame: 1531'"
      ]
     },
     "metadata": {},
     "output_type": "display_data"
    },
    {
     "name": "stdout",
     "output_type": "stream",
     "text": [
      "final_hz:16.0\n",
      "Categorize behaviours in approaches, contact and exploration\n",
      "append behaviours to main dataframe\n"
     ]
    },
    {
     "name": "stderr",
     "output_type": "stream",
     "text": [
      "z:\\lab\\escritorio\\projects\\gesture_tracking\\zic2_publication_code\\zic2\\zic2\\commons.py:226: SettingWithCopyWarning: \n",
      "A value is trying to be set on a copy of a slice from a DataFrame.\n",
      "Try using .loc[row_indexer,col_indexer] = value instead\n",
      "\n",
      "See the caveats in the documentation: https://pandas.pydata.org/pandas-docs/stable/user_guide/indexing.html#returning-a-view-versus-a-copy\n",
      "  approach_df['behaviour']='approach'\n",
      "z:\\lab\\escritorio\\projects\\gesture_tracking\\zic2_publication_code\\zic2\\zic2\\commons.py:227: SettingWithCopyWarning: \n",
      "A value is trying to be set on a copy of a slice from a DataFrame.\n",
      "Try using .loc[row_indexer,col_indexer] = value instead\n",
      "\n",
      "See the caveats in the documentation: https://pandas.pydata.org/pandas-docs/stable/user_guide/indexing.html#returning-a-view-versus-a-copy\n",
      "  contact_df['behaviour']='contact'\n",
      "z:\\lab\\escritorio\\projects\\gesture_tracking\\zic2_publication_code\\zic2\\zic2\\commons.py:228: SettingWithCopyWarning: \n",
      "A value is trying to be set on a copy of a slice from a DataFrame.\n",
      "Try using .loc[row_indexer,col_indexer] = value instead\n",
      "\n",
      "See the caveats in the documentation: https://pandas.pydata.org/pandas-docs/stable/user_guide/indexing.html#returning-a-view-versus-a-copy\n",
      "  exploration_df['behaviour']='exploration'\n",
      "z:\\lab\\escritorio\\projects\\gesture_tracking\\zic2_publication_code\\zic2\\zic2\\commons.py:246: FutureWarning: The frame.append method is deprecated and will be removed from pandas in a future version. Use pandas.concat instead.\n",
      "  self.data= self.behaviour['approach'].append(self.behaviour['exploration'],ignore_index=False).append(self.behaviour['contact'],ignore_index=False)\n",
      "z:\\lab\\escritorio\\projects\\gesture_tracking\\zic2_publication_code\\zic2\\zic2\\commons.py:246: FutureWarning: The frame.append method is deprecated and will be removed from pandas in a future version. Use pandas.concat instead.\n",
      "  self.data= self.behaviour['approach'].append(self.behaviour['exploration'],ignore_index=False).append(self.behaviour['contact'],ignore_index=False)\n"
     ]
    },
    {
     "name": "stdout",
     "output_type": "stream",
     "text": [
      "Video saved successfully!\n",
      "session:m_90_day_2_trial_1_20230615_131842\n"
     ]
    },
    {
     "data": {
      "text/plain": [
       "'Initial window frame: 67'"
      ]
     },
     "metadata": {},
     "output_type": "display_data"
    },
    {
     "data": {
      "text/plain": [
       "'Final window frame: 1667'"
      ]
     },
     "metadata": {},
     "output_type": "display_data"
    },
    {
     "name": "stdout",
     "output_type": "stream",
     "text": [
      "maintaing frame rate\n",
      "Categorize behaviours in approaches, contact and exploration\n",
      "append behaviours to main dataframe\n"
     ]
    },
    {
     "name": "stderr",
     "output_type": "stream",
     "text": [
      "z:\\lab\\escritorio\\projects\\gesture_tracking\\zic2_publication_code\\zic2\\zic2\\commons.py:226: SettingWithCopyWarning: \n",
      "A value is trying to be set on a copy of a slice from a DataFrame.\n",
      "Try using .loc[row_indexer,col_indexer] = value instead\n",
      "\n",
      "See the caveats in the documentation: https://pandas.pydata.org/pandas-docs/stable/user_guide/indexing.html#returning-a-view-versus-a-copy\n",
      "  approach_df['behaviour']='approach'\n",
      "z:\\lab\\escritorio\\projects\\gesture_tracking\\zic2_publication_code\\zic2\\zic2\\commons.py:227: SettingWithCopyWarning: \n",
      "A value is trying to be set on a copy of a slice from a DataFrame.\n",
      "Try using .loc[row_indexer,col_indexer] = value instead\n",
      "\n",
      "See the caveats in the documentation: https://pandas.pydata.org/pandas-docs/stable/user_guide/indexing.html#returning-a-view-versus-a-copy\n",
      "  contact_df['behaviour']='contact'\n",
      "z:\\lab\\escritorio\\projects\\gesture_tracking\\zic2_publication_code\\zic2\\zic2\\commons.py:228: SettingWithCopyWarning: \n",
      "A value is trying to be set on a copy of a slice from a DataFrame.\n",
      "Try using .loc[row_indexer,col_indexer] = value instead\n",
      "\n",
      "See the caveats in the documentation: https://pandas.pydata.org/pandas-docs/stable/user_guide/indexing.html#returning-a-view-versus-a-copy\n",
      "  exploration_df['behaviour']='exploration'\n",
      "z:\\lab\\escritorio\\projects\\gesture_tracking\\zic2_publication_code\\zic2\\zic2\\commons.py:246: FutureWarning: The frame.append method is deprecated and will be removed from pandas in a future version. Use pandas.concat instead.\n",
      "  self.data= self.behaviour['approach'].append(self.behaviour['exploration'],ignore_index=False).append(self.behaviour['contact'],ignore_index=False)\n",
      "z:\\lab\\escritorio\\projects\\gesture_tracking\\zic2_publication_code\\zic2\\zic2\\commons.py:246: FutureWarning: The frame.append method is deprecated and will be removed from pandas in a future version. Use pandas.concat instead.\n",
      "  self.data= self.behaviour['approach'].append(self.behaviour['exploration'],ignore_index=False).append(self.behaviour['contact'],ignore_index=False)\n"
     ]
    },
    {
     "name": "stdout",
     "output_type": "stream",
     "text": [
      "Video saved successfully!\n",
      "session:m_90_day_2_trial_2_20230615_134001\n"
     ]
    },
    {
     "data": {
      "text/plain": [
       "'Initial window frame: 168'"
      ]
     },
     "metadata": {},
     "output_type": "display_data"
    },
    {
     "data": {
      "text/plain": [
       "'Final window frame: 459'"
      ]
     },
     "metadata": {},
     "output_type": "display_data"
    },
    {
     "name": "stdout",
     "output_type": "stream",
     "text": [
      "maintaing frame rate\n",
      "Categorize behaviours in approaches, contact and exploration\n",
      "append behaviours to main dataframe\n"
     ]
    },
    {
     "name": "stderr",
     "output_type": "stream",
     "text": [
      "z:\\lab\\escritorio\\projects\\gesture_tracking\\zic2_publication_code\\zic2\\zic2\\commons.py:226: SettingWithCopyWarning: \n",
      "A value is trying to be set on a copy of a slice from a DataFrame.\n",
      "Try using .loc[row_indexer,col_indexer] = value instead\n",
      "\n",
      "See the caveats in the documentation: https://pandas.pydata.org/pandas-docs/stable/user_guide/indexing.html#returning-a-view-versus-a-copy\n",
      "  approach_df['behaviour']='approach'\n",
      "z:\\lab\\escritorio\\projects\\gesture_tracking\\zic2_publication_code\\zic2\\zic2\\commons.py:227: SettingWithCopyWarning: \n",
      "A value is trying to be set on a copy of a slice from a DataFrame.\n",
      "Try using .loc[row_indexer,col_indexer] = value instead\n",
      "\n",
      "See the caveats in the documentation: https://pandas.pydata.org/pandas-docs/stable/user_guide/indexing.html#returning-a-view-versus-a-copy\n",
      "  contact_df['behaviour']='contact'\n",
      "z:\\lab\\escritorio\\projects\\gesture_tracking\\zic2_publication_code\\zic2\\zic2\\commons.py:228: SettingWithCopyWarning: \n",
      "A value is trying to be set on a copy of a slice from a DataFrame.\n",
      "Try using .loc[row_indexer,col_indexer] = value instead\n",
      "\n",
      "See the caveats in the documentation: https://pandas.pydata.org/pandas-docs/stable/user_guide/indexing.html#returning-a-view-versus-a-copy\n",
      "  exploration_df['behaviour']='exploration'\n",
      "z:\\lab\\escritorio\\projects\\gesture_tracking\\zic2_publication_code\\zic2\\zic2\\commons.py:246: FutureWarning: The frame.append method is deprecated and will be removed from pandas in a future version. Use pandas.concat instead.\n",
      "  self.data= self.behaviour['approach'].append(self.behaviour['exploration'],ignore_index=False).append(self.behaviour['contact'],ignore_index=False)\n",
      "z:\\lab\\escritorio\\projects\\gesture_tracking\\zic2_publication_code\\zic2\\zic2\\commons.py:246: FutureWarning: The frame.append method is deprecated and will be removed from pandas in a future version. Use pandas.concat instead.\n",
      "  self.data= self.behaviour['approach'].append(self.behaviour['exploration'],ignore_index=False).append(self.behaviour['contact'],ignore_index=False)\n"
     ]
    },
    {
     "name": "stdout",
     "output_type": "stream",
     "text": [
      "Video saved successfully!\n",
      "session:m_90_day_2_trial_3_20230615_135811\n"
     ]
    },
    {
     "data": {
      "text/plain": [
       "'Initial window frame: 91'"
      ]
     },
     "metadata": {},
     "output_type": "display_data"
    },
    {
     "data": {
      "text/plain": [
       "'Final window frame: 569'"
      ]
     },
     "metadata": {},
     "output_type": "display_data"
    },
    {
     "name": "stdout",
     "output_type": "stream",
     "text": [
      "maintaing frame rate\n",
      "Categorize behaviours in approaches, contact and exploration\n",
      "append behaviours to main dataframe\n"
     ]
    },
    {
     "name": "stderr",
     "output_type": "stream",
     "text": [
      "z:\\lab\\escritorio\\projects\\gesture_tracking\\zic2_publication_code\\zic2\\zic2\\commons.py:226: SettingWithCopyWarning: \n",
      "A value is trying to be set on a copy of a slice from a DataFrame.\n",
      "Try using .loc[row_indexer,col_indexer] = value instead\n",
      "\n",
      "See the caveats in the documentation: https://pandas.pydata.org/pandas-docs/stable/user_guide/indexing.html#returning-a-view-versus-a-copy\n",
      "  approach_df['behaviour']='approach'\n",
      "z:\\lab\\escritorio\\projects\\gesture_tracking\\zic2_publication_code\\zic2\\zic2\\commons.py:227: SettingWithCopyWarning: \n",
      "A value is trying to be set on a copy of a slice from a DataFrame.\n",
      "Try using .loc[row_indexer,col_indexer] = value instead\n",
      "\n",
      "See the caveats in the documentation: https://pandas.pydata.org/pandas-docs/stable/user_guide/indexing.html#returning-a-view-versus-a-copy\n",
      "  contact_df['behaviour']='contact'\n",
      "z:\\lab\\escritorio\\projects\\gesture_tracking\\zic2_publication_code\\zic2\\zic2\\commons.py:228: SettingWithCopyWarning: \n",
      "A value is trying to be set on a copy of a slice from a DataFrame.\n",
      "Try using .loc[row_indexer,col_indexer] = value instead\n",
      "\n",
      "See the caveats in the documentation: https://pandas.pydata.org/pandas-docs/stable/user_guide/indexing.html#returning-a-view-versus-a-copy\n",
      "  exploration_df['behaviour']='exploration'\n",
      "z:\\lab\\escritorio\\projects\\gesture_tracking\\zic2_publication_code\\zic2\\zic2\\commons.py:246: FutureWarning: The frame.append method is deprecated and will be removed from pandas in a future version. Use pandas.concat instead.\n",
      "  self.data= self.behaviour['approach'].append(self.behaviour['exploration'],ignore_index=False).append(self.behaviour['contact'],ignore_index=False)\n",
      "z:\\lab\\escritorio\\projects\\gesture_tracking\\zic2_publication_code\\zic2\\zic2\\commons.py:246: FutureWarning: The frame.append method is deprecated and will be removed from pandas in a future version. Use pandas.concat instead.\n",
      "  self.data= self.behaviour['approach'].append(self.behaviour['exploration'],ignore_index=False).append(self.behaviour['contact'],ignore_index=False)\n"
     ]
    },
    {
     "name": "stdout",
     "output_type": "stream",
     "text": [
      "Video saved successfully!\n",
      "session:m_91_day_2_trial_1_20230615_132353\n"
     ]
    },
    {
     "data": {
      "text/plain": [
       "'Initial window frame: 69'"
      ]
     },
     "metadata": {},
     "output_type": "display_data"
    },
    {
     "data": {
      "text/plain": [
       "'Final window frame: 276'"
      ]
     },
     "metadata": {},
     "output_type": "display_data"
    },
    {
     "name": "stdout",
     "output_type": "stream",
     "text": [
      "maintaing frame rate\n",
      "Categorize behaviours in approaches, contact and exploration\n",
      "append behaviours to main dataframe\n"
     ]
    },
    {
     "name": "stderr",
     "output_type": "stream",
     "text": [
      "z:\\lab\\escritorio\\projects\\gesture_tracking\\zic2_publication_code\\zic2\\zic2\\commons.py:226: SettingWithCopyWarning: \n",
      "A value is trying to be set on a copy of a slice from a DataFrame.\n",
      "Try using .loc[row_indexer,col_indexer] = value instead\n",
      "\n",
      "See the caveats in the documentation: https://pandas.pydata.org/pandas-docs/stable/user_guide/indexing.html#returning-a-view-versus-a-copy\n",
      "  approach_df['behaviour']='approach'\n",
      "z:\\lab\\escritorio\\projects\\gesture_tracking\\zic2_publication_code\\zic2\\zic2\\commons.py:227: SettingWithCopyWarning: \n",
      "A value is trying to be set on a copy of a slice from a DataFrame.\n",
      "Try using .loc[row_indexer,col_indexer] = value instead\n",
      "\n",
      "See the caveats in the documentation: https://pandas.pydata.org/pandas-docs/stable/user_guide/indexing.html#returning-a-view-versus-a-copy\n",
      "  contact_df['behaviour']='contact'\n",
      "z:\\lab\\escritorio\\projects\\gesture_tracking\\zic2_publication_code\\zic2\\zic2\\commons.py:228: SettingWithCopyWarning: \n",
      "A value is trying to be set on a copy of a slice from a DataFrame.\n",
      "Try using .loc[row_indexer,col_indexer] = value instead\n",
      "\n",
      "See the caveats in the documentation: https://pandas.pydata.org/pandas-docs/stable/user_guide/indexing.html#returning-a-view-versus-a-copy\n",
      "  exploration_df['behaviour']='exploration'\n",
      "z:\\lab\\escritorio\\projects\\gesture_tracking\\zic2_publication_code\\zic2\\zic2\\commons.py:246: FutureWarning: The frame.append method is deprecated and will be removed from pandas in a future version. Use pandas.concat instead.\n",
      "  self.data= self.behaviour['approach'].append(self.behaviour['exploration'],ignore_index=False).append(self.behaviour['contact'],ignore_index=False)\n",
      "z:\\lab\\escritorio\\projects\\gesture_tracking\\zic2_publication_code\\zic2\\zic2\\commons.py:246: FutureWarning: The frame.append method is deprecated and will be removed from pandas in a future version. Use pandas.concat instead.\n",
      "  self.data= self.behaviour['approach'].append(self.behaviour['exploration'],ignore_index=False).append(self.behaviour['contact'],ignore_index=False)\n"
     ]
    },
    {
     "name": "stdout",
     "output_type": "stream",
     "text": [
      "Video saved successfully!\n",
      "session:m_91_day_2_trial_2_20230615_134306\n"
     ]
    },
    {
     "data": {
      "text/plain": [
       "'Initial window frame: 53'"
      ]
     },
     "metadata": {},
     "output_type": "display_data"
    },
    {
     "data": {
      "text/plain": [
       "'Final window frame: 185'"
      ]
     },
     "metadata": {},
     "output_type": "display_data"
    },
    {
     "name": "stdout",
     "output_type": "stream",
     "text": [
      "maintaing frame rate\n",
      "Categorize behaviours in approaches, contact and exploration\n",
      "append behaviours to main dataframe\n",
      "Video saved successfully!\n"
     ]
    },
    {
     "name": "stderr",
     "output_type": "stream",
     "text": [
      "z:\\lab\\escritorio\\projects\\gesture_tracking\\zic2_publication_code\\zic2\\zic2\\commons.py:226: SettingWithCopyWarning: \n",
      "A value is trying to be set on a copy of a slice from a DataFrame.\n",
      "Try using .loc[row_indexer,col_indexer] = value instead\n",
      "\n",
      "See the caveats in the documentation: https://pandas.pydata.org/pandas-docs/stable/user_guide/indexing.html#returning-a-view-versus-a-copy\n",
      "  approach_df['behaviour']='approach'\n",
      "z:\\lab\\escritorio\\projects\\gesture_tracking\\zic2_publication_code\\zic2\\zic2\\commons.py:227: SettingWithCopyWarning: \n",
      "A value is trying to be set on a copy of a slice from a DataFrame.\n",
      "Try using .loc[row_indexer,col_indexer] = value instead\n",
      "\n",
      "See the caveats in the documentation: https://pandas.pydata.org/pandas-docs/stable/user_guide/indexing.html#returning-a-view-versus-a-copy\n",
      "  contact_df['behaviour']='contact'\n",
      "z:\\lab\\escritorio\\projects\\gesture_tracking\\zic2_publication_code\\zic2\\zic2\\commons.py:228: SettingWithCopyWarning: \n",
      "A value is trying to be set on a copy of a slice from a DataFrame.\n",
      "Try using .loc[row_indexer,col_indexer] = value instead\n",
      "\n",
      "See the caveats in the documentation: https://pandas.pydata.org/pandas-docs/stable/user_guide/indexing.html#returning-a-view-versus-a-copy\n",
      "  exploration_df['behaviour']='exploration'\n",
      "z:\\lab\\escritorio\\projects\\gesture_tracking\\zic2_publication_code\\zic2\\zic2\\commons.py:246: FutureWarning: The frame.append method is deprecated and will be removed from pandas in a future version. Use pandas.concat instead.\n",
      "  self.data= self.behaviour['approach'].append(self.behaviour['exploration'],ignore_index=False).append(self.behaviour['contact'],ignore_index=False)\n",
      "z:\\lab\\escritorio\\projects\\gesture_tracking\\zic2_publication_code\\zic2\\zic2\\commons.py:246: FutureWarning: The frame.append method is deprecated and will be removed from pandas in a future version. Use pandas.concat instead.\n",
      "  self.data= self.behaviour['approach'].append(self.behaviour['exploration'],ignore_index=False).append(self.behaviour['contact'],ignore_index=False)\n"
     ]
    },
    {
     "name": "stdout",
     "output_type": "stream",
     "text": [
      "session:m_91_day_2_trial_3_20230615_140210\n"
     ]
    },
    {
     "data": {
      "text/plain": [
       "'Initial window frame: 60'"
      ]
     },
     "metadata": {},
     "output_type": "display_data"
    },
    {
     "data": {
      "text/plain": [
       "'Final window frame: 321'"
      ]
     },
     "metadata": {},
     "output_type": "display_data"
    },
    {
     "name": "stdout",
     "output_type": "stream",
     "text": [
      "maintaing frame rate\n",
      "Categorize behaviours in approaches, contact and exploration\n",
      "append behaviours to main dataframe\n"
     ]
    },
    {
     "name": "stderr",
     "output_type": "stream",
     "text": [
      "z:\\lab\\escritorio\\projects\\gesture_tracking\\zic2_publication_code\\zic2\\zic2\\commons.py:226: SettingWithCopyWarning: \n",
      "A value is trying to be set on a copy of a slice from a DataFrame.\n",
      "Try using .loc[row_indexer,col_indexer] = value instead\n",
      "\n",
      "See the caveats in the documentation: https://pandas.pydata.org/pandas-docs/stable/user_guide/indexing.html#returning-a-view-versus-a-copy\n",
      "  approach_df['behaviour']='approach'\n",
      "z:\\lab\\escritorio\\projects\\gesture_tracking\\zic2_publication_code\\zic2\\zic2\\commons.py:227: SettingWithCopyWarning: \n",
      "A value is trying to be set on a copy of a slice from a DataFrame.\n",
      "Try using .loc[row_indexer,col_indexer] = value instead\n",
      "\n",
      "See the caveats in the documentation: https://pandas.pydata.org/pandas-docs/stable/user_guide/indexing.html#returning-a-view-versus-a-copy\n",
      "  contact_df['behaviour']='contact'\n",
      "z:\\lab\\escritorio\\projects\\gesture_tracking\\zic2_publication_code\\zic2\\zic2\\commons.py:228: SettingWithCopyWarning: \n",
      "A value is trying to be set on a copy of a slice from a DataFrame.\n",
      "Try using .loc[row_indexer,col_indexer] = value instead\n",
      "\n",
      "See the caveats in the documentation: https://pandas.pydata.org/pandas-docs/stable/user_guide/indexing.html#returning-a-view-versus-a-copy\n",
      "  exploration_df['behaviour']='exploration'\n",
      "z:\\lab\\escritorio\\projects\\gesture_tracking\\zic2_publication_code\\zic2\\zic2\\commons.py:246: FutureWarning: The frame.append method is deprecated and will be removed from pandas in a future version. Use pandas.concat instead.\n",
      "  self.data= self.behaviour['approach'].append(self.behaviour['exploration'],ignore_index=False).append(self.behaviour['contact'],ignore_index=False)\n",
      "z:\\lab\\escritorio\\projects\\gesture_tracking\\zic2_publication_code\\zic2\\zic2\\commons.py:246: FutureWarning: The frame.append method is deprecated and will be removed from pandas in a future version. Use pandas.concat instead.\n",
      "  self.data= self.behaviour['approach'].append(self.behaviour['exploration'],ignore_index=False).append(self.behaviour['contact'],ignore_index=False)\n"
     ]
    },
    {
     "name": "stdout",
     "output_type": "stream",
     "text": [
      "Video saved successfully!\n",
      "session:m_92_day_2_trial_1_20230615_133139\n"
     ]
    },
    {
     "data": {
      "text/plain": [
       "'Initial window frame: 62'"
      ]
     },
     "metadata": {},
     "output_type": "display_data"
    },
    {
     "data": {
      "text/plain": [
       "'Final window frame: 295'"
      ]
     },
     "metadata": {},
     "output_type": "display_data"
    },
    {
     "name": "stdout",
     "output_type": "stream",
     "text": [
      "maintaing frame rate\n",
      "Categorize behaviours in approaches, contact and exploration\n",
      "append behaviours to main dataframe\n"
     ]
    },
    {
     "name": "stderr",
     "output_type": "stream",
     "text": [
      "z:\\lab\\escritorio\\projects\\gesture_tracking\\zic2_publication_code\\zic2\\zic2\\commons.py:226: SettingWithCopyWarning: \n",
      "A value is trying to be set on a copy of a slice from a DataFrame.\n",
      "Try using .loc[row_indexer,col_indexer] = value instead\n",
      "\n",
      "See the caveats in the documentation: https://pandas.pydata.org/pandas-docs/stable/user_guide/indexing.html#returning-a-view-versus-a-copy\n",
      "  approach_df['behaviour']='approach'\n",
      "z:\\lab\\escritorio\\projects\\gesture_tracking\\zic2_publication_code\\zic2\\zic2\\commons.py:227: SettingWithCopyWarning: \n",
      "A value is trying to be set on a copy of a slice from a DataFrame.\n",
      "Try using .loc[row_indexer,col_indexer] = value instead\n",
      "\n",
      "See the caveats in the documentation: https://pandas.pydata.org/pandas-docs/stable/user_guide/indexing.html#returning-a-view-versus-a-copy\n",
      "  contact_df['behaviour']='contact'\n",
      "z:\\lab\\escritorio\\projects\\gesture_tracking\\zic2_publication_code\\zic2\\zic2\\commons.py:228: SettingWithCopyWarning: \n",
      "A value is trying to be set on a copy of a slice from a DataFrame.\n",
      "Try using .loc[row_indexer,col_indexer] = value instead\n",
      "\n",
      "See the caveats in the documentation: https://pandas.pydata.org/pandas-docs/stable/user_guide/indexing.html#returning-a-view-versus-a-copy\n",
      "  exploration_df['behaviour']='exploration'\n",
      "z:\\lab\\escritorio\\projects\\gesture_tracking\\zic2_publication_code\\zic2\\zic2\\commons.py:246: FutureWarning: The frame.append method is deprecated and will be removed from pandas in a future version. Use pandas.concat instead.\n",
      "  self.data= self.behaviour['approach'].append(self.behaviour['exploration'],ignore_index=False).append(self.behaviour['contact'],ignore_index=False)\n",
      "z:\\lab\\escritorio\\projects\\gesture_tracking\\zic2_publication_code\\zic2\\zic2\\commons.py:246: FutureWarning: The frame.append method is deprecated and will be removed from pandas in a future version. Use pandas.concat instead.\n",
      "  self.data= self.behaviour['approach'].append(self.behaviour['exploration'],ignore_index=False).append(self.behaviour['contact'],ignore_index=False)\n"
     ]
    },
    {
     "name": "stdout",
     "output_type": "stream",
     "text": [
      "Video saved successfully!\n",
      "session:m_92_day_2_trial_2_20230615_134640\n"
     ]
    },
    {
     "data": {
      "text/plain": [
       "'Initial window frame: 186'"
      ]
     },
     "metadata": {},
     "output_type": "display_data"
    },
    {
     "data": {
      "text/plain": [
       "'Final window frame: 471'"
      ]
     },
     "metadata": {},
     "output_type": "display_data"
    },
    {
     "name": "stdout",
     "output_type": "stream",
     "text": [
      "final_hz:16.0\n",
      "Categorize behaviours in approaches, contact and exploration\n",
      "append behaviours to main dataframe\n",
      "Video saved successfully!\n"
     ]
    },
    {
     "name": "stderr",
     "output_type": "stream",
     "text": [
      "z:\\lab\\escritorio\\projects\\gesture_tracking\\zic2_publication_code\\zic2\\zic2\\commons.py:226: SettingWithCopyWarning: \n",
      "A value is trying to be set on a copy of a slice from a DataFrame.\n",
      "Try using .loc[row_indexer,col_indexer] = value instead\n",
      "\n",
      "See the caveats in the documentation: https://pandas.pydata.org/pandas-docs/stable/user_guide/indexing.html#returning-a-view-versus-a-copy\n",
      "  approach_df['behaviour']='approach'\n",
      "z:\\lab\\escritorio\\projects\\gesture_tracking\\zic2_publication_code\\zic2\\zic2\\commons.py:227: SettingWithCopyWarning: \n",
      "A value is trying to be set on a copy of a slice from a DataFrame.\n",
      "Try using .loc[row_indexer,col_indexer] = value instead\n",
      "\n",
      "See the caveats in the documentation: https://pandas.pydata.org/pandas-docs/stable/user_guide/indexing.html#returning-a-view-versus-a-copy\n",
      "  contact_df['behaviour']='contact'\n",
      "z:\\lab\\escritorio\\projects\\gesture_tracking\\zic2_publication_code\\zic2\\zic2\\commons.py:228: SettingWithCopyWarning: \n",
      "A value is trying to be set on a copy of a slice from a DataFrame.\n",
      "Try using .loc[row_indexer,col_indexer] = value instead\n",
      "\n",
      "See the caveats in the documentation: https://pandas.pydata.org/pandas-docs/stable/user_guide/indexing.html#returning-a-view-versus-a-copy\n",
      "  exploration_df['behaviour']='exploration'\n",
      "z:\\lab\\escritorio\\projects\\gesture_tracking\\zic2_publication_code\\zic2\\zic2\\commons.py:246: FutureWarning: The frame.append method is deprecated and will be removed from pandas in a future version. Use pandas.concat instead.\n",
      "  self.data= self.behaviour['approach'].append(self.behaviour['exploration'],ignore_index=False).append(self.behaviour['contact'],ignore_index=False)\n",
      "z:\\lab\\escritorio\\projects\\gesture_tracking\\zic2_publication_code\\zic2\\zic2\\commons.py:246: FutureWarning: The frame.append method is deprecated and will be removed from pandas in a future version. Use pandas.concat instead.\n",
      "  self.data= self.behaviour['approach'].append(self.behaviour['exploration'],ignore_index=False).append(self.behaviour['contact'],ignore_index=False)\n"
     ]
    },
    {
     "name": "stdout",
     "output_type": "stream",
     "text": [
      "session:m_92_day_2_trial_3_20230615_140518\n"
     ]
    },
    {
     "data": {
      "text/plain": [
       "'Initial window frame: 200'"
      ]
     },
     "metadata": {},
     "output_type": "display_data"
    },
    {
     "data": {
      "text/plain": [
       "'Final window frame: 1717'"
      ]
     },
     "metadata": {},
     "output_type": "display_data"
    },
    {
     "name": "stdout",
     "output_type": "stream",
     "text": [
      "final_hz:16.0\n",
      "Categorize behaviours in approaches, contact and exploration\n",
      "append behaviours to main dataframe\n"
     ]
    },
    {
     "name": "stderr",
     "output_type": "stream",
     "text": [
      "z:\\lab\\escritorio\\projects\\gesture_tracking\\zic2_publication_code\\zic2\\zic2\\commons.py:226: SettingWithCopyWarning: \n",
      "A value is trying to be set on a copy of a slice from a DataFrame.\n",
      "Try using .loc[row_indexer,col_indexer] = value instead\n",
      "\n",
      "See the caveats in the documentation: https://pandas.pydata.org/pandas-docs/stable/user_guide/indexing.html#returning-a-view-versus-a-copy\n",
      "  approach_df['behaviour']='approach'\n",
      "z:\\lab\\escritorio\\projects\\gesture_tracking\\zic2_publication_code\\zic2\\zic2\\commons.py:227: SettingWithCopyWarning: \n",
      "A value is trying to be set on a copy of a slice from a DataFrame.\n",
      "Try using .loc[row_indexer,col_indexer] = value instead\n",
      "\n",
      "See the caveats in the documentation: https://pandas.pydata.org/pandas-docs/stable/user_guide/indexing.html#returning-a-view-versus-a-copy\n",
      "  contact_df['behaviour']='contact'\n",
      "z:\\lab\\escritorio\\projects\\gesture_tracking\\zic2_publication_code\\zic2\\zic2\\commons.py:228: SettingWithCopyWarning: \n",
      "A value is trying to be set on a copy of a slice from a DataFrame.\n",
      "Try using .loc[row_indexer,col_indexer] = value instead\n",
      "\n",
      "See the caveats in the documentation: https://pandas.pydata.org/pandas-docs/stable/user_guide/indexing.html#returning-a-view-versus-a-copy\n",
      "  exploration_df['behaviour']='exploration'\n",
      "z:\\lab\\escritorio\\projects\\gesture_tracking\\zic2_publication_code\\zic2\\zic2\\commons.py:246: FutureWarning: The frame.append method is deprecated and will be removed from pandas in a future version. Use pandas.concat instead.\n",
      "  self.data= self.behaviour['approach'].append(self.behaviour['exploration'],ignore_index=False).append(self.behaviour['contact'],ignore_index=False)\n",
      "z:\\lab\\escritorio\\projects\\gesture_tracking\\zic2_publication_code\\zic2\\zic2\\commons.py:246: FutureWarning: The frame.append method is deprecated and will be removed from pandas in a future version. Use pandas.concat instead.\n",
      "  self.data= self.behaviour['approach'].append(self.behaviour['exploration'],ignore_index=False).append(self.behaviour['contact'],ignore_index=False)\n"
     ]
    },
    {
     "name": "stdout",
     "output_type": "stream",
     "text": [
      "Video saved successfully!\n",
      "session:m_93_day_2_trial_1_20230615_132712\n"
     ]
    },
    {
     "data": {
      "text/plain": [
       "'Initial window frame: 90'"
      ]
     },
     "metadata": {},
     "output_type": "display_data"
    },
    {
     "data": {
      "text/plain": [
       "'Final window frame: 487'"
      ]
     },
     "metadata": {},
     "output_type": "display_data"
    },
    {
     "name": "stdout",
     "output_type": "stream",
     "text": [
      "maintaing frame rate\n",
      "Categorize behaviours in approaches, contact and exploration\n",
      "append behaviours to main dataframe\n"
     ]
    },
    {
     "name": "stderr",
     "output_type": "stream",
     "text": [
      "z:\\lab\\escritorio\\projects\\gesture_tracking\\zic2_publication_code\\zic2\\zic2\\commons.py:226: SettingWithCopyWarning: \n",
      "A value is trying to be set on a copy of a slice from a DataFrame.\n",
      "Try using .loc[row_indexer,col_indexer] = value instead\n",
      "\n",
      "See the caveats in the documentation: https://pandas.pydata.org/pandas-docs/stable/user_guide/indexing.html#returning-a-view-versus-a-copy\n",
      "  approach_df['behaviour']='approach'\n",
      "z:\\lab\\escritorio\\projects\\gesture_tracking\\zic2_publication_code\\zic2\\zic2\\commons.py:227: SettingWithCopyWarning: \n",
      "A value is trying to be set on a copy of a slice from a DataFrame.\n",
      "Try using .loc[row_indexer,col_indexer] = value instead\n",
      "\n",
      "See the caveats in the documentation: https://pandas.pydata.org/pandas-docs/stable/user_guide/indexing.html#returning-a-view-versus-a-copy\n",
      "  contact_df['behaviour']='contact'\n",
      "z:\\lab\\escritorio\\projects\\gesture_tracking\\zic2_publication_code\\zic2\\zic2\\commons.py:228: SettingWithCopyWarning: \n",
      "A value is trying to be set on a copy of a slice from a DataFrame.\n",
      "Try using .loc[row_indexer,col_indexer] = value instead\n",
      "\n",
      "See the caveats in the documentation: https://pandas.pydata.org/pandas-docs/stable/user_guide/indexing.html#returning-a-view-versus-a-copy\n",
      "  exploration_df['behaviour']='exploration'\n",
      "z:\\lab\\escritorio\\projects\\gesture_tracking\\zic2_publication_code\\zic2\\zic2\\commons.py:246: FutureWarning: The frame.append method is deprecated and will be removed from pandas in a future version. Use pandas.concat instead.\n",
      "  self.data= self.behaviour['approach'].append(self.behaviour['exploration'],ignore_index=False).append(self.behaviour['contact'],ignore_index=False)\n",
      "z:\\lab\\escritorio\\projects\\gesture_tracking\\zic2_publication_code\\zic2\\zic2\\commons.py:246: FutureWarning: The frame.append method is deprecated and will be removed from pandas in a future version. Use pandas.concat instead.\n",
      "  self.data= self.behaviour['approach'].append(self.behaviour['exploration'],ignore_index=False).append(self.behaviour['contact'],ignore_index=False)\n"
     ]
    },
    {
     "name": "stdout",
     "output_type": "stream",
     "text": [
      "Video saved successfully!\n",
      "session:m_93_day_2_trial_2_20230615_135115\n"
     ]
    },
    {
     "data": {
      "text/plain": [
       "'Initial window frame: 85'"
      ]
     },
     "metadata": {},
     "output_type": "display_data"
    },
    {
     "data": {
      "text/plain": [
       "'Final window frame: 298'"
      ]
     },
     "metadata": {},
     "output_type": "display_data"
    },
    {
     "name": "stdout",
     "output_type": "stream",
     "text": [
      "maintaing frame rate\n",
      "Categorize behaviours in approaches, contact and exploration\n",
      "append behaviours to main dataframe\n"
     ]
    },
    {
     "name": "stderr",
     "output_type": "stream",
     "text": [
      "z:\\lab\\escritorio\\projects\\gesture_tracking\\zic2_publication_code\\zic2\\zic2\\commons.py:226: SettingWithCopyWarning: \n",
      "A value is trying to be set on a copy of a slice from a DataFrame.\n",
      "Try using .loc[row_indexer,col_indexer] = value instead\n",
      "\n",
      "See the caveats in the documentation: https://pandas.pydata.org/pandas-docs/stable/user_guide/indexing.html#returning-a-view-versus-a-copy\n",
      "  approach_df['behaviour']='approach'\n",
      "z:\\lab\\escritorio\\projects\\gesture_tracking\\zic2_publication_code\\zic2\\zic2\\commons.py:227: SettingWithCopyWarning: \n",
      "A value is trying to be set on a copy of a slice from a DataFrame.\n",
      "Try using .loc[row_indexer,col_indexer] = value instead\n",
      "\n",
      "See the caveats in the documentation: https://pandas.pydata.org/pandas-docs/stable/user_guide/indexing.html#returning-a-view-versus-a-copy\n",
      "  contact_df['behaviour']='contact'\n",
      "z:\\lab\\escritorio\\projects\\gesture_tracking\\zic2_publication_code\\zic2\\zic2\\commons.py:228: SettingWithCopyWarning: \n",
      "A value is trying to be set on a copy of a slice from a DataFrame.\n",
      "Try using .loc[row_indexer,col_indexer] = value instead\n",
      "\n",
      "See the caveats in the documentation: https://pandas.pydata.org/pandas-docs/stable/user_guide/indexing.html#returning-a-view-versus-a-copy\n",
      "  exploration_df['behaviour']='exploration'\n",
      "z:\\lab\\escritorio\\projects\\gesture_tracking\\zic2_publication_code\\zic2\\zic2\\commons.py:246: FutureWarning: The frame.append method is deprecated and will be removed from pandas in a future version. Use pandas.concat instead.\n",
      "  self.data= self.behaviour['approach'].append(self.behaviour['exploration'],ignore_index=False).append(self.behaviour['contact'],ignore_index=False)\n",
      "z:\\lab\\escritorio\\projects\\gesture_tracking\\zic2_publication_code\\zic2\\zic2\\commons.py:246: FutureWarning: The frame.append method is deprecated and will be removed from pandas in a future version. Use pandas.concat instead.\n",
      "  self.data= self.behaviour['approach'].append(self.behaviour['exploration'],ignore_index=False).append(self.behaviour['contact'],ignore_index=False)\n"
     ]
    },
    {
     "name": "stdout",
     "output_type": "stream",
     "text": [
      "Video saved successfully!\n",
      "session:m_93_day_2_trial_3_20230615_140842\n"
     ]
    },
    {
     "data": {
      "text/plain": [
       "'Initial window frame: 56'"
      ]
     },
     "metadata": {},
     "output_type": "display_data"
    },
    {
     "data": {
      "text/plain": [
       "'Final window frame: 161'"
      ]
     },
     "metadata": {},
     "output_type": "display_data"
    },
    {
     "name": "stdout",
     "output_type": "stream",
     "text": [
      "maintaing frame rate\n",
      "Categorize behaviours in approaches, contact and exploration\n",
      "append behaviours to main dataframe\n",
      "Video saved successfully!\n"
     ]
    },
    {
     "name": "stderr",
     "output_type": "stream",
     "text": [
      "z:\\lab\\escritorio\\projects\\gesture_tracking\\zic2_publication_code\\zic2\\zic2\\commons.py:226: SettingWithCopyWarning: \n",
      "A value is trying to be set on a copy of a slice from a DataFrame.\n",
      "Try using .loc[row_indexer,col_indexer] = value instead\n",
      "\n",
      "See the caveats in the documentation: https://pandas.pydata.org/pandas-docs/stable/user_guide/indexing.html#returning-a-view-versus-a-copy\n",
      "  approach_df['behaviour']='approach'\n",
      "z:\\lab\\escritorio\\projects\\gesture_tracking\\zic2_publication_code\\zic2\\zic2\\commons.py:227: SettingWithCopyWarning: \n",
      "A value is trying to be set on a copy of a slice from a DataFrame.\n",
      "Try using .loc[row_indexer,col_indexer] = value instead\n",
      "\n",
      "See the caveats in the documentation: https://pandas.pydata.org/pandas-docs/stable/user_guide/indexing.html#returning-a-view-versus-a-copy\n",
      "  contact_df['behaviour']='contact'\n",
      "z:\\lab\\escritorio\\projects\\gesture_tracking\\zic2_publication_code\\zic2\\zic2\\commons.py:228: SettingWithCopyWarning: \n",
      "A value is trying to be set on a copy of a slice from a DataFrame.\n",
      "Try using .loc[row_indexer,col_indexer] = value instead\n",
      "\n",
      "See the caveats in the documentation: https://pandas.pydata.org/pandas-docs/stable/user_guide/indexing.html#returning-a-view-versus-a-copy\n",
      "  exploration_df['behaviour']='exploration'\n",
      "z:\\lab\\escritorio\\projects\\gesture_tracking\\zic2_publication_code\\zic2\\zic2\\commons.py:246: FutureWarning: The frame.append method is deprecated and will be removed from pandas in a future version. Use pandas.concat instead.\n",
      "  self.data= self.behaviour['approach'].append(self.behaviour['exploration'],ignore_index=False).append(self.behaviour['contact'],ignore_index=False)\n",
      "z:\\lab\\escritorio\\projects\\gesture_tracking\\zic2_publication_code\\zic2\\zic2\\commons.py:246: FutureWarning: The frame.append method is deprecated and will be removed from pandas in a future version. Use pandas.concat instead.\n",
      "  self.data= self.behaviour['approach'].append(self.behaviour['exploration'],ignore_index=False).append(self.behaviour['contact'],ignore_index=False)\n"
     ]
    },
    {
     "name": "stdout",
     "output_type": "stream",
     "text": [
      "session:m_94_day_2_trial_1_20230615_133506\n"
     ]
    },
    {
     "data": {
      "text/plain": [
       "'Initial window frame: 64'"
      ]
     },
     "metadata": {},
     "output_type": "display_data"
    },
    {
     "data": {
      "text/plain": [
       "'Final window frame: 649'"
      ]
     },
     "metadata": {},
     "output_type": "display_data"
    },
    {
     "name": "stdout",
     "output_type": "stream",
     "text": [
      "maintaing frame rate\n",
      "Categorize behaviours in approaches, contact and exploration\n",
      "append behaviours to main dataframe\n"
     ]
    },
    {
     "name": "stderr",
     "output_type": "stream",
     "text": [
      "z:\\lab\\escritorio\\projects\\gesture_tracking\\zic2_publication_code\\zic2\\zic2\\commons.py:226: SettingWithCopyWarning: \n",
      "A value is trying to be set on a copy of a slice from a DataFrame.\n",
      "Try using .loc[row_indexer,col_indexer] = value instead\n",
      "\n",
      "See the caveats in the documentation: https://pandas.pydata.org/pandas-docs/stable/user_guide/indexing.html#returning-a-view-versus-a-copy\n",
      "  approach_df['behaviour']='approach'\n",
      "z:\\lab\\escritorio\\projects\\gesture_tracking\\zic2_publication_code\\zic2\\zic2\\commons.py:227: SettingWithCopyWarning: \n",
      "A value is trying to be set on a copy of a slice from a DataFrame.\n",
      "Try using .loc[row_indexer,col_indexer] = value instead\n",
      "\n",
      "See the caveats in the documentation: https://pandas.pydata.org/pandas-docs/stable/user_guide/indexing.html#returning-a-view-versus-a-copy\n",
      "  contact_df['behaviour']='contact'\n",
      "z:\\lab\\escritorio\\projects\\gesture_tracking\\zic2_publication_code\\zic2\\zic2\\commons.py:228: SettingWithCopyWarning: \n",
      "A value is trying to be set on a copy of a slice from a DataFrame.\n",
      "Try using .loc[row_indexer,col_indexer] = value instead\n",
      "\n",
      "See the caveats in the documentation: https://pandas.pydata.org/pandas-docs/stable/user_guide/indexing.html#returning-a-view-versus-a-copy\n",
      "  exploration_df['behaviour']='exploration'\n",
      "z:\\lab\\escritorio\\projects\\gesture_tracking\\zic2_publication_code\\zic2\\zic2\\commons.py:246: FutureWarning: The frame.append method is deprecated and will be removed from pandas in a future version. Use pandas.concat instead.\n",
      "  self.data= self.behaviour['approach'].append(self.behaviour['exploration'],ignore_index=False).append(self.behaviour['contact'],ignore_index=False)\n",
      "z:\\lab\\escritorio\\projects\\gesture_tracking\\zic2_publication_code\\zic2\\zic2\\commons.py:246: FutureWarning: The frame.append method is deprecated and will be removed from pandas in a future version. Use pandas.concat instead.\n",
      "  self.data= self.behaviour['approach'].append(self.behaviour['exploration'],ignore_index=False).append(self.behaviour['contact'],ignore_index=False)\n"
     ]
    },
    {
     "name": "stdout",
     "output_type": "stream",
     "text": [
      "Video saved successfully!\n",
      "session:m_94_day_2_trial_2_20230615_135510\n"
     ]
    },
    {
     "data": {
      "text/plain": [
       "'Initial window frame: 200'"
      ]
     },
     "metadata": {},
     "output_type": "display_data"
    },
    {
     "data": {
      "text/plain": [
       "'Final window frame: 910'"
      ]
     },
     "metadata": {},
     "output_type": "display_data"
    },
    {
     "name": "stdout",
     "output_type": "stream",
     "text": [
      "final_hz:16.0\n",
      "Categorize behaviours in approaches, contact and exploration\n",
      "append behaviours to main dataframe\n"
     ]
    },
    {
     "name": "stderr",
     "output_type": "stream",
     "text": [
      "z:\\lab\\escritorio\\projects\\gesture_tracking\\zic2_publication_code\\zic2\\zic2\\commons.py:226: SettingWithCopyWarning: \n",
      "A value is trying to be set on a copy of a slice from a DataFrame.\n",
      "Try using .loc[row_indexer,col_indexer] = value instead\n",
      "\n",
      "See the caveats in the documentation: https://pandas.pydata.org/pandas-docs/stable/user_guide/indexing.html#returning-a-view-versus-a-copy\n",
      "  approach_df['behaviour']='approach'\n",
      "z:\\lab\\escritorio\\projects\\gesture_tracking\\zic2_publication_code\\zic2\\zic2\\commons.py:227: SettingWithCopyWarning: \n",
      "A value is trying to be set on a copy of a slice from a DataFrame.\n",
      "Try using .loc[row_indexer,col_indexer] = value instead\n",
      "\n",
      "See the caveats in the documentation: https://pandas.pydata.org/pandas-docs/stable/user_guide/indexing.html#returning-a-view-versus-a-copy\n",
      "  contact_df['behaviour']='contact'\n",
      "z:\\lab\\escritorio\\projects\\gesture_tracking\\zic2_publication_code\\zic2\\zic2\\commons.py:228: SettingWithCopyWarning: \n",
      "A value is trying to be set on a copy of a slice from a DataFrame.\n",
      "Try using .loc[row_indexer,col_indexer] = value instead\n",
      "\n",
      "See the caveats in the documentation: https://pandas.pydata.org/pandas-docs/stable/user_guide/indexing.html#returning-a-view-versus-a-copy\n",
      "  exploration_df['behaviour']='exploration'\n",
      "z:\\lab\\escritorio\\projects\\gesture_tracking\\zic2_publication_code\\zic2\\zic2\\commons.py:246: FutureWarning: The frame.append method is deprecated and will be removed from pandas in a future version. Use pandas.concat instead.\n",
      "  self.data= self.behaviour['approach'].append(self.behaviour['exploration'],ignore_index=False).append(self.behaviour['contact'],ignore_index=False)\n",
      "z:\\lab\\escritorio\\projects\\gesture_tracking\\zic2_publication_code\\zic2\\zic2\\commons.py:246: FutureWarning: The frame.append method is deprecated and will be removed from pandas in a future version. Use pandas.concat instead.\n",
      "  self.data= self.behaviour['approach'].append(self.behaviour['exploration'],ignore_index=False).append(self.behaviour['contact'],ignore_index=False)\n"
     ]
    },
    {
     "name": "stdout",
     "output_type": "stream",
     "text": [
      "Video saved successfully!\n",
      "session:m_94_day_2_trial_3_20230615_141123\n"
     ]
    },
    {
     "data": {
      "text/plain": [
       "'Initial window frame: 216'"
      ]
     },
     "metadata": {},
     "output_type": "display_data"
    },
    {
     "data": {
      "text/plain": [
       "'Final window frame: 882'"
      ]
     },
     "metadata": {},
     "output_type": "display_data"
    },
    {
     "name": "stdout",
     "output_type": "stream",
     "text": [
      "final_hz:16.0\n",
      "Categorize behaviours in approaches, contact and exploration\n",
      "append behaviours to main dataframe\n"
     ]
    },
    {
     "name": "stderr",
     "output_type": "stream",
     "text": [
      "z:\\lab\\escritorio\\projects\\gesture_tracking\\zic2_publication_code\\zic2\\zic2\\commons.py:226: SettingWithCopyWarning: \n",
      "A value is trying to be set on a copy of a slice from a DataFrame.\n",
      "Try using .loc[row_indexer,col_indexer] = value instead\n",
      "\n",
      "See the caveats in the documentation: https://pandas.pydata.org/pandas-docs/stable/user_guide/indexing.html#returning-a-view-versus-a-copy\n",
      "  approach_df['behaviour']='approach'\n",
      "z:\\lab\\escritorio\\projects\\gesture_tracking\\zic2_publication_code\\zic2\\zic2\\commons.py:227: SettingWithCopyWarning: \n",
      "A value is trying to be set on a copy of a slice from a DataFrame.\n",
      "Try using .loc[row_indexer,col_indexer] = value instead\n",
      "\n",
      "See the caveats in the documentation: https://pandas.pydata.org/pandas-docs/stable/user_guide/indexing.html#returning-a-view-versus-a-copy\n",
      "  contact_df['behaviour']='contact'\n",
      "z:\\lab\\escritorio\\projects\\gesture_tracking\\zic2_publication_code\\zic2\\zic2\\commons.py:228: SettingWithCopyWarning: \n",
      "A value is trying to be set on a copy of a slice from a DataFrame.\n",
      "Try using .loc[row_indexer,col_indexer] = value instead\n",
      "\n",
      "See the caveats in the documentation: https://pandas.pydata.org/pandas-docs/stable/user_guide/indexing.html#returning-a-view-versus-a-copy\n",
      "  exploration_df['behaviour']='exploration'\n",
      "z:\\lab\\escritorio\\projects\\gesture_tracking\\zic2_publication_code\\zic2\\zic2\\commons.py:246: FutureWarning: The frame.append method is deprecated and will be removed from pandas in a future version. Use pandas.concat instead.\n",
      "  self.data= self.behaviour['approach'].append(self.behaviour['exploration'],ignore_index=False).append(self.behaviour['contact'],ignore_index=False)\n",
      "z:\\lab\\escritorio\\projects\\gesture_tracking\\zic2_publication_code\\zic2\\zic2\\commons.py:246: FutureWarning: The frame.append method is deprecated and will be removed from pandas in a future version. Use pandas.concat instead.\n",
      "  self.data= self.behaviour['approach'].append(self.behaviour['exploration'],ignore_index=False).append(self.behaviour['contact'],ignore_index=False)\n"
     ]
    },
    {
     "name": "stdout",
     "output_type": "stream",
     "text": [
      "Video saved successfully!\n",
      "session:m_98_day_2_trial_1_20230802_152612\n"
     ]
    },
    {
     "data": {
      "text/plain": [
       "'Initial window frame: 177'"
      ]
     },
     "metadata": {},
     "output_type": "display_data"
    },
    {
     "data": {
      "text/plain": [
       "'Final window frame: 1550'"
      ]
     },
     "metadata": {},
     "output_type": "display_data"
    },
    {
     "name": "stdout",
     "output_type": "stream",
     "text": [
      "final_hz:16.0\n",
      "Categorize behaviours in approaches, contact and exploration\n",
      "append behaviours to main dataframe\n"
     ]
    },
    {
     "name": "stderr",
     "output_type": "stream",
     "text": [
      "z:\\lab\\escritorio\\projects\\gesture_tracking\\zic2_publication_code\\zic2\\zic2\\commons.py:226: SettingWithCopyWarning: \n",
      "A value is trying to be set on a copy of a slice from a DataFrame.\n",
      "Try using .loc[row_indexer,col_indexer] = value instead\n",
      "\n",
      "See the caveats in the documentation: https://pandas.pydata.org/pandas-docs/stable/user_guide/indexing.html#returning-a-view-versus-a-copy\n",
      "  approach_df['behaviour']='approach'\n",
      "z:\\lab\\escritorio\\projects\\gesture_tracking\\zic2_publication_code\\zic2\\zic2\\commons.py:227: SettingWithCopyWarning: \n",
      "A value is trying to be set on a copy of a slice from a DataFrame.\n",
      "Try using .loc[row_indexer,col_indexer] = value instead\n",
      "\n",
      "See the caveats in the documentation: https://pandas.pydata.org/pandas-docs/stable/user_guide/indexing.html#returning-a-view-versus-a-copy\n",
      "  contact_df['behaviour']='contact'\n",
      "z:\\lab\\escritorio\\projects\\gesture_tracking\\zic2_publication_code\\zic2\\zic2\\commons.py:228: SettingWithCopyWarning: \n",
      "A value is trying to be set on a copy of a slice from a DataFrame.\n",
      "Try using .loc[row_indexer,col_indexer] = value instead\n",
      "\n",
      "See the caveats in the documentation: https://pandas.pydata.org/pandas-docs/stable/user_guide/indexing.html#returning-a-view-versus-a-copy\n",
      "  exploration_df['behaviour']='exploration'\n",
      "z:\\lab\\escritorio\\projects\\gesture_tracking\\zic2_publication_code\\zic2\\zic2\\commons.py:246: FutureWarning: The frame.append method is deprecated and will be removed from pandas in a future version. Use pandas.concat instead.\n",
      "  self.data= self.behaviour['approach'].append(self.behaviour['exploration'],ignore_index=False).append(self.behaviour['contact'],ignore_index=False)\n",
      "z:\\lab\\escritorio\\projects\\gesture_tracking\\zic2_publication_code\\zic2\\zic2\\commons.py:246: FutureWarning: The frame.append method is deprecated and will be removed from pandas in a future version. Use pandas.concat instead.\n",
      "  self.data= self.behaviour['approach'].append(self.behaviour['exploration'],ignore_index=False).append(self.behaviour['contact'],ignore_index=False)\n"
     ]
    },
    {
     "name": "stdout",
     "output_type": "stream",
     "text": [
      "Video saved successfully!\n",
      "session:m_98_day_2_trial_2_20230802_153543\n"
     ]
    },
    {
     "data": {
      "text/plain": [
       "'Initial window frame: 180'"
      ]
     },
     "metadata": {},
     "output_type": "display_data"
    },
    {
     "data": {
      "text/plain": [
       "'Final window frame: 1557'"
      ]
     },
     "metadata": {},
     "output_type": "display_data"
    },
    {
     "name": "stdout",
     "output_type": "stream",
     "text": [
      "final_hz:16.0\n",
      "Categorize behaviours in approaches, contact and exploration\n",
      "append behaviours to main dataframe\n"
     ]
    },
    {
     "name": "stderr",
     "output_type": "stream",
     "text": [
      "z:\\lab\\escritorio\\projects\\gesture_tracking\\zic2_publication_code\\zic2\\zic2\\commons.py:226: SettingWithCopyWarning: \n",
      "A value is trying to be set on a copy of a slice from a DataFrame.\n",
      "Try using .loc[row_indexer,col_indexer] = value instead\n",
      "\n",
      "See the caveats in the documentation: https://pandas.pydata.org/pandas-docs/stable/user_guide/indexing.html#returning-a-view-versus-a-copy\n",
      "  approach_df['behaviour']='approach'\n",
      "z:\\lab\\escritorio\\projects\\gesture_tracking\\zic2_publication_code\\zic2\\zic2\\commons.py:227: SettingWithCopyWarning: \n",
      "A value is trying to be set on a copy of a slice from a DataFrame.\n",
      "Try using .loc[row_indexer,col_indexer] = value instead\n",
      "\n",
      "See the caveats in the documentation: https://pandas.pydata.org/pandas-docs/stable/user_guide/indexing.html#returning-a-view-versus-a-copy\n",
      "  contact_df['behaviour']='contact'\n",
      "z:\\lab\\escritorio\\projects\\gesture_tracking\\zic2_publication_code\\zic2\\zic2\\commons.py:228: SettingWithCopyWarning: \n",
      "A value is trying to be set on a copy of a slice from a DataFrame.\n",
      "Try using .loc[row_indexer,col_indexer] = value instead\n",
      "\n",
      "See the caveats in the documentation: https://pandas.pydata.org/pandas-docs/stable/user_guide/indexing.html#returning-a-view-versus-a-copy\n",
      "  exploration_df['behaviour']='exploration'\n",
      "z:\\lab\\escritorio\\projects\\gesture_tracking\\zic2_publication_code\\zic2\\zic2\\commons.py:246: FutureWarning: The frame.append method is deprecated and will be removed from pandas in a future version. Use pandas.concat instead.\n",
      "  self.data= self.behaviour['approach'].append(self.behaviour['exploration'],ignore_index=False).append(self.behaviour['contact'],ignore_index=False)\n",
      "z:\\lab\\escritorio\\projects\\gesture_tracking\\zic2_publication_code\\zic2\\zic2\\commons.py:246: FutureWarning: The frame.append method is deprecated and will be removed from pandas in a future version. Use pandas.concat instead.\n",
      "  self.data= self.behaviour['approach'].append(self.behaviour['exploration'],ignore_index=False).append(self.behaviour['contact'],ignore_index=False)\n"
     ]
    },
    {
     "name": "stdout",
     "output_type": "stream",
     "text": [
      "Video saved successfully!\n",
      "session:m_98_day_2_trial_3_20230802_154745\n"
     ]
    },
    {
     "data": {
      "text/plain": [
       "'Initial window frame: 18'"
      ]
     },
     "metadata": {},
     "output_type": "display_data"
    },
    {
     "data": {
      "text/plain": [
       "'Final window frame: 282'"
      ]
     },
     "metadata": {},
     "output_type": "display_data"
    },
    {
     "name": "stdout",
     "output_type": "stream",
     "text": [
      "maintaing frame rate\n",
      "Categorize behaviours in approaches, contact and exploration\n",
      "append behaviours to main dataframe\n"
     ]
    },
    {
     "name": "stderr",
     "output_type": "stream",
     "text": [
      "z:\\lab\\escritorio\\projects\\gesture_tracking\\zic2_publication_code\\zic2\\zic2\\commons.py:226: SettingWithCopyWarning: \n",
      "A value is trying to be set on a copy of a slice from a DataFrame.\n",
      "Try using .loc[row_indexer,col_indexer] = value instead\n",
      "\n",
      "See the caveats in the documentation: https://pandas.pydata.org/pandas-docs/stable/user_guide/indexing.html#returning-a-view-versus-a-copy\n",
      "  approach_df['behaviour']='approach'\n",
      "z:\\lab\\escritorio\\projects\\gesture_tracking\\zic2_publication_code\\zic2\\zic2\\commons.py:227: SettingWithCopyWarning: \n",
      "A value is trying to be set on a copy of a slice from a DataFrame.\n",
      "Try using .loc[row_indexer,col_indexer] = value instead\n",
      "\n",
      "See the caveats in the documentation: https://pandas.pydata.org/pandas-docs/stable/user_guide/indexing.html#returning-a-view-versus-a-copy\n",
      "  contact_df['behaviour']='contact'\n",
      "z:\\lab\\escritorio\\projects\\gesture_tracking\\zic2_publication_code\\zic2\\zic2\\commons.py:228: SettingWithCopyWarning: \n",
      "A value is trying to be set on a copy of a slice from a DataFrame.\n",
      "Try using .loc[row_indexer,col_indexer] = value instead\n",
      "\n",
      "See the caveats in the documentation: https://pandas.pydata.org/pandas-docs/stable/user_guide/indexing.html#returning-a-view-versus-a-copy\n",
      "  exploration_df['behaviour']='exploration'\n",
      "z:\\lab\\escritorio\\projects\\gesture_tracking\\zic2_publication_code\\zic2\\zic2\\commons.py:246: FutureWarning: The frame.append method is deprecated and will be removed from pandas in a future version. Use pandas.concat instead.\n",
      "  self.data= self.behaviour['approach'].append(self.behaviour['exploration'],ignore_index=False).append(self.behaviour['contact'],ignore_index=False)\n",
      "z:\\lab\\escritorio\\projects\\gesture_tracking\\zic2_publication_code\\zic2\\zic2\\commons.py:246: FutureWarning: The frame.append method is deprecated and will be removed from pandas in a future version. Use pandas.concat instead.\n",
      "  self.data= self.behaviour['approach'].append(self.behaviour['exploration'],ignore_index=False).append(self.behaviour['contact'],ignore_index=False)\n"
     ]
    },
    {
     "name": "stdout",
     "output_type": "stream",
     "text": [
      "Video saved successfully!\n"
     ]
    }
   ],
   "source": [
    "# subject_list=[]\n",
    "behaviour_matrix_list=[]\n",
    "raw_data_list=[]\n",
    "\n",
    "for session, recording_location in zip(sessions,session_loc_list):\n",
    "    data_paths=cm.extract_data_paths(recording_location=recording_location,\n",
    "                          subject=session)\n",
    "    subject=cm.Gesture(data_paths=data_paths,name=session,pixels_cm=pixels_cm)\n",
    "    print(f'session:{session}')\n",
    "    #get window of analysis for each session\n",
    "    session_index=capture_df['session'].str.contains(session)\n",
    "    capture_ini=capture_df.loc[session_index,'capture_ini'].values[0] # intial frame for analysis\n",
    "    capture_end=capture_df.loc[session_index,'capture_end'].values[0] # final frame for analysis\n",
    "    subject.video_hz=capture_df.loc[session_index,'frame_rate'].values[0]\n",
    "    subject.to_hz=to_hz\n",
    "    \n",
    "\n",
    "    display(f'Initial window frame: {capture_ini}')\n",
    "    display(f'Final window frame: {capture_end}')\n",
    "\n",
    "    subject.frames_to_matrix()\n",
    "    subject.check_data_length()\n",
    "\n",
    "    # # Cut data by window of interest\n",
    "    subject.frames=subject.frames[capture_ini:capture_end]\n",
    "    subject.time=subject.time[capture_ini:capture_end]\n",
    "    subject.data=subject.data.iloc[capture_ini:capture_end].reset_index(drop=True)\n",
    "    subject.check_data_length() # check that video data and data matrix are of equal length\n",
    "    \n",
    "    subject.downsampling()\n",
    "\n",
    "    subject.check_data_length() # check that video data and data matrix are of equal length\n",
    "\n",
    "    subject.add_head_midpoint()\n",
    "    subject.get_vectors()\n",
    "    subject.orientation_head_cricket()\n",
    "    subject.add_time()\n",
    "    subject.add_distances()\n",
    "    subject.add_temporal_data()\n",
    "    subject.categorize_behaviours(approach=approach,contact=contact)\n",
    "\n",
    "    # clean low likelihood data\n",
    "    columns=subject.data.columns[subject.data.columns.str.contains('likelihood')].drop('Tail_likelihood')\n",
    "    likelihood_index=(subject.data.loc[:,columns]<likelihood_thr).any(axis=1)\n",
    "    subject.data.loc[likelihood_index,'behaviour']=pd.NA\n",
    "    subject.add_behaviour_counter_refactor()\n",
    "\n",
    "    # clean first row\n",
    "    subject.data=subject.data.iloc[1:] # drop first row avoid border effects np.diff diferences in speeds and so on\n",
    "    subject.frames=subject.frames[1:] # drop alose first frame from video\n",
    "\n",
    "    # aggregate data for beahviour matrix\n",
    "    subject.compute_behaviour_matrix(behaviour_thr=behaviour_thr)\n",
    "\n",
    "    #clean low threshold data:\n",
    "    # change to nan behaviours under a therdhold. When gruoping by nan values  pandas excludes them\n",
    "    # cool way to filter out data in the posterior analysis\n",
    "    \n",
    "    threshold_index=(subject.behaviour_matrix['diff_time']<behaviour_thr) & (subject.behaviour_matrix['behaviour']!='contact')\n",
    "    beh_counter_index=subject.behaviour_matrix.loc[threshold_index,'beh_counter']\n",
    "    beh_counter_index=subject.data['beh_counter'].isin(beh_counter_index)\n",
    "    subject.data.loc[beh_counter_index,['behaviour']]=pd.NA    \n",
    "    \n",
    "    #compute final behaviour matrix by frouping filtered data and reccaltuling behaviour counter\n",
    "    subject.add_behaviour_counter_refactor()\n",
    "    subject.compute_behaviour_matrix(behaviour_thr=behaviour_thr)\n",
    "\n",
    "    # # #Save intial and final imaes for comprobotaions\n",
    "    # plt.imsave(f'analysed/images/first_frame_{session}'+'.jpg',subject.frames[0],format='jpg')\n",
    "    # plt.imsave(f'analysed/images/last_frame_{session}'+'.jpg',subject.frames[-1],format='jpg')\n",
    "\n",
    "    subject.save_processed_video(video_hz=to_hz,\n",
    "                                 video_name=f'analysed/videos/{session}_thr_{behaviour_thr}'+'.avi')\n",
    "    \n",
    "    # #add a session column for the final matrix\n",
    "    subject.behaviour_matrix.insert(loc=0,column='session',value=session) \n",
    "    subject.behaviour_matrix=capture_df.merge(subject.behaviour_matrix,on='session',how='inner')\n",
    "\n",
    "    subject.data.insert(loc=0,column='session',value=session)\n",
    "    subject.data=capture_df.merge(subject.data,on='session',how='inner')\n",
    "\n",
    "    for col in ['session', 'behaviour']:\n",
    "         subject.behaviour_matrix[col]=subject.behaviour_matrix[col].astype('category')\n",
    "         subject.data[col]=subject.data[col].astype('category')\n",
    "\n",
    "    # subject_list.append(subject)\n",
    "    behaviour_matrix_list.append(subject.behaviour_matrix)\n",
    "    raw_data_list.append(subject.data)\n",
    "\n",
    "behaviour_matrix_df=pd.concat(behaviour_matrix_list) # aggregated behaviour data filtered by behaviour threshold\n",
    "raw_matrix_df=pd.concat(raw_data_list) # raw data with added columns and classified behhaviour counts\n",
    "\n",
    "behaviour_matrix_df.to_excel(f'analysed/tables/behaviour_matrix_df_thr_{behaviour_thr}.xlsx',index=False)\n",
    "raw_matrix_df.to_excel(f'analysed/tables/raw_matrix_df_thr_{behaviour_thr}.xlsx',index=False)\n",
    "    "
   ]
  },
  {
   "cell_type": "code",
   "execution_count": 14,
   "metadata": {},
   "outputs": [
    {
     "data": {
      "text/plain": [
       "array([], dtype=float64)"
      ]
     },
     "execution_count": 14,
     "metadata": {},
     "output_type": "execute_result"
    }
   ],
   "source": [
    "subject.frames"
   ]
  },
  {
   "cell_type": "code",
   "execution_count": null,
   "metadata": {},
   "outputs": [],
   "source": []
  }
 ],
 "metadata": {
  "kernelspec": {
   "display_name": "analysis",
   "language": "python",
   "name": "python3"
  },
  "language_info": {
   "codemirror_mode": {
    "name": "ipython",
    "version": 3
   },
   "file_extension": ".py",
   "mimetype": "text/x-python",
   "name": "python",
   "nbconvert_exporter": "python",
   "pygments_lexer": "ipython3",
   "version": "3.11.0"
  }
 },
 "nbformat": 4,
 "nbformat_minor": 2
}
